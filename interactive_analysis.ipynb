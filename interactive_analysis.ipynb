{
  "cells": [
    {
      "cell_type": "markdown",
      "metadata": {},
      "source": [
        "# 🍎 Macronutrient Balancing Planner - Interactive Analysis\n",
        "\n",
        "This notebook provides comprehensive analysis and visualization of the RL-based meal planning system.\n",
        "\n",
        "## Features:\n",
        "- 📊 **Interactive Training Progress** - Plotly-powered visualizations\n",
        "- 🏆 **Agent Performance Comparison** - RL vs Baselines\n",
        "- 🍽️ **AI Meal Planning Demo** - Live meal generation\n",
        "- 🔍 **Food Database Explorer** - Interactive data analysis\n",
        "- 🎯 **User Profile Experimentation** - Real-time parameter testing\n",
        "\n"
      ]
    },
    {
      "cell_type": "markdown",
      "metadata": {},
      "source": [
        "## 📚 Setup & Imports"
      ]
    },
    {
      "cell_type": "code",
      "execution_count": 1,
      "metadata": {},
      "outputs": [],
      "source": [
        "# !pip install nbformat>=4.2.0"
      ]
    },
    {
      "cell_type": "code",
      "execution_count": 2,
      "metadata": {},
      "outputs": [
        {
          "name": "stdout",
          "output_type": "stream",
          "text": [
            "Successfully imported nbformat.\n",
            "nbformat version: 5.10.4\n",
            "nbformat path: c:\\Users\\User\\OneDrive\\Documents\\RDS\\Y2S3\\ML\\Macronutrient-Balancing-Planner-using-RL\\.venv\\Lib\\site-packages\\nbformat\\__init__.py\n",
            "\n",
            "Python executable being used by this notebook: c:\\Users\\User\\OneDrive\\Documents\\RDS\\Y2S3\\ML\\Macronutrient-Balancing-Planner-using-RL\\.venv\\Scripts\\python.exe\n"
          ]
        }
      ],
      "source": [
        "import sys\n",
        "try:\n",
        "    import nbformat\n",
        "    print(f\"Successfully imported nbformat.\")\n",
        "    print(f\"nbformat version: {nbformat.__version__}\")\n",
        "    print(f\"nbformat path: {nbformat.__file__}\")\n",
        "except ImportError:\n",
        "    print(\"Error: nbformat could not be imported.\")\n",
        "\n",
        "print(f\"\\nPython executable being used by this notebook: {sys.executable}\")"
      ]
    },
    {
      "cell_type": "code",
      "execution_count": 3,
      "metadata": {},
      "outputs": [
        {
          "data": {
            "text/html": [
              "        <script type=\"text/javascript\">\n",
              "        window.PlotlyConfig = {MathJaxConfig: 'local'};\n",
              "        if (window.MathJax && window.MathJax.Hub && window.MathJax.Hub.Config) {window.MathJax.Hub.Config({SVG: {font: \"STIX-Web\"}});}\n",
              "        </script>\n",
              "        <script type=\"module\">import \"https://cdn.plot.ly/plotly-3.0.1.min\"</script>\n",
              "        "
            ]
          },
          "metadata": {},
          "output_type": "display_data"
        },
        {
          "name": "stdout",
          "output_type": "stream",
          "text": [
            "✅ RL components loaded successfully!\n",
            "✅ All imports completed!\n"
          ]
        }
      ],
      "source": [
        "# Core imports\n",
        "import sys\n",
        "import os\n",
        "import numpy as np\n",
        "import pandas as pd\n",
        "import matplotlib.pyplot as plt\n",
        "import seaborn as sns\n",
        "import plotly.graph_objects as go\n",
        "import plotly.express as px\n",
        "from plotly.subplots import make_subplots\n",
        "import plotly.offline as pyo\n",
        "from pathlib import Path\n",
        "import warnings\n",
        "warnings.filterwarnings('ignore')\n",
        "\n",
        "# Enable plotly in notebook\n",
        "pyo.init_notebook_mode(connected=True)\n",
        "\n",
        "# Import our modules\n",
        "from src.config import Config\n",
        "from src.data_loader import OpenFoodFactsAPI, RealFoodDatabase\n",
        "from src.user_profile import UserProfile\n",
        "from src.evaluation import EvaluationMetrics, BaselineComparison\n",
        "\n",
        "# Try to import RL components\n",
        "try:\n",
        "    from src.environment import MealPlanningEnvironment\n",
        "    from src.agent import PPOAgent\n",
        "    RL_AVAILABLE = True\n",
        "    print(\"✅ RL components loaded successfully!\")\n",
        "except ImportError as e:\n",
        "    print(\"⚠️  RL components not available. Run training first: python main.py --episodes 10\")\n",
        "    print(f\"Error: {e}\")\n",
        "    RL_AVAILABLE = False\n",
        "\n",
        "print(\"✅ All imports completed!\")"
      ]
    },
    {
      "cell_type": "markdown",
      "metadata": {},
      "source": [
        "## ⚙️ Load Configuration & Components"
      ]
    },
    {
      "cell_type": "code",
      "execution_count": 4,
      "metadata": {},
      "outputs": [
        {
          "name": "stdout",
          "output_type": "stream",
          "text": [
            "📋 Configuration loaded\n",
            "🍕 Food database loaded with 901 items\n",
            "👤 User profile: 2682 cal/day\n",
            "✅ All components loaded!\n"
          ]
        }
      ],
      "source": [
        "# Load configuration\n",
        "config = Config.from_yaml('config.yaml')\n",
        "config.viz_interactive = True  # Enable interactive plots\n",
        "print(f\"📋 Configuration loaded\")\n",
        "\n",
        "# Setup components\n",
        "api = OpenFoodFactsAPI(config)\n",
        "database = RealFoodDatabase(api, config)\n",
        "if len(database.foods) == 0:\n",
        "    print(\"🔄 Populating food database (this may take a moment)...\")\n",
        "    database.populate_database()\n",
        "else:\n",
        "    print(f\"🍕 Food database loaded with {len(database.foods)} items\")\n",
        "\n",
        "# Import enums for UserProfile\n",
        "from src.user_profile import Gender, ActivityLevel, Goal\n",
        "\n",
        "# Create user profile with correct parameters\n",
        "user_profile = UserProfile(\n",
        "    age=30, \n",
        "    gender=Gender.MALE, \n",
        "    weight=75.0, \n",
        "    height=180.0,\n",
        "    activity_level=ActivityLevel.MODERATELY_ACTIVE\n",
        ")\n",
        "\n",
        "# Set preferences after creation\n",
        "user_profile.preferences['liked_categories'] = ['chicken', 'rice', 'vegetables']\n",
        "user_profile.preferences['disliked_foods'] = ['liver']\n",
        "\n",
        "# Set weight goal if different from default\n",
        "user_profile.goals['weight_goal'] = Goal.MAINTAIN_WEIGHT\n",
        "\n",
        "# Recalculate target calories based on goals\n",
        "user_profile.goals['target_calories'] = user_profile.calculate_daily_calories()\n",
        "\n",
        "print(f\"👤 User profile: {user_profile.goals['target_calories']} cal/day\")\n",
        "\n",
        "\n",
        "print(\"✅ All components loaded!\")"
      ]
    },
    {
      "cell_type": "markdown",
      "metadata": {},
      "source": [
        "## 🤖 Load Trained Agent"
      ]
    },
    {
      "cell_type": "code",
      "execution_count": 5,
      "metadata": {},
      "outputs": [
        {
          "name": "stdout",
          "output_type": "stream",
          "text": [
            "🏃‍♂️ Environment created: (20,) obs, (2,) actions\n",
            "🎯 Loaded trained agent with 10 episodes\n"
          ]
        }
      ],
      "source": [
        "if RL_AVAILABLE:\n",
        "    # Create environment\n",
        "    env = MealPlanningEnvironment(database, user_profile, config)\n",
        "    print(f\"🏃‍♂️ Environment created: {env.observation_space.shape} obs, {env.action_space.shape} actions\")\n",
        "    \n",
        "    # Create and load agent\n",
        "    obs_dim = env.observation_space.shape[0]\n",
        "    action_dim = env.action_space.shape[0]\n",
        "    agent = PPOAgent(obs_dim, action_dim, config)\n",
        "    \n",
        "    # Load trained model\n",
        "    model_path = \"models/trained_agent.pth\"\n",
        "    if os.path.exists(model_path):\n",
        "        agent.load(model_path)\n",
        "        training_history = agent.training_history\n",
        "        print(f\"🎯 Loaded trained agent with {len(training_history['episode_rewards'])} episodes\")\n",
        "    else:\n",
        "        print(f\"❌ No trained model found. Run: python main.py --episodes 20\")\n",
        "        training_history = None\n",
        "else:\n",
        "    print(\"⚠️  Cannot load agent - RL components not available\")\n",
        "    training_history = None\n",
        "    env = None\n",
        "    agent = None"
      ]
    },
    {
      "cell_type": "markdown",
      "metadata": {},
      "source": [
        "## 📈 Interactive Training Progress"
      ]
    },
    {
      "cell_type": "code",
      "execution_count": 6,
      "metadata": {},
      "outputs": [
        {
          "data": {
            "application/vnd.plotly.v1+json": {
              "config": {
                "plotlyServerURL": "https://plot.ly"
              },
              "data": [
                {
                  "hovertemplate": "Episode: %{x}<br>Reward: %{y:.3f}<extra></extra>",
                  "line": {
                    "color": "lightblue",
                    "width": 1
                  },
                  "marker": {
                    "size": 4
                  },
                  "mode": "lines+markers",
                  "name": "Episode Rewards",
                  "type": "scatter",
                  "x": [
                    0,
                    1,
                    2,
                    3,
                    4,
                    5,
                    6,
                    7,
                    8,
                    9
                  ],
                  "y": [
                    3.377188124616539,
                    7.13358392494195,
                    2.47282256148881,
                    5.887867815739377,
                    6.905117729181795,
                    6.4533687197780765,
                    3.0681740837586853,
                    4.0473773036179725,
                    4.051949574810888,
                    4.03190522173639
                  ]
                },
                {
                  "line": {
                    "color": "red",
                    "width": 3
                  },
                  "mode": "lines",
                  "name": "Moving Average (3)",
                  "type": "scatter",
                  "x": [
                    0,
                    1,
                    2,
                    3,
                    4,
                    5,
                    6,
                    7,
                    8,
                    9
                  ],
                  "y": {
                    "bdata": "AAAAAAAA+H8AAAAAAAD4f22g/s67TxFAlG75WLaoFECHDrCquloUQGDR8hhsqRlANVzjf/fmFUCZBbNUhhcSQAANhz+uxw1AjDFjPMssEEA=",
                    "dtype": "f8"
                  }
                }
              ],
              "layout": {
                "height": 500,
                "hovermode": "x unified",
                "template": {
                  "data": {
                    "bar": [
                      {
                        "error_x": {
                          "color": "#2a3f5f"
                        },
                        "error_y": {
                          "color": "#2a3f5f"
                        },
                        "marker": {
                          "line": {
                            "color": "white",
                            "width": 0.5
                          },
                          "pattern": {
                            "fillmode": "overlay",
                            "size": 10,
                            "solidity": 0.2
                          }
                        },
                        "type": "bar"
                      }
                    ],
                    "barpolar": [
                      {
                        "marker": {
                          "line": {
                            "color": "white",
                            "width": 0.5
                          },
                          "pattern": {
                            "fillmode": "overlay",
                            "size": 10,
                            "solidity": 0.2
                          }
                        },
                        "type": "barpolar"
                      }
                    ],
                    "carpet": [
                      {
                        "aaxis": {
                          "endlinecolor": "#2a3f5f",
                          "gridcolor": "#C8D4E3",
                          "linecolor": "#C8D4E3",
                          "minorgridcolor": "#C8D4E3",
                          "startlinecolor": "#2a3f5f"
                        },
                        "baxis": {
                          "endlinecolor": "#2a3f5f",
                          "gridcolor": "#C8D4E3",
                          "linecolor": "#C8D4E3",
                          "minorgridcolor": "#C8D4E3",
                          "startlinecolor": "#2a3f5f"
                        },
                        "type": "carpet"
                      }
                    ],
                    "choropleth": [
                      {
                        "colorbar": {
                          "outlinewidth": 0,
                          "ticks": ""
                        },
                        "type": "choropleth"
                      }
                    ],
                    "contour": [
                      {
                        "colorbar": {
                          "outlinewidth": 0,
                          "ticks": ""
                        },
                        "colorscale": [
                          [
                            0,
                            "#0d0887"
                          ],
                          [
                            0.1111111111111111,
                            "#46039f"
                          ],
                          [
                            0.2222222222222222,
                            "#7201a8"
                          ],
                          [
                            0.3333333333333333,
                            "#9c179e"
                          ],
                          [
                            0.4444444444444444,
                            "#bd3786"
                          ],
                          [
                            0.5555555555555556,
                            "#d8576b"
                          ],
                          [
                            0.6666666666666666,
                            "#ed7953"
                          ],
                          [
                            0.7777777777777778,
                            "#fb9f3a"
                          ],
                          [
                            0.8888888888888888,
                            "#fdca26"
                          ],
                          [
                            1,
                            "#f0f921"
                          ]
                        ],
                        "type": "contour"
                      }
                    ],
                    "contourcarpet": [
                      {
                        "colorbar": {
                          "outlinewidth": 0,
                          "ticks": ""
                        },
                        "type": "contourcarpet"
                      }
                    ],
                    "heatmap": [
                      {
                        "colorbar": {
                          "outlinewidth": 0,
                          "ticks": ""
                        },
                        "colorscale": [
                          [
                            0,
                            "#0d0887"
                          ],
                          [
                            0.1111111111111111,
                            "#46039f"
                          ],
                          [
                            0.2222222222222222,
                            "#7201a8"
                          ],
                          [
                            0.3333333333333333,
                            "#9c179e"
                          ],
                          [
                            0.4444444444444444,
                            "#bd3786"
                          ],
                          [
                            0.5555555555555556,
                            "#d8576b"
                          ],
                          [
                            0.6666666666666666,
                            "#ed7953"
                          ],
                          [
                            0.7777777777777778,
                            "#fb9f3a"
                          ],
                          [
                            0.8888888888888888,
                            "#fdca26"
                          ],
                          [
                            1,
                            "#f0f921"
                          ]
                        ],
                        "type": "heatmap"
                      }
                    ],
                    "histogram": [
                      {
                        "marker": {
                          "pattern": {
                            "fillmode": "overlay",
                            "size": 10,
                            "solidity": 0.2
                          }
                        },
                        "type": "histogram"
                      }
                    ],
                    "histogram2d": [
                      {
                        "colorbar": {
                          "outlinewidth": 0,
                          "ticks": ""
                        },
                        "colorscale": [
                          [
                            0,
                            "#0d0887"
                          ],
                          [
                            0.1111111111111111,
                            "#46039f"
                          ],
                          [
                            0.2222222222222222,
                            "#7201a8"
                          ],
                          [
                            0.3333333333333333,
                            "#9c179e"
                          ],
                          [
                            0.4444444444444444,
                            "#bd3786"
                          ],
                          [
                            0.5555555555555556,
                            "#d8576b"
                          ],
                          [
                            0.6666666666666666,
                            "#ed7953"
                          ],
                          [
                            0.7777777777777778,
                            "#fb9f3a"
                          ],
                          [
                            0.8888888888888888,
                            "#fdca26"
                          ],
                          [
                            1,
                            "#f0f921"
                          ]
                        ],
                        "type": "histogram2d"
                      }
                    ],
                    "histogram2dcontour": [
                      {
                        "colorbar": {
                          "outlinewidth": 0,
                          "ticks": ""
                        },
                        "colorscale": [
                          [
                            0,
                            "#0d0887"
                          ],
                          [
                            0.1111111111111111,
                            "#46039f"
                          ],
                          [
                            0.2222222222222222,
                            "#7201a8"
                          ],
                          [
                            0.3333333333333333,
                            "#9c179e"
                          ],
                          [
                            0.4444444444444444,
                            "#bd3786"
                          ],
                          [
                            0.5555555555555556,
                            "#d8576b"
                          ],
                          [
                            0.6666666666666666,
                            "#ed7953"
                          ],
                          [
                            0.7777777777777778,
                            "#fb9f3a"
                          ],
                          [
                            0.8888888888888888,
                            "#fdca26"
                          ],
                          [
                            1,
                            "#f0f921"
                          ]
                        ],
                        "type": "histogram2dcontour"
                      }
                    ],
                    "mesh3d": [
                      {
                        "colorbar": {
                          "outlinewidth": 0,
                          "ticks": ""
                        },
                        "type": "mesh3d"
                      }
                    ],
                    "parcoords": [
                      {
                        "line": {
                          "colorbar": {
                            "outlinewidth": 0,
                            "ticks": ""
                          }
                        },
                        "type": "parcoords"
                      }
                    ],
                    "pie": [
                      {
                        "automargin": true,
                        "type": "pie"
                      }
                    ],
                    "scatter": [
                      {
                        "fillpattern": {
                          "fillmode": "overlay",
                          "size": 10,
                          "solidity": 0.2
                        },
                        "type": "scatter"
                      }
                    ],
                    "scatter3d": [
                      {
                        "line": {
                          "colorbar": {
                            "outlinewidth": 0,
                            "ticks": ""
                          }
                        },
                        "marker": {
                          "colorbar": {
                            "outlinewidth": 0,
                            "ticks": ""
                          }
                        },
                        "type": "scatter3d"
                      }
                    ],
                    "scattercarpet": [
                      {
                        "marker": {
                          "colorbar": {
                            "outlinewidth": 0,
                            "ticks": ""
                          }
                        },
                        "type": "scattercarpet"
                      }
                    ],
                    "scattergeo": [
                      {
                        "marker": {
                          "colorbar": {
                            "outlinewidth": 0,
                            "ticks": ""
                          }
                        },
                        "type": "scattergeo"
                      }
                    ],
                    "scattergl": [
                      {
                        "marker": {
                          "colorbar": {
                            "outlinewidth": 0,
                            "ticks": ""
                          }
                        },
                        "type": "scattergl"
                      }
                    ],
                    "scattermap": [
                      {
                        "marker": {
                          "colorbar": {
                            "outlinewidth": 0,
                            "ticks": ""
                          }
                        },
                        "type": "scattermap"
                      }
                    ],
                    "scattermapbox": [
                      {
                        "marker": {
                          "colorbar": {
                            "outlinewidth": 0,
                            "ticks": ""
                          }
                        },
                        "type": "scattermapbox"
                      }
                    ],
                    "scatterpolar": [
                      {
                        "marker": {
                          "colorbar": {
                            "outlinewidth": 0,
                            "ticks": ""
                          }
                        },
                        "type": "scatterpolar"
                      }
                    ],
                    "scatterpolargl": [
                      {
                        "marker": {
                          "colorbar": {
                            "outlinewidth": 0,
                            "ticks": ""
                          }
                        },
                        "type": "scatterpolargl"
                      }
                    ],
                    "scatterternary": [
                      {
                        "marker": {
                          "colorbar": {
                            "outlinewidth": 0,
                            "ticks": ""
                          }
                        },
                        "type": "scatterternary"
                      }
                    ],
                    "surface": [
                      {
                        "colorbar": {
                          "outlinewidth": 0,
                          "ticks": ""
                        },
                        "colorscale": [
                          [
                            0,
                            "#0d0887"
                          ],
                          [
                            0.1111111111111111,
                            "#46039f"
                          ],
                          [
                            0.2222222222222222,
                            "#7201a8"
                          ],
                          [
                            0.3333333333333333,
                            "#9c179e"
                          ],
                          [
                            0.4444444444444444,
                            "#bd3786"
                          ],
                          [
                            0.5555555555555556,
                            "#d8576b"
                          ],
                          [
                            0.6666666666666666,
                            "#ed7953"
                          ],
                          [
                            0.7777777777777778,
                            "#fb9f3a"
                          ],
                          [
                            0.8888888888888888,
                            "#fdca26"
                          ],
                          [
                            1,
                            "#f0f921"
                          ]
                        ],
                        "type": "surface"
                      }
                    ],
                    "table": [
                      {
                        "cells": {
                          "fill": {
                            "color": "#EBF0F8"
                          },
                          "line": {
                            "color": "white"
                          }
                        },
                        "header": {
                          "fill": {
                            "color": "#C8D4E3"
                          },
                          "line": {
                            "color": "white"
                          }
                        },
                        "type": "table"
                      }
                    ]
                  },
                  "layout": {
                    "annotationdefaults": {
                      "arrowcolor": "#2a3f5f",
                      "arrowhead": 0,
                      "arrowwidth": 1
                    },
                    "autotypenumbers": "strict",
                    "coloraxis": {
                      "colorbar": {
                        "outlinewidth": 0,
                        "ticks": ""
                      }
                    },
                    "colorscale": {
                      "diverging": [
                        [
                          0,
                          "#8e0152"
                        ],
                        [
                          0.1,
                          "#c51b7d"
                        ],
                        [
                          0.2,
                          "#de77ae"
                        ],
                        [
                          0.3,
                          "#f1b6da"
                        ],
                        [
                          0.4,
                          "#fde0ef"
                        ],
                        [
                          0.5,
                          "#f7f7f7"
                        ],
                        [
                          0.6,
                          "#e6f5d0"
                        ],
                        [
                          0.7,
                          "#b8e186"
                        ],
                        [
                          0.8,
                          "#7fbc41"
                        ],
                        [
                          0.9,
                          "#4d9221"
                        ],
                        [
                          1,
                          "#276419"
                        ]
                      ],
                      "sequential": [
                        [
                          0,
                          "#0d0887"
                        ],
                        [
                          0.1111111111111111,
                          "#46039f"
                        ],
                        [
                          0.2222222222222222,
                          "#7201a8"
                        ],
                        [
                          0.3333333333333333,
                          "#9c179e"
                        ],
                        [
                          0.4444444444444444,
                          "#bd3786"
                        ],
                        [
                          0.5555555555555556,
                          "#d8576b"
                        ],
                        [
                          0.6666666666666666,
                          "#ed7953"
                        ],
                        [
                          0.7777777777777778,
                          "#fb9f3a"
                        ],
                        [
                          0.8888888888888888,
                          "#fdca26"
                        ],
                        [
                          1,
                          "#f0f921"
                        ]
                      ],
                      "sequentialminus": [
                        [
                          0,
                          "#0d0887"
                        ],
                        [
                          0.1111111111111111,
                          "#46039f"
                        ],
                        [
                          0.2222222222222222,
                          "#7201a8"
                        ],
                        [
                          0.3333333333333333,
                          "#9c179e"
                        ],
                        [
                          0.4444444444444444,
                          "#bd3786"
                        ],
                        [
                          0.5555555555555556,
                          "#d8576b"
                        ],
                        [
                          0.6666666666666666,
                          "#ed7953"
                        ],
                        [
                          0.7777777777777778,
                          "#fb9f3a"
                        ],
                        [
                          0.8888888888888888,
                          "#fdca26"
                        ],
                        [
                          1,
                          "#f0f921"
                        ]
                      ]
                    },
                    "colorway": [
                      "#636efa",
                      "#EF553B",
                      "#00cc96",
                      "#ab63fa",
                      "#FFA15A",
                      "#19d3f3",
                      "#FF6692",
                      "#B6E880",
                      "#FF97FF",
                      "#FECB52"
                    ],
                    "font": {
                      "color": "#2a3f5f"
                    },
                    "geo": {
                      "bgcolor": "white",
                      "lakecolor": "white",
                      "landcolor": "white",
                      "showlakes": true,
                      "showland": true,
                      "subunitcolor": "#C8D4E3"
                    },
                    "hoverlabel": {
                      "align": "left"
                    },
                    "hovermode": "closest",
                    "mapbox": {
                      "style": "light"
                    },
                    "paper_bgcolor": "white",
                    "plot_bgcolor": "white",
                    "polar": {
                      "angularaxis": {
                        "gridcolor": "#EBF0F8",
                        "linecolor": "#EBF0F8",
                        "ticks": ""
                      },
                      "bgcolor": "white",
                      "radialaxis": {
                        "gridcolor": "#EBF0F8",
                        "linecolor": "#EBF0F8",
                        "ticks": ""
                      }
                    },
                    "scene": {
                      "xaxis": {
                        "backgroundcolor": "white",
                        "gridcolor": "#DFE8F3",
                        "gridwidth": 2,
                        "linecolor": "#EBF0F8",
                        "showbackground": true,
                        "ticks": "",
                        "zerolinecolor": "#EBF0F8"
                      },
                      "yaxis": {
                        "backgroundcolor": "white",
                        "gridcolor": "#DFE8F3",
                        "gridwidth": 2,
                        "linecolor": "#EBF0F8",
                        "showbackground": true,
                        "ticks": "",
                        "zerolinecolor": "#EBF0F8"
                      },
                      "zaxis": {
                        "backgroundcolor": "white",
                        "gridcolor": "#DFE8F3",
                        "gridwidth": 2,
                        "linecolor": "#EBF0F8",
                        "showbackground": true,
                        "ticks": "",
                        "zerolinecolor": "#EBF0F8"
                      }
                    },
                    "shapedefaults": {
                      "line": {
                        "color": "#2a3f5f"
                      }
                    },
                    "ternary": {
                      "aaxis": {
                        "gridcolor": "#DFE8F3",
                        "linecolor": "#A2B1C6",
                        "ticks": ""
                      },
                      "baxis": {
                        "gridcolor": "#DFE8F3",
                        "linecolor": "#A2B1C6",
                        "ticks": ""
                      },
                      "bgcolor": "white",
                      "caxis": {
                        "gridcolor": "#DFE8F3",
                        "linecolor": "#A2B1C6",
                        "ticks": ""
                      }
                    },
                    "title": {
                      "x": 0.05
                    },
                    "xaxis": {
                      "automargin": true,
                      "gridcolor": "#EBF0F8",
                      "linecolor": "#EBF0F8",
                      "ticks": "",
                      "title": {
                        "standoff": 15
                      },
                      "zerolinecolor": "#EBF0F8",
                      "zerolinewidth": 2
                    },
                    "yaxis": {
                      "automargin": true,
                      "gridcolor": "#EBF0F8",
                      "linecolor": "#EBF0F8",
                      "ticks": "",
                      "title": {
                        "standoff": 15
                      },
                      "zerolinecolor": "#EBF0F8",
                      "zerolinewidth": 2
                    }
                  }
                },
                "title": {
                  "text": "🚀 Training Progress - Interactive View"
                },
                "xaxis": {
                  "title": {
                    "text": "Episode"
                  }
                },
                "yaxis": {
                  "title": {
                    "text": "Reward"
                  }
                }
              }
            },
            "text/html": [
              "<div>            <script src=\"https://cdnjs.cloudflare.com/ajax/libs/mathjax/2.7.5/MathJax.js?config=TeX-AMS-MML_SVG\"></script><script type=\"text/javascript\">if (window.MathJax && window.MathJax.Hub && window.MathJax.Hub.Config) {window.MathJax.Hub.Config({SVG: {font: \"STIX-Web\"}});}</script>                <script type=\"text/javascript\">window.PlotlyConfig = {MathJaxConfig: 'local'};</script>\n",
              "        <script charset=\"utf-8\" src=\"https://cdn.plot.ly/plotly-3.0.1.min.js\" integrity=\"sha256-oy6Be7Eh6eiQFs5M7oXuPxxm9qbJXEtTpfSI93dW16Q=\" crossorigin=\"anonymous\"></script>                <div id=\"b728c5a3-c93b-40de-8316-458802f9324c\" class=\"plotly-graph-div\" style=\"height:500px; width:100%;\"></div>            <script type=\"text/javascript\">                window.PLOTLYENV=window.PLOTLYENV || {};                                if (document.getElementById(\"b728c5a3-c93b-40de-8316-458802f9324c\")) {                    Plotly.newPlot(                        \"b728c5a3-c93b-40de-8316-458802f9324c\",                        [{\"hovertemplate\":\"Episode: %{x}\\u003cbr\\u003eReward: %{y:.3f}\\u003cextra\\u003e\\u003c\\u002fextra\\u003e\",\"line\":{\"color\":\"lightblue\",\"width\":1},\"marker\":{\"size\":4},\"mode\":\"lines+markers\",\"name\":\"Episode Rewards\",\"x\":[0,1,2,3,4,5,6,7,8,9],\"y\":[3.377188124616539,7.13358392494195,2.47282256148881,5.887867815739377,6.905117729181795,6.4533687197780765,3.0681740837586853,4.0473773036179725,4.051949574810888,4.03190522173639],\"type\":\"scatter\"},{\"line\":{\"color\":\"red\",\"width\":3},\"mode\":\"lines\",\"name\":\"Moving Average (3)\",\"x\":[0,1,2,3,4,5,6,7,8,9],\"y\":{\"dtype\":\"f8\",\"bdata\":\"AAAAAAAA+H8AAAAAAAD4f22g\\u002fs67TxFAlG75WLaoFECHDrCquloUQGDR8hhsqRlANVzjf\\u002ffmFUCZBbNUhhcSQAANhz+uxw1AjDFjPMssEEA=\"},\"type\":\"scatter\"}],                        {\"template\":{\"data\":{\"barpolar\":[{\"marker\":{\"line\":{\"color\":\"white\",\"width\":0.5},\"pattern\":{\"fillmode\":\"overlay\",\"size\":10,\"solidity\":0.2}},\"type\":\"barpolar\"}],\"bar\":[{\"error_x\":{\"color\":\"#2a3f5f\"},\"error_y\":{\"color\":\"#2a3f5f\"},\"marker\":{\"line\":{\"color\":\"white\",\"width\":0.5},\"pattern\":{\"fillmode\":\"overlay\",\"size\":10,\"solidity\":0.2}},\"type\":\"bar\"}],\"carpet\":[{\"aaxis\":{\"endlinecolor\":\"#2a3f5f\",\"gridcolor\":\"#C8D4E3\",\"linecolor\":\"#C8D4E3\",\"minorgridcolor\":\"#C8D4E3\",\"startlinecolor\":\"#2a3f5f\"},\"baxis\":{\"endlinecolor\":\"#2a3f5f\",\"gridcolor\":\"#C8D4E3\",\"linecolor\":\"#C8D4E3\",\"minorgridcolor\":\"#C8D4E3\",\"startlinecolor\":\"#2a3f5f\"},\"type\":\"carpet\"}],\"choropleth\":[{\"colorbar\":{\"outlinewidth\":0,\"ticks\":\"\"},\"type\":\"choropleth\"}],\"contourcarpet\":[{\"colorbar\":{\"outlinewidth\":0,\"ticks\":\"\"},\"type\":\"contourcarpet\"}],\"contour\":[{\"colorbar\":{\"outlinewidth\":0,\"ticks\":\"\"},\"colorscale\":[[0.0,\"#0d0887\"],[0.1111111111111111,\"#46039f\"],[0.2222222222222222,\"#7201a8\"],[0.3333333333333333,\"#9c179e\"],[0.4444444444444444,\"#bd3786\"],[0.5555555555555556,\"#d8576b\"],[0.6666666666666666,\"#ed7953\"],[0.7777777777777778,\"#fb9f3a\"],[0.8888888888888888,\"#fdca26\"],[1.0,\"#f0f921\"]],\"type\":\"contour\"}],\"heatmap\":[{\"colorbar\":{\"outlinewidth\":0,\"ticks\":\"\"},\"colorscale\":[[0.0,\"#0d0887\"],[0.1111111111111111,\"#46039f\"],[0.2222222222222222,\"#7201a8\"],[0.3333333333333333,\"#9c179e\"],[0.4444444444444444,\"#bd3786\"],[0.5555555555555556,\"#d8576b\"],[0.6666666666666666,\"#ed7953\"],[0.7777777777777778,\"#fb9f3a\"],[0.8888888888888888,\"#fdca26\"],[1.0,\"#f0f921\"]],\"type\":\"heatmap\"}],\"histogram2dcontour\":[{\"colorbar\":{\"outlinewidth\":0,\"ticks\":\"\"},\"colorscale\":[[0.0,\"#0d0887\"],[0.1111111111111111,\"#46039f\"],[0.2222222222222222,\"#7201a8\"],[0.3333333333333333,\"#9c179e\"],[0.4444444444444444,\"#bd3786\"],[0.5555555555555556,\"#d8576b\"],[0.6666666666666666,\"#ed7953\"],[0.7777777777777778,\"#fb9f3a\"],[0.8888888888888888,\"#fdca26\"],[1.0,\"#f0f921\"]],\"type\":\"histogram2dcontour\"}],\"histogram2d\":[{\"colorbar\":{\"outlinewidth\":0,\"ticks\":\"\"},\"colorscale\":[[0.0,\"#0d0887\"],[0.1111111111111111,\"#46039f\"],[0.2222222222222222,\"#7201a8\"],[0.3333333333333333,\"#9c179e\"],[0.4444444444444444,\"#bd3786\"],[0.5555555555555556,\"#d8576b\"],[0.6666666666666666,\"#ed7953\"],[0.7777777777777778,\"#fb9f3a\"],[0.8888888888888888,\"#fdca26\"],[1.0,\"#f0f921\"]],\"type\":\"histogram2d\"}],\"histogram\":[{\"marker\":{\"pattern\":{\"fillmode\":\"overlay\",\"size\":10,\"solidity\":0.2}},\"type\":\"histogram\"}],\"mesh3d\":[{\"colorbar\":{\"outlinewidth\":0,\"ticks\":\"\"},\"type\":\"mesh3d\"}],\"parcoords\":[{\"line\":{\"colorbar\":{\"outlinewidth\":0,\"ticks\":\"\"}},\"type\":\"parcoords\"}],\"pie\":[{\"automargin\":true,\"type\":\"pie\"}],\"scatter3d\":[{\"line\":{\"colorbar\":{\"outlinewidth\":0,\"ticks\":\"\"}},\"marker\":{\"colorbar\":{\"outlinewidth\":0,\"ticks\":\"\"}},\"type\":\"scatter3d\"}],\"scattercarpet\":[{\"marker\":{\"colorbar\":{\"outlinewidth\":0,\"ticks\":\"\"}},\"type\":\"scattercarpet\"}],\"scattergeo\":[{\"marker\":{\"colorbar\":{\"outlinewidth\":0,\"ticks\":\"\"}},\"type\":\"scattergeo\"}],\"scattergl\":[{\"marker\":{\"colorbar\":{\"outlinewidth\":0,\"ticks\":\"\"}},\"type\":\"scattergl\"}],\"scattermapbox\":[{\"marker\":{\"colorbar\":{\"outlinewidth\":0,\"ticks\":\"\"}},\"type\":\"scattermapbox\"}],\"scattermap\":[{\"marker\":{\"colorbar\":{\"outlinewidth\":0,\"ticks\":\"\"}},\"type\":\"scattermap\"}],\"scatterpolargl\":[{\"marker\":{\"colorbar\":{\"outlinewidth\":0,\"ticks\":\"\"}},\"type\":\"scatterpolargl\"}],\"scatterpolar\":[{\"marker\":{\"colorbar\":{\"outlinewidth\":0,\"ticks\":\"\"}},\"type\":\"scatterpolar\"}],\"scatter\":[{\"fillpattern\":{\"fillmode\":\"overlay\",\"size\":10,\"solidity\":0.2},\"type\":\"scatter\"}],\"scatterternary\":[{\"marker\":{\"colorbar\":{\"outlinewidth\":0,\"ticks\":\"\"}},\"type\":\"scatterternary\"}],\"surface\":[{\"colorbar\":{\"outlinewidth\":0,\"ticks\":\"\"},\"colorscale\":[[0.0,\"#0d0887\"],[0.1111111111111111,\"#46039f\"],[0.2222222222222222,\"#7201a8\"],[0.3333333333333333,\"#9c179e\"],[0.4444444444444444,\"#bd3786\"],[0.5555555555555556,\"#d8576b\"],[0.6666666666666666,\"#ed7953\"],[0.7777777777777778,\"#fb9f3a\"],[0.8888888888888888,\"#fdca26\"],[1.0,\"#f0f921\"]],\"type\":\"surface\"}],\"table\":[{\"cells\":{\"fill\":{\"color\":\"#EBF0F8\"},\"line\":{\"color\":\"white\"}},\"header\":{\"fill\":{\"color\":\"#C8D4E3\"},\"line\":{\"color\":\"white\"}},\"type\":\"table\"}]},\"layout\":{\"annotationdefaults\":{\"arrowcolor\":\"#2a3f5f\",\"arrowhead\":0,\"arrowwidth\":1},\"autotypenumbers\":\"strict\",\"coloraxis\":{\"colorbar\":{\"outlinewidth\":0,\"ticks\":\"\"}},\"colorscale\":{\"diverging\":[[0,\"#8e0152\"],[0.1,\"#c51b7d\"],[0.2,\"#de77ae\"],[0.3,\"#f1b6da\"],[0.4,\"#fde0ef\"],[0.5,\"#f7f7f7\"],[0.6,\"#e6f5d0\"],[0.7,\"#b8e186\"],[0.8,\"#7fbc41\"],[0.9,\"#4d9221\"],[1,\"#276419\"]],\"sequential\":[[0.0,\"#0d0887\"],[0.1111111111111111,\"#46039f\"],[0.2222222222222222,\"#7201a8\"],[0.3333333333333333,\"#9c179e\"],[0.4444444444444444,\"#bd3786\"],[0.5555555555555556,\"#d8576b\"],[0.6666666666666666,\"#ed7953\"],[0.7777777777777778,\"#fb9f3a\"],[0.8888888888888888,\"#fdca26\"],[1.0,\"#f0f921\"]],\"sequentialminus\":[[0.0,\"#0d0887\"],[0.1111111111111111,\"#46039f\"],[0.2222222222222222,\"#7201a8\"],[0.3333333333333333,\"#9c179e\"],[0.4444444444444444,\"#bd3786\"],[0.5555555555555556,\"#d8576b\"],[0.6666666666666666,\"#ed7953\"],[0.7777777777777778,\"#fb9f3a\"],[0.8888888888888888,\"#fdca26\"],[1.0,\"#f0f921\"]]},\"colorway\":[\"#636efa\",\"#EF553B\",\"#00cc96\",\"#ab63fa\",\"#FFA15A\",\"#19d3f3\",\"#FF6692\",\"#B6E880\",\"#FF97FF\",\"#FECB52\"],\"font\":{\"color\":\"#2a3f5f\"},\"geo\":{\"bgcolor\":\"white\",\"lakecolor\":\"white\",\"landcolor\":\"white\",\"showlakes\":true,\"showland\":true,\"subunitcolor\":\"#C8D4E3\"},\"hoverlabel\":{\"align\":\"left\"},\"hovermode\":\"closest\",\"mapbox\":{\"style\":\"light\"},\"paper_bgcolor\":\"white\",\"plot_bgcolor\":\"white\",\"polar\":{\"angularaxis\":{\"gridcolor\":\"#EBF0F8\",\"linecolor\":\"#EBF0F8\",\"ticks\":\"\"},\"bgcolor\":\"white\",\"radialaxis\":{\"gridcolor\":\"#EBF0F8\",\"linecolor\":\"#EBF0F8\",\"ticks\":\"\"}},\"scene\":{\"xaxis\":{\"backgroundcolor\":\"white\",\"gridcolor\":\"#DFE8F3\",\"gridwidth\":2,\"linecolor\":\"#EBF0F8\",\"showbackground\":true,\"ticks\":\"\",\"zerolinecolor\":\"#EBF0F8\"},\"yaxis\":{\"backgroundcolor\":\"white\",\"gridcolor\":\"#DFE8F3\",\"gridwidth\":2,\"linecolor\":\"#EBF0F8\",\"showbackground\":true,\"ticks\":\"\",\"zerolinecolor\":\"#EBF0F8\"},\"zaxis\":{\"backgroundcolor\":\"white\",\"gridcolor\":\"#DFE8F3\",\"gridwidth\":2,\"linecolor\":\"#EBF0F8\",\"showbackground\":true,\"ticks\":\"\",\"zerolinecolor\":\"#EBF0F8\"}},\"shapedefaults\":{\"line\":{\"color\":\"#2a3f5f\"}},\"ternary\":{\"aaxis\":{\"gridcolor\":\"#DFE8F3\",\"linecolor\":\"#A2B1C6\",\"ticks\":\"\"},\"baxis\":{\"gridcolor\":\"#DFE8F3\",\"linecolor\":\"#A2B1C6\",\"ticks\":\"\"},\"bgcolor\":\"white\",\"caxis\":{\"gridcolor\":\"#DFE8F3\",\"linecolor\":\"#A2B1C6\",\"ticks\":\"\"}},\"title\":{\"x\":0.05},\"xaxis\":{\"automargin\":true,\"gridcolor\":\"#EBF0F8\",\"linecolor\":\"#EBF0F8\",\"ticks\":\"\",\"title\":{\"standoff\":15},\"zerolinecolor\":\"#EBF0F8\",\"zerolinewidth\":2},\"yaxis\":{\"automargin\":true,\"gridcolor\":\"#EBF0F8\",\"linecolor\":\"#EBF0F8\",\"ticks\":\"\",\"title\":{\"standoff\":15},\"zerolinecolor\":\"#EBF0F8\",\"zerolinewidth\":2}}},\"title\":{\"text\":\"\\ud83d\\ude80 Training Progress - Interactive View\"},\"xaxis\":{\"title\":{\"text\":\"Episode\"}},\"yaxis\":{\"title\":{\"text\":\"Reward\"}},\"hovermode\":\"x unified\",\"height\":500},                        {\"responsive\": true}                    ).then(function(){\n",
              "                            \n",
              "var gd = document.getElementById('b728c5a3-c93b-40de-8316-458802f9324c');\n",
              "var x = new MutationObserver(function (mutations, observer) {{\n",
              "        var display = window.getComputedStyle(gd).display;\n",
              "        if (!display || display === 'none') {{\n",
              "            console.log([gd, 'removed!']);\n",
              "            Plotly.purge(gd);\n",
              "            observer.disconnect();\n",
              "        }}\n",
              "}});\n",
              "\n",
              "// Listen for the removal of the full notebook cells\n",
              "var notebookContainer = gd.closest('#notebook-container');\n",
              "if (notebookContainer) {{\n",
              "    x.observe(notebookContainer, {childList: true});\n",
              "}}\n",
              "\n",
              "// Listen for the clearing of the current output cell\n",
              "var outputEl = gd.closest('.output');\n",
              "if (outputEl) {{\n",
              "    x.observe(outputEl, {childList: true});\n",
              "}}\n",
              "\n",
              "                        })                };            </script>        </div>"
            ]
          },
          "metadata": {},
          "output_type": "display_data"
        },
        {
          "name": "stdout",
          "output_type": "stream",
          "text": [
            "\n",
            "==================================================\n",
            "📊 TRAINING STATISTICS\n",
            "==================================================\n",
            "Total Episodes: 10\n",
            "Final Reward: 4.032\n",
            "Best Reward: 7.134\n",
            "Average Reward: 4.743\n",
            "Improvement: 19.4%\n"
          ]
        }
      ],
      "source": [
        "if training_history and len(training_history['episode_rewards']) > 0:\n",
        "    # Create interactive training progress plot\n",
        "    rewards = training_history['episode_rewards']\n",
        "    episodes = list(range(len(rewards)))\n",
        "    \n",
        "    # Moving average for smoothing\n",
        "    window = min(10, len(rewards) // 3)\n",
        "    if window > 1:\n",
        "        moving_avg = pd.Series(rewards).rolling(window=window).mean()\n",
        "    else:\n",
        "        moving_avg = rewards\n",
        "    \n",
        "    fig = go.Figure()\n",
        "    \n",
        "    # Raw rewards\n",
        "    fig.add_trace(go.Scatter(\n",
        "        x=episodes, y=rewards,\n",
        "        mode='lines+markers',\n",
        "        name='Episode Rewards',\n",
        "        line=dict(color='lightblue', width=1),\n",
        "        marker=dict(size=4),\n",
        "        hovertemplate='Episode: %{x}<br>Reward: %{y:.3f}<extra></extra>'\n",
        "    ))\n",
        "    \n",
        "    # Moving average\n",
        "    if window > 1:\n",
        "        fig.add_trace(go.Scatter(\n",
        "            x=episodes, y=moving_avg,\n",
        "            mode='lines',\n",
        "            name=f'Moving Average ({window})',\n",
        "            line=dict(color='red', width=3)\n",
        "        ))\n",
        "    \n",
        "    fig.update_layout(\n",
        "        title='🚀 Training Progress - Interactive View',\n",
        "        xaxis_title='Episode',\n",
        "        yaxis_title='Reward',\n",
        "        hovermode='x unified',\n",
        "        height=500,\n",
        "        template='plotly_white'\n",
        "    )\n",
        "    \n",
        "    fig.show()\n",
        "    \n",
        "    # Training statistics\n",
        "    print(\"\\n\" + \"=\"*50)\n",
        "    print(\"📊 TRAINING STATISTICS\")\n",
        "    print(\"=\"*50)\n",
        "    print(f\"Total Episodes: {len(rewards)}\")\n",
        "    print(f\"Final Reward: {rewards[-1]:.3f}\")\n",
        "    print(f\"Best Reward: {max(rewards):.3f}\")\n",
        "    print(f\"Average Reward: {np.mean(rewards):.3f}\")\n",
        "    print(f\"Improvement: {((rewards[-1] - rewards[0]) / abs(rewards[0]) * 100 if rewards[0] != 0 else 0):.1f}%\")\n",
        "else:\n",
        "    print(\"❌ No training history available. Run training first.\")"
      ]
    },
    {
      "cell_type": "markdown",
      "metadata": {},
      "source": [
        "## 🏆 Agent Performance Comparison"
      ]
    },
    {
      "cell_type": "code",
      "execution_count": 7,
      "metadata": {},
      "outputs": [
        {
          "name": "stdout",
          "output_type": "stream",
          "text": [
            "🔄 Running agent evaluation and baseline comparison...\n",
            "Evaluating RL agent...\n",
            "Running baseline comparisons...\n"
          ]
        },
        {
          "data": {
            "application/vnd.plotly.v1+json": {
              "config": {
                "plotlyServerURL": "https://plot.ly"
              },
              "data": [
                {
                  "marker": {
                    "color": [
                      "green",
                      "lightcoral",
                      "lightcoral",
                      "lightcoral"
                    ]
                  },
                  "name": "Avg Reward",
                  "text": [
                    "23.30",
                    "-52.77",
                    "-92.23",
                    "-192.74"
                  ],
                  "textposition": "auto",
                  "type": "bar",
                  "x": [
                    "RL Agent",
                    "Random",
                    "Greedy",
                    "Heuristic"
                  ],
                  "xaxis": "x",
                  "y": [
                    23.295580782423578,
                    -52.76919872032323,
                    -92.23062101002077,
                    -192.7350482810952
                  ],
                  "yaxis": "y"
                },
                {
                  "marker": {
                    "color": [
                      "green",
                      "lightcoral",
                      "lightcoral",
                      "lightcoral"
                    ]
                  },
                  "name": "Success Rate (%)",
                  "text": [
                    "100.0%",
                    "0.0%",
                    "0.0%",
                    "0.0%"
                  ],
                  "textposition": "auto",
                  "type": "bar",
                  "x": [
                    "RL Agent",
                    "Random",
                    "Greedy",
                    "Heuristic"
                  ],
                  "xaxis": "x2",
                  "y": [
                    100,
                    0,
                    0,
                    0
                  ],
                  "yaxis": "y2"
                }
              ],
              "layout": {
                "annotations": [
                  {
                    "font": {
                      "size": 16
                    },
                    "showarrow": false,
                    "text": "Average Reward Comparison",
                    "x": 0.225,
                    "xanchor": "center",
                    "xref": "paper",
                    "y": 1,
                    "yanchor": "bottom",
                    "yref": "paper"
                  },
                  {
                    "font": {
                      "size": 16
                    },
                    "showarrow": false,
                    "text": "Success Rate Comparison",
                    "x": 0.775,
                    "xanchor": "center",
                    "xref": "paper",
                    "y": 1,
                    "yanchor": "bottom",
                    "yref": "paper"
                  }
                ],
                "height": 500,
                "showlegend": false,
                "template": {
                  "data": {
                    "bar": [
                      {
                        "error_x": {
                          "color": "#2a3f5f"
                        },
                        "error_y": {
                          "color": "#2a3f5f"
                        },
                        "marker": {
                          "line": {
                            "color": "white",
                            "width": 0.5
                          },
                          "pattern": {
                            "fillmode": "overlay",
                            "size": 10,
                            "solidity": 0.2
                          }
                        },
                        "type": "bar"
                      }
                    ],
                    "barpolar": [
                      {
                        "marker": {
                          "line": {
                            "color": "white",
                            "width": 0.5
                          },
                          "pattern": {
                            "fillmode": "overlay",
                            "size": 10,
                            "solidity": 0.2
                          }
                        },
                        "type": "barpolar"
                      }
                    ],
                    "carpet": [
                      {
                        "aaxis": {
                          "endlinecolor": "#2a3f5f",
                          "gridcolor": "#C8D4E3",
                          "linecolor": "#C8D4E3",
                          "minorgridcolor": "#C8D4E3",
                          "startlinecolor": "#2a3f5f"
                        },
                        "baxis": {
                          "endlinecolor": "#2a3f5f",
                          "gridcolor": "#C8D4E3",
                          "linecolor": "#C8D4E3",
                          "minorgridcolor": "#C8D4E3",
                          "startlinecolor": "#2a3f5f"
                        },
                        "type": "carpet"
                      }
                    ],
                    "choropleth": [
                      {
                        "colorbar": {
                          "outlinewidth": 0,
                          "ticks": ""
                        },
                        "type": "choropleth"
                      }
                    ],
                    "contour": [
                      {
                        "colorbar": {
                          "outlinewidth": 0,
                          "ticks": ""
                        },
                        "colorscale": [
                          [
                            0,
                            "#0d0887"
                          ],
                          [
                            0.1111111111111111,
                            "#46039f"
                          ],
                          [
                            0.2222222222222222,
                            "#7201a8"
                          ],
                          [
                            0.3333333333333333,
                            "#9c179e"
                          ],
                          [
                            0.4444444444444444,
                            "#bd3786"
                          ],
                          [
                            0.5555555555555556,
                            "#d8576b"
                          ],
                          [
                            0.6666666666666666,
                            "#ed7953"
                          ],
                          [
                            0.7777777777777778,
                            "#fb9f3a"
                          ],
                          [
                            0.8888888888888888,
                            "#fdca26"
                          ],
                          [
                            1,
                            "#f0f921"
                          ]
                        ],
                        "type": "contour"
                      }
                    ],
                    "contourcarpet": [
                      {
                        "colorbar": {
                          "outlinewidth": 0,
                          "ticks": ""
                        },
                        "type": "contourcarpet"
                      }
                    ],
                    "heatmap": [
                      {
                        "colorbar": {
                          "outlinewidth": 0,
                          "ticks": ""
                        },
                        "colorscale": [
                          [
                            0,
                            "#0d0887"
                          ],
                          [
                            0.1111111111111111,
                            "#46039f"
                          ],
                          [
                            0.2222222222222222,
                            "#7201a8"
                          ],
                          [
                            0.3333333333333333,
                            "#9c179e"
                          ],
                          [
                            0.4444444444444444,
                            "#bd3786"
                          ],
                          [
                            0.5555555555555556,
                            "#d8576b"
                          ],
                          [
                            0.6666666666666666,
                            "#ed7953"
                          ],
                          [
                            0.7777777777777778,
                            "#fb9f3a"
                          ],
                          [
                            0.8888888888888888,
                            "#fdca26"
                          ],
                          [
                            1,
                            "#f0f921"
                          ]
                        ],
                        "type": "heatmap"
                      }
                    ],
                    "histogram": [
                      {
                        "marker": {
                          "pattern": {
                            "fillmode": "overlay",
                            "size": 10,
                            "solidity": 0.2
                          }
                        },
                        "type": "histogram"
                      }
                    ],
                    "histogram2d": [
                      {
                        "colorbar": {
                          "outlinewidth": 0,
                          "ticks": ""
                        },
                        "colorscale": [
                          [
                            0,
                            "#0d0887"
                          ],
                          [
                            0.1111111111111111,
                            "#46039f"
                          ],
                          [
                            0.2222222222222222,
                            "#7201a8"
                          ],
                          [
                            0.3333333333333333,
                            "#9c179e"
                          ],
                          [
                            0.4444444444444444,
                            "#bd3786"
                          ],
                          [
                            0.5555555555555556,
                            "#d8576b"
                          ],
                          [
                            0.6666666666666666,
                            "#ed7953"
                          ],
                          [
                            0.7777777777777778,
                            "#fb9f3a"
                          ],
                          [
                            0.8888888888888888,
                            "#fdca26"
                          ],
                          [
                            1,
                            "#f0f921"
                          ]
                        ],
                        "type": "histogram2d"
                      }
                    ],
                    "histogram2dcontour": [
                      {
                        "colorbar": {
                          "outlinewidth": 0,
                          "ticks": ""
                        },
                        "colorscale": [
                          [
                            0,
                            "#0d0887"
                          ],
                          [
                            0.1111111111111111,
                            "#46039f"
                          ],
                          [
                            0.2222222222222222,
                            "#7201a8"
                          ],
                          [
                            0.3333333333333333,
                            "#9c179e"
                          ],
                          [
                            0.4444444444444444,
                            "#bd3786"
                          ],
                          [
                            0.5555555555555556,
                            "#d8576b"
                          ],
                          [
                            0.6666666666666666,
                            "#ed7953"
                          ],
                          [
                            0.7777777777777778,
                            "#fb9f3a"
                          ],
                          [
                            0.8888888888888888,
                            "#fdca26"
                          ],
                          [
                            1,
                            "#f0f921"
                          ]
                        ],
                        "type": "histogram2dcontour"
                      }
                    ],
                    "mesh3d": [
                      {
                        "colorbar": {
                          "outlinewidth": 0,
                          "ticks": ""
                        },
                        "type": "mesh3d"
                      }
                    ],
                    "parcoords": [
                      {
                        "line": {
                          "colorbar": {
                            "outlinewidth": 0,
                            "ticks": ""
                          }
                        },
                        "type": "parcoords"
                      }
                    ],
                    "pie": [
                      {
                        "automargin": true,
                        "type": "pie"
                      }
                    ],
                    "scatter": [
                      {
                        "fillpattern": {
                          "fillmode": "overlay",
                          "size": 10,
                          "solidity": 0.2
                        },
                        "type": "scatter"
                      }
                    ],
                    "scatter3d": [
                      {
                        "line": {
                          "colorbar": {
                            "outlinewidth": 0,
                            "ticks": ""
                          }
                        },
                        "marker": {
                          "colorbar": {
                            "outlinewidth": 0,
                            "ticks": ""
                          }
                        },
                        "type": "scatter3d"
                      }
                    ],
                    "scattercarpet": [
                      {
                        "marker": {
                          "colorbar": {
                            "outlinewidth": 0,
                            "ticks": ""
                          }
                        },
                        "type": "scattercarpet"
                      }
                    ],
                    "scattergeo": [
                      {
                        "marker": {
                          "colorbar": {
                            "outlinewidth": 0,
                            "ticks": ""
                          }
                        },
                        "type": "scattergeo"
                      }
                    ],
                    "scattergl": [
                      {
                        "marker": {
                          "colorbar": {
                            "outlinewidth": 0,
                            "ticks": ""
                          }
                        },
                        "type": "scattergl"
                      }
                    ],
                    "scattermap": [
                      {
                        "marker": {
                          "colorbar": {
                            "outlinewidth": 0,
                            "ticks": ""
                          }
                        },
                        "type": "scattermap"
                      }
                    ],
                    "scattermapbox": [
                      {
                        "marker": {
                          "colorbar": {
                            "outlinewidth": 0,
                            "ticks": ""
                          }
                        },
                        "type": "scattermapbox"
                      }
                    ],
                    "scatterpolar": [
                      {
                        "marker": {
                          "colorbar": {
                            "outlinewidth": 0,
                            "ticks": ""
                          }
                        },
                        "type": "scatterpolar"
                      }
                    ],
                    "scatterpolargl": [
                      {
                        "marker": {
                          "colorbar": {
                            "outlinewidth": 0,
                            "ticks": ""
                          }
                        },
                        "type": "scatterpolargl"
                      }
                    ],
                    "scatterternary": [
                      {
                        "marker": {
                          "colorbar": {
                            "outlinewidth": 0,
                            "ticks": ""
                          }
                        },
                        "type": "scatterternary"
                      }
                    ],
                    "surface": [
                      {
                        "colorbar": {
                          "outlinewidth": 0,
                          "ticks": ""
                        },
                        "colorscale": [
                          [
                            0,
                            "#0d0887"
                          ],
                          [
                            0.1111111111111111,
                            "#46039f"
                          ],
                          [
                            0.2222222222222222,
                            "#7201a8"
                          ],
                          [
                            0.3333333333333333,
                            "#9c179e"
                          ],
                          [
                            0.4444444444444444,
                            "#bd3786"
                          ],
                          [
                            0.5555555555555556,
                            "#d8576b"
                          ],
                          [
                            0.6666666666666666,
                            "#ed7953"
                          ],
                          [
                            0.7777777777777778,
                            "#fb9f3a"
                          ],
                          [
                            0.8888888888888888,
                            "#fdca26"
                          ],
                          [
                            1,
                            "#f0f921"
                          ]
                        ],
                        "type": "surface"
                      }
                    ],
                    "table": [
                      {
                        "cells": {
                          "fill": {
                            "color": "#EBF0F8"
                          },
                          "line": {
                            "color": "white"
                          }
                        },
                        "header": {
                          "fill": {
                            "color": "#C8D4E3"
                          },
                          "line": {
                            "color": "white"
                          }
                        },
                        "type": "table"
                      }
                    ]
                  },
                  "layout": {
                    "annotationdefaults": {
                      "arrowcolor": "#2a3f5f",
                      "arrowhead": 0,
                      "arrowwidth": 1
                    },
                    "autotypenumbers": "strict",
                    "coloraxis": {
                      "colorbar": {
                        "outlinewidth": 0,
                        "ticks": ""
                      }
                    },
                    "colorscale": {
                      "diverging": [
                        [
                          0,
                          "#8e0152"
                        ],
                        [
                          0.1,
                          "#c51b7d"
                        ],
                        [
                          0.2,
                          "#de77ae"
                        ],
                        [
                          0.3,
                          "#f1b6da"
                        ],
                        [
                          0.4,
                          "#fde0ef"
                        ],
                        [
                          0.5,
                          "#f7f7f7"
                        ],
                        [
                          0.6,
                          "#e6f5d0"
                        ],
                        [
                          0.7,
                          "#b8e186"
                        ],
                        [
                          0.8,
                          "#7fbc41"
                        ],
                        [
                          0.9,
                          "#4d9221"
                        ],
                        [
                          1,
                          "#276419"
                        ]
                      ],
                      "sequential": [
                        [
                          0,
                          "#0d0887"
                        ],
                        [
                          0.1111111111111111,
                          "#46039f"
                        ],
                        [
                          0.2222222222222222,
                          "#7201a8"
                        ],
                        [
                          0.3333333333333333,
                          "#9c179e"
                        ],
                        [
                          0.4444444444444444,
                          "#bd3786"
                        ],
                        [
                          0.5555555555555556,
                          "#d8576b"
                        ],
                        [
                          0.6666666666666666,
                          "#ed7953"
                        ],
                        [
                          0.7777777777777778,
                          "#fb9f3a"
                        ],
                        [
                          0.8888888888888888,
                          "#fdca26"
                        ],
                        [
                          1,
                          "#f0f921"
                        ]
                      ],
                      "sequentialminus": [
                        [
                          0,
                          "#0d0887"
                        ],
                        [
                          0.1111111111111111,
                          "#46039f"
                        ],
                        [
                          0.2222222222222222,
                          "#7201a8"
                        ],
                        [
                          0.3333333333333333,
                          "#9c179e"
                        ],
                        [
                          0.4444444444444444,
                          "#bd3786"
                        ],
                        [
                          0.5555555555555556,
                          "#d8576b"
                        ],
                        [
                          0.6666666666666666,
                          "#ed7953"
                        ],
                        [
                          0.7777777777777778,
                          "#fb9f3a"
                        ],
                        [
                          0.8888888888888888,
                          "#fdca26"
                        ],
                        [
                          1,
                          "#f0f921"
                        ]
                      ]
                    },
                    "colorway": [
                      "#636efa",
                      "#EF553B",
                      "#00cc96",
                      "#ab63fa",
                      "#FFA15A",
                      "#19d3f3",
                      "#FF6692",
                      "#B6E880",
                      "#FF97FF",
                      "#FECB52"
                    ],
                    "font": {
                      "color": "#2a3f5f"
                    },
                    "geo": {
                      "bgcolor": "white",
                      "lakecolor": "white",
                      "landcolor": "white",
                      "showlakes": true,
                      "showland": true,
                      "subunitcolor": "#C8D4E3"
                    },
                    "hoverlabel": {
                      "align": "left"
                    },
                    "hovermode": "closest",
                    "mapbox": {
                      "style": "light"
                    },
                    "paper_bgcolor": "white",
                    "plot_bgcolor": "white",
                    "polar": {
                      "angularaxis": {
                        "gridcolor": "#EBF0F8",
                        "linecolor": "#EBF0F8",
                        "ticks": ""
                      },
                      "bgcolor": "white",
                      "radialaxis": {
                        "gridcolor": "#EBF0F8",
                        "linecolor": "#EBF0F8",
                        "ticks": ""
                      }
                    },
                    "scene": {
                      "xaxis": {
                        "backgroundcolor": "white",
                        "gridcolor": "#DFE8F3",
                        "gridwidth": 2,
                        "linecolor": "#EBF0F8",
                        "showbackground": true,
                        "ticks": "",
                        "zerolinecolor": "#EBF0F8"
                      },
                      "yaxis": {
                        "backgroundcolor": "white",
                        "gridcolor": "#DFE8F3",
                        "gridwidth": 2,
                        "linecolor": "#EBF0F8",
                        "showbackground": true,
                        "ticks": "",
                        "zerolinecolor": "#EBF0F8"
                      },
                      "zaxis": {
                        "backgroundcolor": "white",
                        "gridcolor": "#DFE8F3",
                        "gridwidth": 2,
                        "linecolor": "#EBF0F8",
                        "showbackground": true,
                        "ticks": "",
                        "zerolinecolor": "#EBF0F8"
                      }
                    },
                    "shapedefaults": {
                      "line": {
                        "color": "#2a3f5f"
                      }
                    },
                    "ternary": {
                      "aaxis": {
                        "gridcolor": "#DFE8F3",
                        "linecolor": "#A2B1C6",
                        "ticks": ""
                      },
                      "baxis": {
                        "gridcolor": "#DFE8F3",
                        "linecolor": "#A2B1C6",
                        "ticks": ""
                      },
                      "bgcolor": "white",
                      "caxis": {
                        "gridcolor": "#DFE8F3",
                        "linecolor": "#A2B1C6",
                        "ticks": ""
                      }
                    },
                    "title": {
                      "x": 0.05
                    },
                    "xaxis": {
                      "automargin": true,
                      "gridcolor": "#EBF0F8",
                      "linecolor": "#EBF0F8",
                      "ticks": "",
                      "title": {
                        "standoff": 15
                      },
                      "zerolinecolor": "#EBF0F8",
                      "zerolinewidth": 2
                    },
                    "yaxis": {
                      "automargin": true,
                      "gridcolor": "#EBF0F8",
                      "linecolor": "#EBF0F8",
                      "ticks": "",
                      "title": {
                        "standoff": 15
                      },
                      "zerolinecolor": "#EBF0F8",
                      "zerolinewidth": 2
                    }
                  }
                },
                "title": {
                  "text": "🏆 Agent Performance Comparison"
                },
                "xaxis": {
                  "anchor": "y",
                  "domain": [
                    0,
                    0.45
                  ]
                },
                "xaxis2": {
                  "anchor": "y2",
                  "domain": [
                    0.55,
                    1
                  ]
                },
                "yaxis": {
                  "anchor": "x",
                  "domain": [
                    0,
                    1
                  ]
                },
                "yaxis2": {
                  "anchor": "x2",
                  "domain": [
                    0,
                    1
                  ]
                }
              }
            },
            "text/html": [
              "<div>            <script src=\"https://cdnjs.cloudflare.com/ajax/libs/mathjax/2.7.5/MathJax.js?config=TeX-AMS-MML_SVG\"></script><script type=\"text/javascript\">if (window.MathJax && window.MathJax.Hub && window.MathJax.Hub.Config) {window.MathJax.Hub.Config({SVG: {font: \"STIX-Web\"}});}</script>                <script type=\"text/javascript\">window.PlotlyConfig = {MathJaxConfig: 'local'};</script>\n",
              "        <script charset=\"utf-8\" src=\"https://cdn.plot.ly/plotly-3.0.1.min.js\" integrity=\"sha256-oy6Be7Eh6eiQFs5M7oXuPxxm9qbJXEtTpfSI93dW16Q=\" crossorigin=\"anonymous\"></script>                <div id=\"c2d53b61-424d-43ee-a7c2-99efa3f7f14c\" class=\"plotly-graph-div\" style=\"height:500px; width:100%;\"></div>            <script type=\"text/javascript\">                window.PLOTLYENV=window.PLOTLYENV || {};                                if (document.getElementById(\"c2d53b61-424d-43ee-a7c2-99efa3f7f14c\")) {                    Plotly.newPlot(                        \"c2d53b61-424d-43ee-a7c2-99efa3f7f14c\",                        [{\"marker\":{\"color\":[\"green\",\"lightcoral\",\"lightcoral\",\"lightcoral\"]},\"name\":\"Avg Reward\",\"text\":[\"23.30\",\"-52.77\",\"-92.23\",\"-192.74\"],\"textposition\":\"auto\",\"x\":[\"RL Agent\",\"Random\",\"Greedy\",\"Heuristic\"],\"y\":[23.295580782423578,-52.76919872032323,-92.23062101002077,-192.7350482810952],\"type\":\"bar\",\"xaxis\":\"x\",\"yaxis\":\"y\"},{\"marker\":{\"color\":[\"green\",\"lightcoral\",\"lightcoral\",\"lightcoral\"]},\"name\":\"Success Rate (%)\",\"text\":[\"100.0%\",\"0.0%\",\"0.0%\",\"0.0%\"],\"textposition\":\"auto\",\"x\":[\"RL Agent\",\"Random\",\"Greedy\",\"Heuristic\"],\"y\":[100.0,0.0,0.0,0.0],\"type\":\"bar\",\"xaxis\":\"x2\",\"yaxis\":\"y2\"}],                        {\"template\":{\"data\":{\"barpolar\":[{\"marker\":{\"line\":{\"color\":\"white\",\"width\":0.5},\"pattern\":{\"fillmode\":\"overlay\",\"size\":10,\"solidity\":0.2}},\"type\":\"barpolar\"}],\"bar\":[{\"error_x\":{\"color\":\"#2a3f5f\"},\"error_y\":{\"color\":\"#2a3f5f\"},\"marker\":{\"line\":{\"color\":\"white\",\"width\":0.5},\"pattern\":{\"fillmode\":\"overlay\",\"size\":10,\"solidity\":0.2}},\"type\":\"bar\"}],\"carpet\":[{\"aaxis\":{\"endlinecolor\":\"#2a3f5f\",\"gridcolor\":\"#C8D4E3\",\"linecolor\":\"#C8D4E3\",\"minorgridcolor\":\"#C8D4E3\",\"startlinecolor\":\"#2a3f5f\"},\"baxis\":{\"endlinecolor\":\"#2a3f5f\",\"gridcolor\":\"#C8D4E3\",\"linecolor\":\"#C8D4E3\",\"minorgridcolor\":\"#C8D4E3\",\"startlinecolor\":\"#2a3f5f\"},\"type\":\"carpet\"}],\"choropleth\":[{\"colorbar\":{\"outlinewidth\":0,\"ticks\":\"\"},\"type\":\"choropleth\"}],\"contourcarpet\":[{\"colorbar\":{\"outlinewidth\":0,\"ticks\":\"\"},\"type\":\"contourcarpet\"}],\"contour\":[{\"colorbar\":{\"outlinewidth\":0,\"ticks\":\"\"},\"colorscale\":[[0.0,\"#0d0887\"],[0.1111111111111111,\"#46039f\"],[0.2222222222222222,\"#7201a8\"],[0.3333333333333333,\"#9c179e\"],[0.4444444444444444,\"#bd3786\"],[0.5555555555555556,\"#d8576b\"],[0.6666666666666666,\"#ed7953\"],[0.7777777777777778,\"#fb9f3a\"],[0.8888888888888888,\"#fdca26\"],[1.0,\"#f0f921\"]],\"type\":\"contour\"}],\"heatmap\":[{\"colorbar\":{\"outlinewidth\":0,\"ticks\":\"\"},\"colorscale\":[[0.0,\"#0d0887\"],[0.1111111111111111,\"#46039f\"],[0.2222222222222222,\"#7201a8\"],[0.3333333333333333,\"#9c179e\"],[0.4444444444444444,\"#bd3786\"],[0.5555555555555556,\"#d8576b\"],[0.6666666666666666,\"#ed7953\"],[0.7777777777777778,\"#fb9f3a\"],[0.8888888888888888,\"#fdca26\"],[1.0,\"#f0f921\"]],\"type\":\"heatmap\"}],\"histogram2dcontour\":[{\"colorbar\":{\"outlinewidth\":0,\"ticks\":\"\"},\"colorscale\":[[0.0,\"#0d0887\"],[0.1111111111111111,\"#46039f\"],[0.2222222222222222,\"#7201a8\"],[0.3333333333333333,\"#9c179e\"],[0.4444444444444444,\"#bd3786\"],[0.5555555555555556,\"#d8576b\"],[0.6666666666666666,\"#ed7953\"],[0.7777777777777778,\"#fb9f3a\"],[0.8888888888888888,\"#fdca26\"],[1.0,\"#f0f921\"]],\"type\":\"histogram2dcontour\"}],\"histogram2d\":[{\"colorbar\":{\"outlinewidth\":0,\"ticks\":\"\"},\"colorscale\":[[0.0,\"#0d0887\"],[0.1111111111111111,\"#46039f\"],[0.2222222222222222,\"#7201a8\"],[0.3333333333333333,\"#9c179e\"],[0.4444444444444444,\"#bd3786\"],[0.5555555555555556,\"#d8576b\"],[0.6666666666666666,\"#ed7953\"],[0.7777777777777778,\"#fb9f3a\"],[0.8888888888888888,\"#fdca26\"],[1.0,\"#f0f921\"]],\"type\":\"histogram2d\"}],\"histogram\":[{\"marker\":{\"pattern\":{\"fillmode\":\"overlay\",\"size\":10,\"solidity\":0.2}},\"type\":\"histogram\"}],\"mesh3d\":[{\"colorbar\":{\"outlinewidth\":0,\"ticks\":\"\"},\"type\":\"mesh3d\"}],\"parcoords\":[{\"line\":{\"colorbar\":{\"outlinewidth\":0,\"ticks\":\"\"}},\"type\":\"parcoords\"}],\"pie\":[{\"automargin\":true,\"type\":\"pie\"}],\"scatter3d\":[{\"line\":{\"colorbar\":{\"outlinewidth\":0,\"ticks\":\"\"}},\"marker\":{\"colorbar\":{\"outlinewidth\":0,\"ticks\":\"\"}},\"type\":\"scatter3d\"}],\"scattercarpet\":[{\"marker\":{\"colorbar\":{\"outlinewidth\":0,\"ticks\":\"\"}},\"type\":\"scattercarpet\"}],\"scattergeo\":[{\"marker\":{\"colorbar\":{\"outlinewidth\":0,\"ticks\":\"\"}},\"type\":\"scattergeo\"}],\"scattergl\":[{\"marker\":{\"colorbar\":{\"outlinewidth\":0,\"ticks\":\"\"}},\"type\":\"scattergl\"}],\"scattermapbox\":[{\"marker\":{\"colorbar\":{\"outlinewidth\":0,\"ticks\":\"\"}},\"type\":\"scattermapbox\"}],\"scattermap\":[{\"marker\":{\"colorbar\":{\"outlinewidth\":0,\"ticks\":\"\"}},\"type\":\"scattermap\"}],\"scatterpolargl\":[{\"marker\":{\"colorbar\":{\"outlinewidth\":0,\"ticks\":\"\"}},\"type\":\"scatterpolargl\"}],\"scatterpolar\":[{\"marker\":{\"colorbar\":{\"outlinewidth\":0,\"ticks\":\"\"}},\"type\":\"scatterpolar\"}],\"scatter\":[{\"fillpattern\":{\"fillmode\":\"overlay\",\"size\":10,\"solidity\":0.2},\"type\":\"scatter\"}],\"scatterternary\":[{\"marker\":{\"colorbar\":{\"outlinewidth\":0,\"ticks\":\"\"}},\"type\":\"scatterternary\"}],\"surface\":[{\"colorbar\":{\"outlinewidth\":0,\"ticks\":\"\"},\"colorscale\":[[0.0,\"#0d0887\"],[0.1111111111111111,\"#46039f\"],[0.2222222222222222,\"#7201a8\"],[0.3333333333333333,\"#9c179e\"],[0.4444444444444444,\"#bd3786\"],[0.5555555555555556,\"#d8576b\"],[0.6666666666666666,\"#ed7953\"],[0.7777777777777778,\"#fb9f3a\"],[0.8888888888888888,\"#fdca26\"],[1.0,\"#f0f921\"]],\"type\":\"surface\"}],\"table\":[{\"cells\":{\"fill\":{\"color\":\"#EBF0F8\"},\"line\":{\"color\":\"white\"}},\"header\":{\"fill\":{\"color\":\"#C8D4E3\"},\"line\":{\"color\":\"white\"}},\"type\":\"table\"}]},\"layout\":{\"annotationdefaults\":{\"arrowcolor\":\"#2a3f5f\",\"arrowhead\":0,\"arrowwidth\":1},\"autotypenumbers\":\"strict\",\"coloraxis\":{\"colorbar\":{\"outlinewidth\":0,\"ticks\":\"\"}},\"colorscale\":{\"diverging\":[[0,\"#8e0152\"],[0.1,\"#c51b7d\"],[0.2,\"#de77ae\"],[0.3,\"#f1b6da\"],[0.4,\"#fde0ef\"],[0.5,\"#f7f7f7\"],[0.6,\"#e6f5d0\"],[0.7,\"#b8e186\"],[0.8,\"#7fbc41\"],[0.9,\"#4d9221\"],[1,\"#276419\"]],\"sequential\":[[0.0,\"#0d0887\"],[0.1111111111111111,\"#46039f\"],[0.2222222222222222,\"#7201a8\"],[0.3333333333333333,\"#9c179e\"],[0.4444444444444444,\"#bd3786\"],[0.5555555555555556,\"#d8576b\"],[0.6666666666666666,\"#ed7953\"],[0.7777777777777778,\"#fb9f3a\"],[0.8888888888888888,\"#fdca26\"],[1.0,\"#f0f921\"]],\"sequentialminus\":[[0.0,\"#0d0887\"],[0.1111111111111111,\"#46039f\"],[0.2222222222222222,\"#7201a8\"],[0.3333333333333333,\"#9c179e\"],[0.4444444444444444,\"#bd3786\"],[0.5555555555555556,\"#d8576b\"],[0.6666666666666666,\"#ed7953\"],[0.7777777777777778,\"#fb9f3a\"],[0.8888888888888888,\"#fdca26\"],[1.0,\"#f0f921\"]]},\"colorway\":[\"#636efa\",\"#EF553B\",\"#00cc96\",\"#ab63fa\",\"#FFA15A\",\"#19d3f3\",\"#FF6692\",\"#B6E880\",\"#FF97FF\",\"#FECB52\"],\"font\":{\"color\":\"#2a3f5f\"},\"geo\":{\"bgcolor\":\"white\",\"lakecolor\":\"white\",\"landcolor\":\"white\",\"showlakes\":true,\"showland\":true,\"subunitcolor\":\"#C8D4E3\"},\"hoverlabel\":{\"align\":\"left\"},\"hovermode\":\"closest\",\"mapbox\":{\"style\":\"light\"},\"paper_bgcolor\":\"white\",\"plot_bgcolor\":\"white\",\"polar\":{\"angularaxis\":{\"gridcolor\":\"#EBF0F8\",\"linecolor\":\"#EBF0F8\",\"ticks\":\"\"},\"bgcolor\":\"white\",\"radialaxis\":{\"gridcolor\":\"#EBF0F8\",\"linecolor\":\"#EBF0F8\",\"ticks\":\"\"}},\"scene\":{\"xaxis\":{\"backgroundcolor\":\"white\",\"gridcolor\":\"#DFE8F3\",\"gridwidth\":2,\"linecolor\":\"#EBF0F8\",\"showbackground\":true,\"ticks\":\"\",\"zerolinecolor\":\"#EBF0F8\"},\"yaxis\":{\"backgroundcolor\":\"white\",\"gridcolor\":\"#DFE8F3\",\"gridwidth\":2,\"linecolor\":\"#EBF0F8\",\"showbackground\":true,\"ticks\":\"\",\"zerolinecolor\":\"#EBF0F8\"},\"zaxis\":{\"backgroundcolor\":\"white\",\"gridcolor\":\"#DFE8F3\",\"gridwidth\":2,\"linecolor\":\"#EBF0F8\",\"showbackground\":true,\"ticks\":\"\",\"zerolinecolor\":\"#EBF0F8\"}},\"shapedefaults\":{\"line\":{\"color\":\"#2a3f5f\"}},\"ternary\":{\"aaxis\":{\"gridcolor\":\"#DFE8F3\",\"linecolor\":\"#A2B1C6\",\"ticks\":\"\"},\"baxis\":{\"gridcolor\":\"#DFE8F3\",\"linecolor\":\"#A2B1C6\",\"ticks\":\"\"},\"bgcolor\":\"white\",\"caxis\":{\"gridcolor\":\"#DFE8F3\",\"linecolor\":\"#A2B1C6\",\"ticks\":\"\"}},\"title\":{\"x\":0.05},\"xaxis\":{\"automargin\":true,\"gridcolor\":\"#EBF0F8\",\"linecolor\":\"#EBF0F8\",\"ticks\":\"\",\"title\":{\"standoff\":15},\"zerolinecolor\":\"#EBF0F8\",\"zerolinewidth\":2},\"yaxis\":{\"automargin\":true,\"gridcolor\":\"#EBF0F8\",\"linecolor\":\"#EBF0F8\",\"ticks\":\"\",\"title\":{\"standoff\":15},\"zerolinecolor\":\"#EBF0F8\",\"zerolinewidth\":2}}},\"xaxis\":{\"anchor\":\"y\",\"domain\":[0.0,0.45]},\"yaxis\":{\"anchor\":\"x\",\"domain\":[0.0,1.0]},\"xaxis2\":{\"anchor\":\"y2\",\"domain\":[0.55,1.0]},\"yaxis2\":{\"anchor\":\"x2\",\"domain\":[0.0,1.0]},\"annotations\":[{\"font\":{\"size\":16},\"showarrow\":false,\"text\":\"Average Reward Comparison\",\"x\":0.225,\"xanchor\":\"center\",\"xref\":\"paper\",\"y\":1.0,\"yanchor\":\"bottom\",\"yref\":\"paper\"},{\"font\":{\"size\":16},\"showarrow\":false,\"text\":\"Success Rate Comparison\",\"x\":0.775,\"xanchor\":\"center\",\"xref\":\"paper\",\"y\":1.0,\"yanchor\":\"bottom\",\"yref\":\"paper\"}],\"title\":{\"text\":\"\\ud83c\\udfc6 Agent Performance Comparison\"},\"height\":500,\"showlegend\":false},                        {\"responsive\": true}                    ).then(function(){\n",
              "                            \n",
              "var gd = document.getElementById('c2d53b61-424d-43ee-a7c2-99efa3f7f14c');\n",
              "var x = new MutationObserver(function (mutations, observer) {{\n",
              "        var display = window.getComputedStyle(gd).display;\n",
              "        if (!display || display === 'none') {{\n",
              "            console.log([gd, 'removed!']);\n",
              "            Plotly.purge(gd);\n",
              "            observer.disconnect();\n",
              "        }}\n",
              "}});\n",
              "\n",
              "// Listen for the removal of the full notebook cells\n",
              "var notebookContainer = gd.closest('#notebook-container');\n",
              "if (notebookContainer) {{\n",
              "    x.observe(notebookContainer, {childList: true});\n",
              "}}\n",
              "\n",
              "// Listen for the clearing of the current output cell\n",
              "var outputEl = gd.closest('.output');\n",
              "if (outputEl) {{\n",
              "    x.observe(outputEl, {childList: true});\n",
              "}}\n",
              "\n",
              "                        })                };            </script>        </div>"
            ]
          },
          "metadata": {},
          "output_type": "display_data"
        },
        {
          "name": "stdout",
          "output_type": "stream",
          "text": [
            "\n",
            "============================================================\n",
            "🏆 DETAILED COMPARISON RESULTS\n",
            "============================================================\n",
            "1. RL Agent    : Reward =   23.296, Success = 100.0%\n",
            "2. Random      : Reward =  -52.769, Success = 0.0%\n",
            "3. Greedy      : Reward =  -92.231, Success = 0.0%\n",
            "4. Heuristic   : Reward = -192.735, Success = 0.0%\n"
          ]
        }
      ],
      "source": [
        "if RL_AVAILABLE and training_history and agent:\n",
        "    print(\"🔄 Running agent evaluation and baseline comparison...\")\n",
        "    \n",
        "    # Initialize evaluation components\n",
        "    evaluator = EvaluationMetrics(config)\n",
        "    baseline_comparison = BaselineComparison(config, database, user_profile)\n",
        "    \n",
        "    # Evaluate trained agent\n",
        "    print(\"Evaluating RL agent...\")\n",
        "    rl_results = evaluator.evaluate_agent(agent, env, num_episodes=10)\n",
        "    \n",
        "    # Run baseline comparisons\n",
        "    print(\"Running baseline comparisons...\")\n",
        "    baseline_results = baseline_comparison.evaluate_baselines(env, num_episodes=5)\n",
        "    \n",
        "    # Combine results\n",
        "    all_results = {\n",
        "        'RL Agent': rl_results,\n",
        "        **baseline_results\n",
        "    }\n",
        "    \n",
        "    # Create interactive comparison plot\n",
        "    agents = list(all_results.keys())\n",
        "    avg_rewards = [result.get_average_reward() for result in all_results.values()]\n",
        "    success_rates = [result.get_success_rate() for result in all_results.values()]\n",
        "    \n",
        "    # Create comparison plot\n",
        "    fig = make_subplots(\n",
        "        rows=1, cols=2,\n",
        "        subplot_titles=('Average Reward Comparison', 'Success Rate Comparison'),\n",
        "        specs=[[{\"secondary_y\": False}, {\"secondary_y\": False}]]\n",
        "    )\n",
        "    \n",
        "    # Reward comparison\n",
        "    colors = ['green' if agent == 'RL Agent' else 'lightcoral' for agent in agents]\n",
        "    fig.add_trace(\n",
        "        go.Bar(x=agents, y=avg_rewards, name='Avg Reward', \n",
        "               marker_color=colors, text=[f'{r:.2f}' for r in avg_rewards],\n",
        "               textposition='auto'),\n",
        "        row=1, col=1\n",
        "    )\n",
        "    \n",
        "    # Success rate comparison\n",
        "    fig.add_trace(\n",
        "        go.Bar(x=agents, y=[r*100 for r in success_rates], name='Success Rate (%)',\n",
        "               marker_color=colors, text=[f'{r:.1%}' for r in success_rates],\n",
        "               textposition='auto'),\n",
        "        row=1, col=2\n",
        "    )\n",
        "    \n",
        "    fig.update_layout(\n",
        "        title='🏆 Agent Performance Comparison',\n",
        "        height=500,\n",
        "        showlegend=False,\n",
        "        template='plotly_white'\n",
        "    )\n",
        "    \n",
        "    fig.show()\n",
        "    \n",
        "    # Print detailed results\n",
        "    print(\"\\n\" + \"=\"*60)\n",
        "    print(\"🏆 DETAILED COMPARISON RESULTS\")\n",
        "    print(\"=\"*60)\n",
        "    \n",
        "    for i, (name, result) in enumerate(all_results.items(), 1):\n",
        "        avg_reward = result.get_average_reward()\n",
        "        success_rate = result.get_success_rate()\n",
        "        print(f\"{i}. {name:12}: Reward = {avg_reward:8.3f}, Success = {success_rate:.1%}\")\n",
        "        \n",
        "else:\n",
        "    print(\"❌ Cannot run comparison - Agent not available\")"
      ]
    },
    {
      "cell_type": "markdown",
      "metadata": {},
      "source": [
        "## 🍽️ Interactive Meal Planning Demo"
      ]
    },
    {
      "cell_type": "code",
      "execution_count": 8,
      "metadata": {},
      "outputs": [
        {
          "name": "stdout",
          "output_type": "stream",
          "text": [
            "🍽️ Generating AI meal plan...\n",
            "\n",
            "======================================================================\n",
            "🍽️ AI-GENERATED MEAL PLAN\n",
            "======================================================================\n",
            "\n",
            "🍴 Meal 1: Tartines craquantes quinoa pois chiche\n",
            "   Portion: 125g\n",
            "   Calories: 468 kcal\n",
            "   P: 11.9g | C: 100.1g | F: 1.1g\n",
            "   Reward Score: 0.434\n",
            "\n",
            "🍴 Meal 2: Légumes & Quinoa à la provençale\n",
            "   Portion: 125g\n",
            "   Calories: 124 kcal\n",
            "   P: 2.4g | C: 10.9g | F: 7.1g\n",
            "   Reward Score: 0.558\n",
            "\n",
            "🍴 Meal 3: Légumes & Quinoa à la provençale\n",
            "   Portion: 125g\n",
            "   Calories: 124 kcal\n",
            "   P: 2.4g | C: 10.9g | F: 7.1g\n",
            "   Reward Score: 0.516\n",
            "\n",
            "🍴 Meal 4: Tilda Steamed Brown Basmati and Quinoa\n",
            "   Portion: 125g\n",
            "   Calories: 165 kcal\n",
            "   P: 3.6g | C: 30.1g | F: 2.6g\n",
            "   Reward Score: 0.700\n",
            "\n",
            "🍴 Meal 5: Tilda Steamed Brown Basmati and Quinoa\n",
            "   Portion: 125g\n",
            "   Calories: 165 kcal\n",
            "   P: 3.6g | C: 30.1g | F: 2.6g\n",
            "   Reward Score: 0.783\n"
          ]
        },
        {
          "data": {
            "application/vnd.plotly.v1+json": {
              "config": {
                "plotlyServerURL": "https://plot.ly"
              },
              "data": [
                {
                  "marker": {
                    "color": "orange"
                  },
                  "name": "Calories",
                  "text": [
                    "468",
                    "124",
                    "124",
                    "165",
                    "165"
                  ],
                  "textposition": "auto",
                  "type": "bar",
                  "x": [
                    "Meal 1",
                    "Meal 2",
                    "Meal 3",
                    "Meal 4",
                    "Meal 5"
                  ],
                  "xaxis": "x",
                  "y": {
                    "bdata": "KPPpQ4DN90Jk9vdCi2klQ8psJUM=",
                    "dtype": "f4"
                  },
                  "yaxis": "y"
                },
                {
                  "marker": {
                    "color": "red"
                  },
                  "name": "Protein",
                  "text": [
                    "11.9g",
                    "2.4g",
                    "2.4g",
                    "3.6g",
                    "3.6g"
                  ],
                  "textposition": "auto",
                  "type": "bar",
                  "x": [
                    "Meal 1",
                    "Meal 2",
                    "Meal 3",
                    "Meal 4",
                    "Meal 5"
                  ],
                  "xaxis": "x2",
                  "y": {
                    "bdata": "lSk+QZkvGEC1SBhAx/lmQFD+ZkA=",
                    "dtype": "f4"
                  },
                  "yaxis": "y2"
                },
                {
                  "domain": {
                    "x": [
                      0,
                      0.45
                    ],
                    "y": [
                      0,
                      0.375
                    ]
                  },
                  "labels": [
                    "Protein",
                    "Carbohydrates",
                    "Fat"
                  ],
                  "name": "Macros",
                  "type": "pie",
                  "values": [
                    95.44304656982422,
                    728.0853271484375,
                    185.50064086914062
                  ]
                },
                {
                  "marker": {
                    "color": "green"
                  },
                  "name": "Reward",
                  "text": [
                    "0.43",
                    "0.56",
                    "0.52",
                    "0.70",
                    "0.78"
                  ],
                  "textposition": "auto",
                  "type": "bar",
                  "x": [
                    "Meal 1",
                    "Meal 2",
                    "Meal 3",
                    "Meal 4",
                    "Meal 5"
                  ],
                  "xaxis": "x3",
                  "y": {
                    "bdata": "uJwiN9nB2z9WvKQXYtrhP7w4v7kpf+A/UBiICmFo5j+gkG4c1xDpPw==",
                    "dtype": "f8"
                  },
                  "yaxis": "y3"
                }
              ],
              "layout": {
                "annotations": [
                  {
                    "font": {
                      "size": 16
                    },
                    "showarrow": false,
                    "text": "Calories per Meal",
                    "x": 0.225,
                    "xanchor": "center",
                    "xref": "paper",
                    "y": 1,
                    "yanchor": "bottom",
                    "yref": "paper"
                  },
                  {
                    "font": {
                      "size": 16
                    },
                    "showarrow": false,
                    "text": "Protein Distribution",
                    "x": 0.775,
                    "xanchor": "center",
                    "xref": "paper",
                    "y": 1,
                    "yanchor": "bottom",
                    "yref": "paper"
                  },
                  {
                    "font": {
                      "size": 16
                    },
                    "showarrow": false,
                    "text": "Macronutrient Breakdown",
                    "x": 0.225,
                    "xanchor": "center",
                    "xref": "paper",
                    "y": 0.375,
                    "yanchor": "bottom",
                    "yref": "paper"
                  },
                  {
                    "font": {
                      "size": 16
                    },
                    "showarrow": false,
                    "text": "Reward Scores",
                    "x": 0.775,
                    "xanchor": "center",
                    "xref": "paper",
                    "y": 0.375,
                    "yanchor": "bottom",
                    "yref": "paper"
                  }
                ],
                "height": 700,
                "showlegend": false,
                "template": {
                  "data": {
                    "bar": [
                      {
                        "error_x": {
                          "color": "#2a3f5f"
                        },
                        "error_y": {
                          "color": "#2a3f5f"
                        },
                        "marker": {
                          "line": {
                            "color": "white",
                            "width": 0.5
                          },
                          "pattern": {
                            "fillmode": "overlay",
                            "size": 10,
                            "solidity": 0.2
                          }
                        },
                        "type": "bar"
                      }
                    ],
                    "barpolar": [
                      {
                        "marker": {
                          "line": {
                            "color": "white",
                            "width": 0.5
                          },
                          "pattern": {
                            "fillmode": "overlay",
                            "size": 10,
                            "solidity": 0.2
                          }
                        },
                        "type": "barpolar"
                      }
                    ],
                    "carpet": [
                      {
                        "aaxis": {
                          "endlinecolor": "#2a3f5f",
                          "gridcolor": "#C8D4E3",
                          "linecolor": "#C8D4E3",
                          "minorgridcolor": "#C8D4E3",
                          "startlinecolor": "#2a3f5f"
                        },
                        "baxis": {
                          "endlinecolor": "#2a3f5f",
                          "gridcolor": "#C8D4E3",
                          "linecolor": "#C8D4E3",
                          "minorgridcolor": "#C8D4E3",
                          "startlinecolor": "#2a3f5f"
                        },
                        "type": "carpet"
                      }
                    ],
                    "choropleth": [
                      {
                        "colorbar": {
                          "outlinewidth": 0,
                          "ticks": ""
                        },
                        "type": "choropleth"
                      }
                    ],
                    "contour": [
                      {
                        "colorbar": {
                          "outlinewidth": 0,
                          "ticks": ""
                        },
                        "colorscale": [
                          [
                            0,
                            "#0d0887"
                          ],
                          [
                            0.1111111111111111,
                            "#46039f"
                          ],
                          [
                            0.2222222222222222,
                            "#7201a8"
                          ],
                          [
                            0.3333333333333333,
                            "#9c179e"
                          ],
                          [
                            0.4444444444444444,
                            "#bd3786"
                          ],
                          [
                            0.5555555555555556,
                            "#d8576b"
                          ],
                          [
                            0.6666666666666666,
                            "#ed7953"
                          ],
                          [
                            0.7777777777777778,
                            "#fb9f3a"
                          ],
                          [
                            0.8888888888888888,
                            "#fdca26"
                          ],
                          [
                            1,
                            "#f0f921"
                          ]
                        ],
                        "type": "contour"
                      }
                    ],
                    "contourcarpet": [
                      {
                        "colorbar": {
                          "outlinewidth": 0,
                          "ticks": ""
                        },
                        "type": "contourcarpet"
                      }
                    ],
                    "heatmap": [
                      {
                        "colorbar": {
                          "outlinewidth": 0,
                          "ticks": ""
                        },
                        "colorscale": [
                          [
                            0,
                            "#0d0887"
                          ],
                          [
                            0.1111111111111111,
                            "#46039f"
                          ],
                          [
                            0.2222222222222222,
                            "#7201a8"
                          ],
                          [
                            0.3333333333333333,
                            "#9c179e"
                          ],
                          [
                            0.4444444444444444,
                            "#bd3786"
                          ],
                          [
                            0.5555555555555556,
                            "#d8576b"
                          ],
                          [
                            0.6666666666666666,
                            "#ed7953"
                          ],
                          [
                            0.7777777777777778,
                            "#fb9f3a"
                          ],
                          [
                            0.8888888888888888,
                            "#fdca26"
                          ],
                          [
                            1,
                            "#f0f921"
                          ]
                        ],
                        "type": "heatmap"
                      }
                    ],
                    "histogram": [
                      {
                        "marker": {
                          "pattern": {
                            "fillmode": "overlay",
                            "size": 10,
                            "solidity": 0.2
                          }
                        },
                        "type": "histogram"
                      }
                    ],
                    "histogram2d": [
                      {
                        "colorbar": {
                          "outlinewidth": 0,
                          "ticks": ""
                        },
                        "colorscale": [
                          [
                            0,
                            "#0d0887"
                          ],
                          [
                            0.1111111111111111,
                            "#46039f"
                          ],
                          [
                            0.2222222222222222,
                            "#7201a8"
                          ],
                          [
                            0.3333333333333333,
                            "#9c179e"
                          ],
                          [
                            0.4444444444444444,
                            "#bd3786"
                          ],
                          [
                            0.5555555555555556,
                            "#d8576b"
                          ],
                          [
                            0.6666666666666666,
                            "#ed7953"
                          ],
                          [
                            0.7777777777777778,
                            "#fb9f3a"
                          ],
                          [
                            0.8888888888888888,
                            "#fdca26"
                          ],
                          [
                            1,
                            "#f0f921"
                          ]
                        ],
                        "type": "histogram2d"
                      }
                    ],
                    "histogram2dcontour": [
                      {
                        "colorbar": {
                          "outlinewidth": 0,
                          "ticks": ""
                        },
                        "colorscale": [
                          [
                            0,
                            "#0d0887"
                          ],
                          [
                            0.1111111111111111,
                            "#46039f"
                          ],
                          [
                            0.2222222222222222,
                            "#7201a8"
                          ],
                          [
                            0.3333333333333333,
                            "#9c179e"
                          ],
                          [
                            0.4444444444444444,
                            "#bd3786"
                          ],
                          [
                            0.5555555555555556,
                            "#d8576b"
                          ],
                          [
                            0.6666666666666666,
                            "#ed7953"
                          ],
                          [
                            0.7777777777777778,
                            "#fb9f3a"
                          ],
                          [
                            0.8888888888888888,
                            "#fdca26"
                          ],
                          [
                            1,
                            "#f0f921"
                          ]
                        ],
                        "type": "histogram2dcontour"
                      }
                    ],
                    "mesh3d": [
                      {
                        "colorbar": {
                          "outlinewidth": 0,
                          "ticks": ""
                        },
                        "type": "mesh3d"
                      }
                    ],
                    "parcoords": [
                      {
                        "line": {
                          "colorbar": {
                            "outlinewidth": 0,
                            "ticks": ""
                          }
                        },
                        "type": "parcoords"
                      }
                    ],
                    "pie": [
                      {
                        "automargin": true,
                        "type": "pie"
                      }
                    ],
                    "scatter": [
                      {
                        "fillpattern": {
                          "fillmode": "overlay",
                          "size": 10,
                          "solidity": 0.2
                        },
                        "type": "scatter"
                      }
                    ],
                    "scatter3d": [
                      {
                        "line": {
                          "colorbar": {
                            "outlinewidth": 0,
                            "ticks": ""
                          }
                        },
                        "marker": {
                          "colorbar": {
                            "outlinewidth": 0,
                            "ticks": ""
                          }
                        },
                        "type": "scatter3d"
                      }
                    ],
                    "scattercarpet": [
                      {
                        "marker": {
                          "colorbar": {
                            "outlinewidth": 0,
                            "ticks": ""
                          }
                        },
                        "type": "scattercarpet"
                      }
                    ],
                    "scattergeo": [
                      {
                        "marker": {
                          "colorbar": {
                            "outlinewidth": 0,
                            "ticks": ""
                          }
                        },
                        "type": "scattergeo"
                      }
                    ],
                    "scattergl": [
                      {
                        "marker": {
                          "colorbar": {
                            "outlinewidth": 0,
                            "ticks": ""
                          }
                        },
                        "type": "scattergl"
                      }
                    ],
                    "scattermap": [
                      {
                        "marker": {
                          "colorbar": {
                            "outlinewidth": 0,
                            "ticks": ""
                          }
                        },
                        "type": "scattermap"
                      }
                    ],
                    "scattermapbox": [
                      {
                        "marker": {
                          "colorbar": {
                            "outlinewidth": 0,
                            "ticks": ""
                          }
                        },
                        "type": "scattermapbox"
                      }
                    ],
                    "scatterpolar": [
                      {
                        "marker": {
                          "colorbar": {
                            "outlinewidth": 0,
                            "ticks": ""
                          }
                        },
                        "type": "scatterpolar"
                      }
                    ],
                    "scatterpolargl": [
                      {
                        "marker": {
                          "colorbar": {
                            "outlinewidth": 0,
                            "ticks": ""
                          }
                        },
                        "type": "scatterpolargl"
                      }
                    ],
                    "scatterternary": [
                      {
                        "marker": {
                          "colorbar": {
                            "outlinewidth": 0,
                            "ticks": ""
                          }
                        },
                        "type": "scatterternary"
                      }
                    ],
                    "surface": [
                      {
                        "colorbar": {
                          "outlinewidth": 0,
                          "ticks": ""
                        },
                        "colorscale": [
                          [
                            0,
                            "#0d0887"
                          ],
                          [
                            0.1111111111111111,
                            "#46039f"
                          ],
                          [
                            0.2222222222222222,
                            "#7201a8"
                          ],
                          [
                            0.3333333333333333,
                            "#9c179e"
                          ],
                          [
                            0.4444444444444444,
                            "#bd3786"
                          ],
                          [
                            0.5555555555555556,
                            "#d8576b"
                          ],
                          [
                            0.6666666666666666,
                            "#ed7953"
                          ],
                          [
                            0.7777777777777778,
                            "#fb9f3a"
                          ],
                          [
                            0.8888888888888888,
                            "#fdca26"
                          ],
                          [
                            1,
                            "#f0f921"
                          ]
                        ],
                        "type": "surface"
                      }
                    ],
                    "table": [
                      {
                        "cells": {
                          "fill": {
                            "color": "#EBF0F8"
                          },
                          "line": {
                            "color": "white"
                          }
                        },
                        "header": {
                          "fill": {
                            "color": "#C8D4E3"
                          },
                          "line": {
                            "color": "white"
                          }
                        },
                        "type": "table"
                      }
                    ]
                  },
                  "layout": {
                    "annotationdefaults": {
                      "arrowcolor": "#2a3f5f",
                      "arrowhead": 0,
                      "arrowwidth": 1
                    },
                    "autotypenumbers": "strict",
                    "coloraxis": {
                      "colorbar": {
                        "outlinewidth": 0,
                        "ticks": ""
                      }
                    },
                    "colorscale": {
                      "diverging": [
                        [
                          0,
                          "#8e0152"
                        ],
                        [
                          0.1,
                          "#c51b7d"
                        ],
                        [
                          0.2,
                          "#de77ae"
                        ],
                        [
                          0.3,
                          "#f1b6da"
                        ],
                        [
                          0.4,
                          "#fde0ef"
                        ],
                        [
                          0.5,
                          "#f7f7f7"
                        ],
                        [
                          0.6,
                          "#e6f5d0"
                        ],
                        [
                          0.7,
                          "#b8e186"
                        ],
                        [
                          0.8,
                          "#7fbc41"
                        ],
                        [
                          0.9,
                          "#4d9221"
                        ],
                        [
                          1,
                          "#276419"
                        ]
                      ],
                      "sequential": [
                        [
                          0,
                          "#0d0887"
                        ],
                        [
                          0.1111111111111111,
                          "#46039f"
                        ],
                        [
                          0.2222222222222222,
                          "#7201a8"
                        ],
                        [
                          0.3333333333333333,
                          "#9c179e"
                        ],
                        [
                          0.4444444444444444,
                          "#bd3786"
                        ],
                        [
                          0.5555555555555556,
                          "#d8576b"
                        ],
                        [
                          0.6666666666666666,
                          "#ed7953"
                        ],
                        [
                          0.7777777777777778,
                          "#fb9f3a"
                        ],
                        [
                          0.8888888888888888,
                          "#fdca26"
                        ],
                        [
                          1,
                          "#f0f921"
                        ]
                      ],
                      "sequentialminus": [
                        [
                          0,
                          "#0d0887"
                        ],
                        [
                          0.1111111111111111,
                          "#46039f"
                        ],
                        [
                          0.2222222222222222,
                          "#7201a8"
                        ],
                        [
                          0.3333333333333333,
                          "#9c179e"
                        ],
                        [
                          0.4444444444444444,
                          "#bd3786"
                        ],
                        [
                          0.5555555555555556,
                          "#d8576b"
                        ],
                        [
                          0.6666666666666666,
                          "#ed7953"
                        ],
                        [
                          0.7777777777777778,
                          "#fb9f3a"
                        ],
                        [
                          0.8888888888888888,
                          "#fdca26"
                        ],
                        [
                          1,
                          "#f0f921"
                        ]
                      ]
                    },
                    "colorway": [
                      "#636efa",
                      "#EF553B",
                      "#00cc96",
                      "#ab63fa",
                      "#FFA15A",
                      "#19d3f3",
                      "#FF6692",
                      "#B6E880",
                      "#FF97FF",
                      "#FECB52"
                    ],
                    "font": {
                      "color": "#2a3f5f"
                    },
                    "geo": {
                      "bgcolor": "white",
                      "lakecolor": "white",
                      "landcolor": "white",
                      "showlakes": true,
                      "showland": true,
                      "subunitcolor": "#C8D4E3"
                    },
                    "hoverlabel": {
                      "align": "left"
                    },
                    "hovermode": "closest",
                    "mapbox": {
                      "style": "light"
                    },
                    "paper_bgcolor": "white",
                    "plot_bgcolor": "white",
                    "polar": {
                      "angularaxis": {
                        "gridcolor": "#EBF0F8",
                        "linecolor": "#EBF0F8",
                        "ticks": ""
                      },
                      "bgcolor": "white",
                      "radialaxis": {
                        "gridcolor": "#EBF0F8",
                        "linecolor": "#EBF0F8",
                        "ticks": ""
                      }
                    },
                    "scene": {
                      "xaxis": {
                        "backgroundcolor": "white",
                        "gridcolor": "#DFE8F3",
                        "gridwidth": 2,
                        "linecolor": "#EBF0F8",
                        "showbackground": true,
                        "ticks": "",
                        "zerolinecolor": "#EBF0F8"
                      },
                      "yaxis": {
                        "backgroundcolor": "white",
                        "gridcolor": "#DFE8F3",
                        "gridwidth": 2,
                        "linecolor": "#EBF0F8",
                        "showbackground": true,
                        "ticks": "",
                        "zerolinecolor": "#EBF0F8"
                      },
                      "zaxis": {
                        "backgroundcolor": "white",
                        "gridcolor": "#DFE8F3",
                        "gridwidth": 2,
                        "linecolor": "#EBF0F8",
                        "showbackground": true,
                        "ticks": "",
                        "zerolinecolor": "#EBF0F8"
                      }
                    },
                    "shapedefaults": {
                      "line": {
                        "color": "#2a3f5f"
                      }
                    },
                    "ternary": {
                      "aaxis": {
                        "gridcolor": "#DFE8F3",
                        "linecolor": "#A2B1C6",
                        "ticks": ""
                      },
                      "baxis": {
                        "gridcolor": "#DFE8F3",
                        "linecolor": "#A2B1C6",
                        "ticks": ""
                      },
                      "bgcolor": "white",
                      "caxis": {
                        "gridcolor": "#DFE8F3",
                        "linecolor": "#A2B1C6",
                        "ticks": ""
                      }
                    },
                    "title": {
                      "x": 0.05
                    },
                    "xaxis": {
                      "automargin": true,
                      "gridcolor": "#EBF0F8",
                      "linecolor": "#EBF0F8",
                      "ticks": "",
                      "title": {
                        "standoff": 15
                      },
                      "zerolinecolor": "#EBF0F8",
                      "zerolinewidth": 2
                    },
                    "yaxis": {
                      "automargin": true,
                      "gridcolor": "#EBF0F8",
                      "linecolor": "#EBF0F8",
                      "ticks": "",
                      "title": {
                        "standoff": 15
                      },
                      "zerolinecolor": "#EBF0F8",
                      "zerolinewidth": 2
                    }
                  }
                },
                "title": {
                  "text": "🍽️ Meal Plan Analysis Dashboard"
                },
                "xaxis": {
                  "anchor": "y",
                  "domain": [
                    0,
                    0.45
                  ]
                },
                "xaxis2": {
                  "anchor": "y2",
                  "domain": [
                    0.55,
                    1
                  ]
                },
                "xaxis3": {
                  "anchor": "y3",
                  "domain": [
                    0.55,
                    1
                  ]
                },
                "yaxis": {
                  "anchor": "x",
                  "domain": [
                    0.625,
                    1
                  ]
                },
                "yaxis2": {
                  "anchor": "x2",
                  "domain": [
                    0.625,
                    1
                  ]
                },
                "yaxis3": {
                  "anchor": "x3",
                  "domain": [
                    0,
                    0.375
                  ]
                }
              }
            },
            "text/html": [
              "<div>            <script src=\"https://cdnjs.cloudflare.com/ajax/libs/mathjax/2.7.5/MathJax.js?config=TeX-AMS-MML_SVG\"></script><script type=\"text/javascript\">if (window.MathJax && window.MathJax.Hub && window.MathJax.Hub.Config) {window.MathJax.Hub.Config({SVG: {font: \"STIX-Web\"}});}</script>                <script type=\"text/javascript\">window.PlotlyConfig = {MathJaxConfig: 'local'};</script>\n",
              "        <script charset=\"utf-8\" src=\"https://cdn.plot.ly/plotly-3.0.1.min.js\" integrity=\"sha256-oy6Be7Eh6eiQFs5M7oXuPxxm9qbJXEtTpfSI93dW16Q=\" crossorigin=\"anonymous\"></script>                <div id=\"6a6de113-c24c-458f-ad13-cb9464154e54\" class=\"plotly-graph-div\" style=\"height:700px; width:100%;\"></div>            <script type=\"text/javascript\">                window.PLOTLYENV=window.PLOTLYENV || {};                                if (document.getElementById(\"6a6de113-c24c-458f-ad13-cb9464154e54\")) {                    Plotly.newPlot(                        \"6a6de113-c24c-458f-ad13-cb9464154e54\",                        [{\"marker\":{\"color\":\"orange\"},\"name\":\"Calories\",\"text\":[\"468\",\"124\",\"124\",\"165\",\"165\"],\"textposition\":\"auto\",\"x\":[\"Meal 1\",\"Meal 2\",\"Meal 3\",\"Meal 4\",\"Meal 5\"],\"y\":{\"dtype\":\"f4\",\"bdata\":\"KPPpQ4DN90Jk9vdCi2klQ8psJUM=\"},\"type\":\"bar\",\"xaxis\":\"x\",\"yaxis\":\"y\"},{\"marker\":{\"color\":\"red\"},\"name\":\"Protein\",\"text\":[\"11.9g\",\"2.4g\",\"2.4g\",\"3.6g\",\"3.6g\"],\"textposition\":\"auto\",\"x\":[\"Meal 1\",\"Meal 2\",\"Meal 3\",\"Meal 4\",\"Meal 5\"],\"y\":{\"dtype\":\"f4\",\"bdata\":\"lSk+QZkvGEC1SBhAx\\u002flmQFD+ZkA=\"},\"type\":\"bar\",\"xaxis\":\"x2\",\"yaxis\":\"y2\"},{\"labels\":[\"Protein\",\"Carbohydrates\",\"Fat\"],\"name\":\"Macros\",\"values\":[95.44304656982422,728.0853271484375,185.50064086914062],\"type\":\"pie\",\"domain\":{\"x\":[0.0,0.45],\"y\":[0.0,0.375]}},{\"marker\":{\"color\":\"green\"},\"name\":\"Reward\",\"text\":[\"0.43\",\"0.56\",\"0.52\",\"0.70\",\"0.78\"],\"textposition\":\"auto\",\"x\":[\"Meal 1\",\"Meal 2\",\"Meal 3\",\"Meal 4\",\"Meal 5\"],\"y\":{\"dtype\":\"f8\",\"bdata\":\"uJwiN9nB2z9WvKQXYtrhP7w4v7kpf+A\\u002fUBiICmFo5j+gkG4c1xDpPw==\"},\"type\":\"bar\",\"xaxis\":\"x3\",\"yaxis\":\"y3\"}],                        {\"template\":{\"data\":{\"barpolar\":[{\"marker\":{\"line\":{\"color\":\"white\",\"width\":0.5},\"pattern\":{\"fillmode\":\"overlay\",\"size\":10,\"solidity\":0.2}},\"type\":\"barpolar\"}],\"bar\":[{\"error_x\":{\"color\":\"#2a3f5f\"},\"error_y\":{\"color\":\"#2a3f5f\"},\"marker\":{\"line\":{\"color\":\"white\",\"width\":0.5},\"pattern\":{\"fillmode\":\"overlay\",\"size\":10,\"solidity\":0.2}},\"type\":\"bar\"}],\"carpet\":[{\"aaxis\":{\"endlinecolor\":\"#2a3f5f\",\"gridcolor\":\"#C8D4E3\",\"linecolor\":\"#C8D4E3\",\"minorgridcolor\":\"#C8D4E3\",\"startlinecolor\":\"#2a3f5f\"},\"baxis\":{\"endlinecolor\":\"#2a3f5f\",\"gridcolor\":\"#C8D4E3\",\"linecolor\":\"#C8D4E3\",\"minorgridcolor\":\"#C8D4E3\",\"startlinecolor\":\"#2a3f5f\"},\"type\":\"carpet\"}],\"choropleth\":[{\"colorbar\":{\"outlinewidth\":0,\"ticks\":\"\"},\"type\":\"choropleth\"}],\"contourcarpet\":[{\"colorbar\":{\"outlinewidth\":0,\"ticks\":\"\"},\"type\":\"contourcarpet\"}],\"contour\":[{\"colorbar\":{\"outlinewidth\":0,\"ticks\":\"\"},\"colorscale\":[[0.0,\"#0d0887\"],[0.1111111111111111,\"#46039f\"],[0.2222222222222222,\"#7201a8\"],[0.3333333333333333,\"#9c179e\"],[0.4444444444444444,\"#bd3786\"],[0.5555555555555556,\"#d8576b\"],[0.6666666666666666,\"#ed7953\"],[0.7777777777777778,\"#fb9f3a\"],[0.8888888888888888,\"#fdca26\"],[1.0,\"#f0f921\"]],\"type\":\"contour\"}],\"heatmap\":[{\"colorbar\":{\"outlinewidth\":0,\"ticks\":\"\"},\"colorscale\":[[0.0,\"#0d0887\"],[0.1111111111111111,\"#46039f\"],[0.2222222222222222,\"#7201a8\"],[0.3333333333333333,\"#9c179e\"],[0.4444444444444444,\"#bd3786\"],[0.5555555555555556,\"#d8576b\"],[0.6666666666666666,\"#ed7953\"],[0.7777777777777778,\"#fb9f3a\"],[0.8888888888888888,\"#fdca26\"],[1.0,\"#f0f921\"]],\"type\":\"heatmap\"}],\"histogram2dcontour\":[{\"colorbar\":{\"outlinewidth\":0,\"ticks\":\"\"},\"colorscale\":[[0.0,\"#0d0887\"],[0.1111111111111111,\"#46039f\"],[0.2222222222222222,\"#7201a8\"],[0.3333333333333333,\"#9c179e\"],[0.4444444444444444,\"#bd3786\"],[0.5555555555555556,\"#d8576b\"],[0.6666666666666666,\"#ed7953\"],[0.7777777777777778,\"#fb9f3a\"],[0.8888888888888888,\"#fdca26\"],[1.0,\"#f0f921\"]],\"type\":\"histogram2dcontour\"}],\"histogram2d\":[{\"colorbar\":{\"outlinewidth\":0,\"ticks\":\"\"},\"colorscale\":[[0.0,\"#0d0887\"],[0.1111111111111111,\"#46039f\"],[0.2222222222222222,\"#7201a8\"],[0.3333333333333333,\"#9c179e\"],[0.4444444444444444,\"#bd3786\"],[0.5555555555555556,\"#d8576b\"],[0.6666666666666666,\"#ed7953\"],[0.7777777777777778,\"#fb9f3a\"],[0.8888888888888888,\"#fdca26\"],[1.0,\"#f0f921\"]],\"type\":\"histogram2d\"}],\"histogram\":[{\"marker\":{\"pattern\":{\"fillmode\":\"overlay\",\"size\":10,\"solidity\":0.2}},\"type\":\"histogram\"}],\"mesh3d\":[{\"colorbar\":{\"outlinewidth\":0,\"ticks\":\"\"},\"type\":\"mesh3d\"}],\"parcoords\":[{\"line\":{\"colorbar\":{\"outlinewidth\":0,\"ticks\":\"\"}},\"type\":\"parcoords\"}],\"pie\":[{\"automargin\":true,\"type\":\"pie\"}],\"scatter3d\":[{\"line\":{\"colorbar\":{\"outlinewidth\":0,\"ticks\":\"\"}},\"marker\":{\"colorbar\":{\"outlinewidth\":0,\"ticks\":\"\"}},\"type\":\"scatter3d\"}],\"scattercarpet\":[{\"marker\":{\"colorbar\":{\"outlinewidth\":0,\"ticks\":\"\"}},\"type\":\"scattercarpet\"}],\"scattergeo\":[{\"marker\":{\"colorbar\":{\"outlinewidth\":0,\"ticks\":\"\"}},\"type\":\"scattergeo\"}],\"scattergl\":[{\"marker\":{\"colorbar\":{\"outlinewidth\":0,\"ticks\":\"\"}},\"type\":\"scattergl\"}],\"scattermapbox\":[{\"marker\":{\"colorbar\":{\"outlinewidth\":0,\"ticks\":\"\"}},\"type\":\"scattermapbox\"}],\"scattermap\":[{\"marker\":{\"colorbar\":{\"outlinewidth\":0,\"ticks\":\"\"}},\"type\":\"scattermap\"}],\"scatterpolargl\":[{\"marker\":{\"colorbar\":{\"outlinewidth\":0,\"ticks\":\"\"}},\"type\":\"scatterpolargl\"}],\"scatterpolar\":[{\"marker\":{\"colorbar\":{\"outlinewidth\":0,\"ticks\":\"\"}},\"type\":\"scatterpolar\"}],\"scatter\":[{\"fillpattern\":{\"fillmode\":\"overlay\",\"size\":10,\"solidity\":0.2},\"type\":\"scatter\"}],\"scatterternary\":[{\"marker\":{\"colorbar\":{\"outlinewidth\":0,\"ticks\":\"\"}},\"type\":\"scatterternary\"}],\"surface\":[{\"colorbar\":{\"outlinewidth\":0,\"ticks\":\"\"},\"colorscale\":[[0.0,\"#0d0887\"],[0.1111111111111111,\"#46039f\"],[0.2222222222222222,\"#7201a8\"],[0.3333333333333333,\"#9c179e\"],[0.4444444444444444,\"#bd3786\"],[0.5555555555555556,\"#d8576b\"],[0.6666666666666666,\"#ed7953\"],[0.7777777777777778,\"#fb9f3a\"],[0.8888888888888888,\"#fdca26\"],[1.0,\"#f0f921\"]],\"type\":\"surface\"}],\"table\":[{\"cells\":{\"fill\":{\"color\":\"#EBF0F8\"},\"line\":{\"color\":\"white\"}},\"header\":{\"fill\":{\"color\":\"#C8D4E3\"},\"line\":{\"color\":\"white\"}},\"type\":\"table\"}]},\"layout\":{\"annotationdefaults\":{\"arrowcolor\":\"#2a3f5f\",\"arrowhead\":0,\"arrowwidth\":1},\"autotypenumbers\":\"strict\",\"coloraxis\":{\"colorbar\":{\"outlinewidth\":0,\"ticks\":\"\"}},\"colorscale\":{\"diverging\":[[0,\"#8e0152\"],[0.1,\"#c51b7d\"],[0.2,\"#de77ae\"],[0.3,\"#f1b6da\"],[0.4,\"#fde0ef\"],[0.5,\"#f7f7f7\"],[0.6,\"#e6f5d0\"],[0.7,\"#b8e186\"],[0.8,\"#7fbc41\"],[0.9,\"#4d9221\"],[1,\"#276419\"]],\"sequential\":[[0.0,\"#0d0887\"],[0.1111111111111111,\"#46039f\"],[0.2222222222222222,\"#7201a8\"],[0.3333333333333333,\"#9c179e\"],[0.4444444444444444,\"#bd3786\"],[0.5555555555555556,\"#d8576b\"],[0.6666666666666666,\"#ed7953\"],[0.7777777777777778,\"#fb9f3a\"],[0.8888888888888888,\"#fdca26\"],[1.0,\"#f0f921\"]],\"sequentialminus\":[[0.0,\"#0d0887\"],[0.1111111111111111,\"#46039f\"],[0.2222222222222222,\"#7201a8\"],[0.3333333333333333,\"#9c179e\"],[0.4444444444444444,\"#bd3786\"],[0.5555555555555556,\"#d8576b\"],[0.6666666666666666,\"#ed7953\"],[0.7777777777777778,\"#fb9f3a\"],[0.8888888888888888,\"#fdca26\"],[1.0,\"#f0f921\"]]},\"colorway\":[\"#636efa\",\"#EF553B\",\"#00cc96\",\"#ab63fa\",\"#FFA15A\",\"#19d3f3\",\"#FF6692\",\"#B6E880\",\"#FF97FF\",\"#FECB52\"],\"font\":{\"color\":\"#2a3f5f\"},\"geo\":{\"bgcolor\":\"white\",\"lakecolor\":\"white\",\"landcolor\":\"white\",\"showlakes\":true,\"showland\":true,\"subunitcolor\":\"#C8D4E3\"},\"hoverlabel\":{\"align\":\"left\"},\"hovermode\":\"closest\",\"mapbox\":{\"style\":\"light\"},\"paper_bgcolor\":\"white\",\"plot_bgcolor\":\"white\",\"polar\":{\"angularaxis\":{\"gridcolor\":\"#EBF0F8\",\"linecolor\":\"#EBF0F8\",\"ticks\":\"\"},\"bgcolor\":\"white\",\"radialaxis\":{\"gridcolor\":\"#EBF0F8\",\"linecolor\":\"#EBF0F8\",\"ticks\":\"\"}},\"scene\":{\"xaxis\":{\"backgroundcolor\":\"white\",\"gridcolor\":\"#DFE8F3\",\"gridwidth\":2,\"linecolor\":\"#EBF0F8\",\"showbackground\":true,\"ticks\":\"\",\"zerolinecolor\":\"#EBF0F8\"},\"yaxis\":{\"backgroundcolor\":\"white\",\"gridcolor\":\"#DFE8F3\",\"gridwidth\":2,\"linecolor\":\"#EBF0F8\",\"showbackground\":true,\"ticks\":\"\",\"zerolinecolor\":\"#EBF0F8\"},\"zaxis\":{\"backgroundcolor\":\"white\",\"gridcolor\":\"#DFE8F3\",\"gridwidth\":2,\"linecolor\":\"#EBF0F8\",\"showbackground\":true,\"ticks\":\"\",\"zerolinecolor\":\"#EBF0F8\"}},\"shapedefaults\":{\"line\":{\"color\":\"#2a3f5f\"}},\"ternary\":{\"aaxis\":{\"gridcolor\":\"#DFE8F3\",\"linecolor\":\"#A2B1C6\",\"ticks\":\"\"},\"baxis\":{\"gridcolor\":\"#DFE8F3\",\"linecolor\":\"#A2B1C6\",\"ticks\":\"\"},\"bgcolor\":\"white\",\"caxis\":{\"gridcolor\":\"#DFE8F3\",\"linecolor\":\"#A2B1C6\",\"ticks\":\"\"}},\"title\":{\"x\":0.05},\"xaxis\":{\"automargin\":true,\"gridcolor\":\"#EBF0F8\",\"linecolor\":\"#EBF0F8\",\"ticks\":\"\",\"title\":{\"standoff\":15},\"zerolinecolor\":\"#EBF0F8\",\"zerolinewidth\":2},\"yaxis\":{\"automargin\":true,\"gridcolor\":\"#EBF0F8\",\"linecolor\":\"#EBF0F8\",\"ticks\":\"\",\"title\":{\"standoff\":15},\"zerolinecolor\":\"#EBF0F8\",\"zerolinewidth\":2}}},\"xaxis\":{\"anchor\":\"y\",\"domain\":[0.0,0.45]},\"yaxis\":{\"anchor\":\"x\",\"domain\":[0.625,1.0]},\"xaxis2\":{\"anchor\":\"y2\",\"domain\":[0.55,1.0]},\"yaxis2\":{\"anchor\":\"x2\",\"domain\":[0.625,1.0]},\"xaxis3\":{\"anchor\":\"y3\",\"domain\":[0.55,1.0]},\"yaxis3\":{\"anchor\":\"x3\",\"domain\":[0.0,0.375]},\"annotations\":[{\"font\":{\"size\":16},\"showarrow\":false,\"text\":\"Calories per Meal\",\"x\":0.225,\"xanchor\":\"center\",\"xref\":\"paper\",\"y\":1.0,\"yanchor\":\"bottom\",\"yref\":\"paper\"},{\"font\":{\"size\":16},\"showarrow\":false,\"text\":\"Protein Distribution\",\"x\":0.775,\"xanchor\":\"center\",\"xref\":\"paper\",\"y\":1.0,\"yanchor\":\"bottom\",\"yref\":\"paper\"},{\"font\":{\"size\":16},\"showarrow\":false,\"text\":\"Macronutrient Breakdown\",\"x\":0.225,\"xanchor\":\"center\",\"xref\":\"paper\",\"y\":0.375,\"yanchor\":\"bottom\",\"yref\":\"paper\"},{\"font\":{\"size\":16},\"showarrow\":false,\"text\":\"Reward Scores\",\"x\":0.775,\"xanchor\":\"center\",\"xref\":\"paper\",\"y\":0.375,\"yanchor\":\"bottom\",\"yref\":\"paper\"}],\"title\":{\"text\":\"\\ud83c\\udf7d\\ufe0f Meal Plan Analysis Dashboard\"},\"height\":700,\"showlegend\":false},                        {\"responsive\": true}                    ).then(function(){\n",
              "                            \n",
              "var gd = document.getElementById('6a6de113-c24c-458f-ad13-cb9464154e54');\n",
              "var x = new MutationObserver(function (mutations, observer) {{\n",
              "        var display = window.getComputedStyle(gd).display;\n",
              "        if (!display || display === 'none') {{\n",
              "            console.log([gd, 'removed!']);\n",
              "            Plotly.purge(gd);\n",
              "            observer.disconnect();\n",
              "        }}\n",
              "}});\n",
              "\n",
              "// Listen for the removal of the full notebook cells\n",
              "var notebookContainer = gd.closest('#notebook-container');\n",
              "if (notebookContainer) {{\n",
              "    x.observe(notebookContainer, {childList: true});\n",
              "}}\n",
              "\n",
              "// Listen for the clearing of the current output cell\n",
              "var outputEl = gd.closest('.output');\n",
              "if (outputEl) {{\n",
              "    x.observe(outputEl, {childList: true});\n",
              "}}\n",
              "\n",
              "                        })                };            </script>        </div>"
            ]
          },
          "metadata": {},
          "output_type": "display_data"
        },
        {
          "name": "stdout",
          "output_type": "stream",
          "text": [
            "\n",
            "----------------------------------------------------------------------\n",
            "📊 DAILY NUTRITION SUMMARY\n",
            "----------------------------------------------------------------------\n",
            "Calories: 1047 / 2682 (39.0%)\n",
            "Protein:  23.9g / 167.6g (14.2%)\n",
            "Carbs:    182.0g / 301.7g (60.3%)\n",
            "Fat:      20.6g / 89.4g (23.1%)\n"
          ]
        }
      ],
      "source": [
        "if RL_AVAILABLE and agent:\n",
        "    print(\"🍽️ Generating AI meal plan...\")\n",
        "    \n",
        "    # Reset environment and generate meal plan\n",
        "    observation, _ = env.reset()\n",
        "    meals_data = []\n",
        "    total_nutrition = {'calories': 0, 'protein': 0, 'carbohydrates': 0, 'fat': 0}\n",
        "    \n",
        "    print(\"\\n\" + \"=\"*70)\n",
        "    print(\"🍽️ AI-GENERATED MEAL PLAN\")\n",
        "    print(\"=\"*70)\n",
        "    \n",
        "    for step in range(5):  # Generate 5 meals\n",
        "        # Get action from trained agent\n",
        "        action, _, _ = agent.select_action(observation, training=False)\n",
        "        \n",
        "        # Take step in environment\n",
        "        observation, reward, done, truncated, info = env.step(action)\n",
        "        \n",
        "        if 'selected_food' in info:\n",
        "            food = info['selected_food']\n",
        "            portion = info['portion_size']\n",
        "            meal_nutrition = info['meal_nutrition']\n",
        "            \n",
        "            # Store meal data for visualization\n",
        "            meals_data.append({\n",
        "                'meal': f'Meal {step + 1}',\n",
        "                'food': food.name,\n",
        "                'portion': portion,\n",
        "                'calories': meal_nutrition['calories'],\n",
        "                'protein': meal_nutrition['protein'],\n",
        "                'carbohydrates': meal_nutrition['carbohydrates'],\n",
        "                'fat': meal_nutrition['fat'],\n",
        "                'reward': reward\n",
        "            })\n",
        "            \n",
        "            print(f\"\\n🍴 Meal {step + 1}: {food.name}\")\n",
        "            print(f\"   Portion: {portion:.0f}g\")\n",
        "            print(f\"   Calories: {meal_nutrition['calories']:.0f} kcal\")\n",
        "            print(f\"   P: {meal_nutrition['protein']:.1f}g | C: {meal_nutrition['carbohydrates']:.1f}g | F: {meal_nutrition['fat']:.1f}g\")\n",
        "            print(f\"   Reward Score: {reward:.3f}\")\n",
        "            \n",
        "            # Update totals\n",
        "            for key in total_nutrition:\n",
        "                total_nutrition[key] += meal_nutrition[key]\n",
        "        \n",
        "        if done or truncated:\n",
        "            break\n",
        "    \n",
        "    # Create interactive meal visualization\n",
        "    if meals_data:\n",
        "        df_meals = pd.DataFrame(meals_data)\n",
        "        \n",
        "        # Nutritional breakdown chart\n",
        "        fig = make_subplots(\n",
        "            rows=2, cols=2,\n",
        "            subplot_titles=('Calories per Meal', 'Protein Distribution', \n",
        "                           'Macronutrient Breakdown', 'Reward Scores'),\n",
        "            specs=[[{\"type\": \"bar\"}, {\"type\": \"bar\"}],\n",
        "                   [{\"type\": \"pie\"}, {\"type\": \"bar\"}]]\n",
        "        )\n",
        "        \n",
        "        # Calories per meal\n",
        "        fig.add_trace(\n",
        "            go.Bar(x=df_meals['meal'], y=df_meals['calories'], \n",
        "                   name='Calories', marker_color='orange',\n",
        "                   text=[f\"{cal:.0f}\" for cal in df_meals['calories']],\n",
        "                   textposition='auto'),\n",
        "            row=1, col=1\n",
        "        )\n",
        "        \n",
        "        # Protein distribution\n",
        "        fig.add_trace(\n",
        "            go.Bar(x=df_meals['meal'], y=df_meals['protein'], \n",
        "                   name='Protein', marker_color='red',\n",
        "                   text=[f\"{prot:.1f}g\" for prot in df_meals['protein']],\n",
        "                   textposition='auto'),\n",
        "            row=1, col=2\n",
        "        )\n",
        "        \n",
        "        # Macronutrient pie chart\n",
        "        fig.add_trace(\n",
        "            go.Pie(labels=['Protein', 'Carbohydrates', 'Fat'],\n",
        "                   values=[total_nutrition['protein']*4, \n",
        "                          total_nutrition['carbohydrates']*4, \n",
        "                          total_nutrition['fat']*9],\n",
        "                   name='Macros'),\n",
        "            row=2, col=1\n",
        "        )\n",
        "        \n",
        "        # Reward scores\n",
        "        fig.add_trace(\n",
        "            go.Bar(x=df_meals['meal'], y=df_meals['reward'], \n",
        "                   name='Reward', marker_color='green',\n",
        "                   text=[f\"{rew:.2f}\" for rew in df_meals['reward']],\n",
        "                   textposition='auto'),\n",
        "            row=2, col=2\n",
        "        )\n",
        "        \n",
        "        fig.update_layout(\n",
        "            title='🍽️ Meal Plan Analysis Dashboard',\n",
        "            height=700,\n",
        "            showlegend=False,\n",
        "            template='plotly_white'\n",
        "        )\n",
        "        \n",
        "        fig.show()\n",
        "    \n",
        "    # Show targets vs actual\n",
        "    target_cals = user_profile.goals['target_calories']\n",
        "    target_protein, target_carbs, target_fat = user_profile.get_target_macro_grams()\n",
        "    \n",
        "    print(\"\\n\" + \"-\"*70)\n",
        "    print(\"📊 DAILY NUTRITION SUMMARY\")\n",
        "    print(\"-\"*70)\n",
        "    print(f\"Calories: {total_nutrition['calories']:.0f} / {target_cals} ({total_nutrition['calories']/target_cals:.1%})\")\n",
        "    print(f\"Protein:  {total_nutrition['protein']:.1f}g / {target_protein:.1f}g ({total_nutrition['protein']/target_protein:.1%})\")\n",
        "    print(f\"Carbs:    {total_nutrition['carbohydrates']:.1f}g / {target_carbs:.1f}g ({total_nutrition['carbohydrates']/target_carbs:.1%})\")\n",
        "    print(f\"Fat:      {total_nutrition['fat']:.1f}g / {target_fat:.1f}g ({total_nutrition['fat']/target_fat:.1%})\")\n",
        "    \n",
        "else:\n",
        "    print(\"❌ Cannot generate meal plan - Agent not available\")"
      ]
    },
    {
      "cell_type": "markdown",
      "metadata": {},
      "source": [
        "## 🔍 Food Database Explorer"
      ]
    },
    {
      "cell_type": "code",
      "execution_count": 9,
      "metadata": {},
      "outputs": [
        {
          "name": "stdout",
          "output_type": "stream",
          "text": [
            "🔍 Exploring food database with 901 items...\n"
          ]
        },
        {
          "data": {
            "application/vnd.plotly.v1+json": {
              "config": {
                "plotlyServerURL": "https://plot.ly"
              },
              "data": [
                {
                  "customdata": [
                    [
                      "Organic Chicken Stock Cubes 8 ",
                      0.7
                    ],
                    [
                      "Salade & Compagnie Manhattan P",
                      17
                    ],
                    [
                      "Blanc de Poulet",
                      0.5
                    ],
                    [
                      "Instant Nudeln - Chicken Flavo",
                      9.1
                    ],
                    [
                      "Classic Chicken Soup",
                      4
                    ],
                    [
                      "Roast chicken and traditional ",
                      4.8
                    ],
                    [
                      "Caldo casero de pollo",
                      0.2
                    ],
                    [
                      "very low salt organic chicken",
                      0.8
                    ],
                    [
                      "HERTA Blanc Poulet Nature cons",
                      0.9
                    ],
                    [
                      "Chicken Stock Pot 8 x",
                      10
                    ],
                    [
                      "Chicken italia chipolatas",
                      3.82
                    ],
                    [
                      "Chicken Stock Pot 4 x",
                      9.1
                    ],
                    [
                      "Tiras Pollo al natural",
                      0.6
                    ],
                    [
                      "Pechuguita de pollo asada al h",
                      0.5
                    ],
                    [
                      "Cully & sully, Chicken Vegetab",
                      4.7
                    ],
                    [
                      "Penne au Poulet et au Pesto",
                      20
                    ],
                    [
                      "Super Noodles Chicken Flavour",
                      19.7
                    ],
                    [
                      "Brilliant Broth Chicken Ramen",
                      0.84
                    ],
                    [
                      "Lightly Salted Corn Cakes",
                      85
                    ],
                    [
                      "Bisto chicken gravy",
                      61.6
                    ],
                    [
                      "Buldak Hot Chicken Flavor Rame",
                      64.6
                    ],
                    [
                      "Simply Chicken Chipolatas",
                      4.36
                    ],
                    [
                      "Chicken stock",
                      0.7
                    ],
                    [
                      "Chicken and Lentil with Butter",
                      4
                    ],
                    [
                      "6 Free Range Eggs",
                      0.1
                    ],
                    [
                      "Cream of Chicken soup",
                      4.9
                    ],
                    [
                      "Buldak Hot Chicken Flavor Rame",
                      61.4
                    ],
                    [
                      "What The Cluck Vegan Chicken S",
                      2.9
                    ],
                    [
                      "Chicken stock cube",
                      0.5
                    ],
                    [
                      "Demae Ramen - Chicken",
                      11.1
                    ],
                    [
                      "Buldak Hot Chicken Flavour Ram",
                      60.7
                    ],
                    [
                      "Chicken Stock cubes 8 x",
                      0.5
                    ],
                    [
                      "Caesar Poulet rôti",
                      3.9
                    ],
                    [
                      "Classic Butter Chicken Kit",
                      8.9
                    ],
                    [
                      "Emincés de Poulet - Rôtis au F",
                      0.8
                    ],
                    [
                      "Aiguillettes de poulet à la mo",
                      6.2
                    ],
                    [
                      "Moroccan Spiced Chicken & Chic",
                      7.2
                    ],
                    [
                      "Rillettes de Poulet Rôti en co",
                      0.5
                    ],
                    [
                      "Рамен Buldak cheese Hot chicke",
                      60.7
                    ],
                    [
                      "Chicken & Mushroom",
                      60
                    ],
                    [
                      "12 British Free Range Eggs",
                      0.5
                    ],
                    [
                      "Œufs de poules élevées en plei",
                      0.5
                    ],
                    [
                      "chicken stock",
                      1.3
                    ],
                    [
                      "Blanc de Poulet - Rôti à la Br",
                      0.5
                    ],
                    [
                      "Large free range eggs",
                      0.1
                    ],
                    [
                      "Chicken Tikka Masala & Pilau R",
                      74.1
                    ],
                    [
                      "Chicken Dippers",
                      22
                    ],
                    [
                      "6 British Free Range Eggs",
                      0
                    ],
                    [
                      "Riz coco curry et poulet rôti",
                      22
                    ],
                    [
                      "Rice noodles chick-n ramen",
                      13
                    ],
                    [
                      "Organic Beef Stock Cubes 8 Pac",
                      0.6
                    ],
                    [
                      "Bovril Beef and Yeast Extract",
                      13
                    ],
                    [
                      "Knorr Beef Flavored Buillon Cu",
                      0.5
                    ],
                    [
                      "Cube De Bouillon - Boeuf (beef",
                      16
                    ],
                    [
                      "Ravioli pur bœuf  sans coloran",
                      13
                    ],
                    [
                      "YumYum Beef",
                      8.6
                    ],
                    [
                      "Macaroni sauce tomate et boule",
                      18
                    ],
                    [
                      "Oxo Beef",
                      35.7
                    ],
                    [
                      "Emincés de boeuf sauce poivre ",
                      12.1
                    ],
                    [
                      "Le Parmentier de Boeuf Charola",
                      9.7
                    ],
                    [
                      "Bouillon arome boeuf",
                      16
                    ],
                    [
                      "Oxo 24 Beef Stock Cubes",
                      35.7
                    ],
                    [
                      "Potts' Beef Stock",
                      1.7
                    ],
                    [
                      "Parmentier de boeuf Aubrac",
                      11
                    ],
                    [
                      "Beef Gravy",
                      68.1
                    ],
                    [
                      "Corned beef",
                      1.1
                    ],
                    [
                      "Original Beef Flavor Grass Fed",
                      0
                    ],
                    [
                      "intense rich beef",
                      10
                    ],
                    [
                      "Hachis parmentier les classiqu",
                      10
                    ],
                    [
                      "Beef Ravioli",
                      12
                    ],
                    [
                      "Huvudroll",
                      5
                    ],
                    [
                      "Maxi Cheese Burger",
                      20
                    ],
                    [
                      "Thins Cheddar & Pepper",
                      58
                    ],
                    [
                      "Beef Lasagne",
                      12.4
                    ],
                    [
                      "Coup Noodles Beef",
                      9.6
                    ],
                    [
                      "This isn’t beef burgers",
                      5.5
                    ],
                    [
                      "Viande de grisons",
                      1.5
                    ],
                    [
                      "Viande des grisons",
                      0.2
                    ],
                    [
                      "Le Ravioli Bolognaise sans con",
                      11
                    ],
                    [
                      "Scotch Lean Beef Steak Mince 5",
                      0
                    ],
                    [
                      "Suet",
                      10.7
                    ],
                    [
                      "Boeuf Bourguignon et ses pomme",
                      7.9
                    ],
                    [
                      "Oxo Beef Reduced Salt",
                      41.6
                    ],
                    [
                      "",
                      15
                    ],
                    [
                      "hula hoops bbq",
                      62.5
                    ],
                    [
                      "Hamburguesa de Lomo",
                      0.5
                    ],
                    [
                      "Beef Jerky Original 25g Jack L",
                      20
                    ],
                    [
                      "Beef Stock Pot 8 x",
                      3.4
                    ],
                    [
                      "Beef stock pot",
                      3.4
                    ],
                    [
                      "Kallo very low salt organic be",
                      1.46
                    ],
                    [
                      "Hachis Parmentier formule expr",
                      10
                    ],
                    [
                      "Ravioli Pur Bœuf",
                      13
                    ],
                    [
                      "Corned Beef",
                      0.5
                    ],
                    [
                      "Esprit de Famille - Hachis Par",
                      13
                    ],
                    [
                      "Beef Stock cubes 8 x",
                      0.5
                    ],
                    [
                      "NYC Deli Pastrami Style",
                      5.9
                    ],
                    [
                      "Lasagnes à la bolognaise",
                      14
                    ],
                    [
                      "Corned beef",
                      0.5
                    ],
                    [
                      "Beef Stock Cube",
                      35.7
                    ],
                    [
                      "Filets de Maquereaux à la mout",
                      0.6
                    ],
                    [
                      "Cod Fish Fingers",
                      20
                    ],
                    [
                      "Fisch Thunfisch Filets in eige",
                      0
                    ],
                    [
                      "Croustibat",
                      16
                    ],
                    [
                      "Salade & Compagnie - Antibes",
                      20
                    ],
                    [
                      "10 Fish Fingers Omega 3",
                      21
                    ],
                    [
                      "Colin d'Alaska MSC façon Fish ",
                      19
                    ],
                    [
                      "15 Breaded Omega 3 Fish Finger",
                      16.4
                    ],
                    [
                      "Foie de Morue nature au sel de",
                      2.3
                    ],
                    [
                      "Filets de maquereaux aux vin b",
                      0.5
                    ],
                    [
                      "St Jacques fondue de poireaux ",
                      16
                    ],
                    [
                      "Fischstäbchen",
                      15.2
                    ],
                    [
                      "Poisson à l'andalouse riz safr",
                      9.7
                    ],
                    [
                      "Fish sauce imp",
                      11.6
                    ],
                    [
                      "Battered Chunky Fish Fingers",
                      43.9
                    ],
                    [
                      "Rainbow Salmon Poke",
                      25.1
                    ],
                    [
                      "Mackrel Fillets in spicy tomat",
                      7.2
                    ],
                    [
                      "Bâtonnets de surimi",
                      9.5
                    ],
                    [
                      "Mackerel fillets",
                      1.2
                    ],
                    [
                      "Omega-3 Fish Fingers",
                      17.1
                    ],
                    [
                      "Fish fingers",
                      21
                    ],
                    [
                      "fish fingers",
                      19
                    ],
                    [
                      "Tesco mackerel in tomato sauce",
                      2
                    ],
                    [
                      "Fish Pie",
                      8.3
                    ],
                    [
                      "Mackerel in Tomato Sauce",
                      4.4
                    ],
                    [
                      "Riz à la Provençale au Thon & ",
                      18
                    ],
                    [
                      "Mini fish",
                      65
                    ],
                    [
                      "2 Lemon & Pepper Fish Fillets",
                      23.2
                    ],
                    [
                      "Thon listao au naturel pêché l",
                      0
                    ],
                    [
                      "Smoked haddock & salmon chowde",
                      7.3
                    ],
                    [
                      "IGLO Tk-Fisch Fischstäbchen 15",
                      18
                    ],
                    [
                      "Chunky cod fillet fish fingers",
                      17.299999237061
                    ],
                    [
                      "Tranches panées de Cabillaud M",
                      15
                    ],
                    [
                      "10 Breaded Cod Fish Fingers",
                      16
                    ],
                    [
                      "2 dos de cabillaud façon fish ",
                      7.5
                    ],
                    [
                      "salade THON OEUF CRUDITES",
                      4.4
                    ],
                    [
                      "Thon entier au naturel",
                      0.5
                    ],
                    [
                      "Filets de colin d'Alaska MSC p",
                      19
                    ],
                    [
                      "Omega 3 Fish Fingers",
                      20
                    ],
                    [
                      "Cod Fishfingers",
                      17.3
                    ],
                    [
                      "Gésiers de volaille confits",
                      0
                    ],
                    [
                      "Colin d'Alaska façon Fish and ",
                      19
                    ],
                    [
                      "Salmon Fillets",
                      0
                    ],
                    [
                      "Insalatissime, messicana e Ton",
                      8.3
                    ],
                    [
                      "Youngs Salt Pepper Basa Fillet",
                      10.5
                    ],
                    [
                      "Foie de morue",
                      1.8
                    ],
                    [
                      "Filet de thon au naturel",
                      0
                    ],
                    [
                      "10 fish fingers",
                      19.8
                    ],
                    [
                      "Mayonnaise",
                      1.4
                    ],
                    [
                      "Seriously Good Times Mayonnais",
                      3.1
                    ],
                    [
                      "Real Mayonnaise",
                      1.5
                    ],
                    [
                      "6111259347106",
                      60
                    ],
                    [
                      "Medium Egg Noodles imp",
                      27.6
                    ],
                    [
                      "Petites Madeleines",
                      55
                    ],
                    [
                      "Havarti light",
                      1.6
                    ],
                    [
                      "Queso blanco light cheese",
                      4.8
                    ],
                    [
                      "10 Pains au lait frais sans su",
                      47
                    ],
                    [
                      "La Grande Galette 1905",
                      70
                    ],
                    [
                      "Caldo de pollo",
                      1.3
                    ],
                    [
                      "Medium Egg Noodles",
                      30.4
                    ],
                    [
                      "Spinach Ricotta Tortelloni",
                      32.4
                    ],
                    [
                      "Avocado & Lemon Mayo",
                      0.3
                    ],
                    [
                      "Medium Egg Noodles",
                      30.4
                    ],
                    [
                      "Chocolate Fudge Brownie",
                      25
                    ],
                    [
                      "Mayonnaise",
                      2.1
                    ],
                    [
                      "Avocado Oil Mayo",
                      0.1
                    ],
                    [
                      "Real Mayonnaise",
                      3.9
                    ],
                    [
                      "Œufs frais plein air",
                      0.5
                    ],
                    [
                      "Medium Egg Noodles",
                      37.5
                    ],
                    [
                      "lesieur",
                      3
                    ],
                    [
                      "Pasta Lentejas Mercadona",
                      50
                    ],
                    [
                      "Œufs",
                      0.27
                    ],
                    [
                      "Medium egg Noodles",
                      64.5
                    ],
                    [
                      "Mini Eggs",
                      70
                    ],
                    [
                      "Almond breeze",
                      2.9
                    ],
                    [
                      "Stéphanie eleveur",
                      0.5
                    ],
                    [
                      "heinz mayo",
                      3
                    ],
                    [
                      "Misura Privolat",
                      68.9
                    ],
                    [
                      "4 Röstis de légumes et cheddar",
                      10
                    ],
                    [
                      "8 Pains au chocolat pur beurre",
                      45
                    ],
                    [
                      "Mayonnaise classique",
                      2.8
                    ],
                    [
                      "María sin gluten",
                      66
                    ],
                    [
                      "Galettes au bon beurre bio",
                      73
                    ],
                    [
                      "Fine egg noodles",
                      27.6
                    ],
                    [
                      "Free Range Eggs (Medium)",
                      0.833
                    ],
                    [
                      "Lustucru tortellini jambon cru",
                      41
                    ],
                    [
                      "Organic 6 Mixed Sizes Free Ran",
                      0.1
                    ],
                    [
                      "Brioche tranchee au skyr 450g",
                      49
                    ],
                    [
                      "12 free range British eggs",
                      0.5
                    ],
                    [
                      "Tofoo Naked",
                      1.1
                    ],
                    [
                      "Smoked Tofu",
                      1.87
                    ],
                    [
                      "Tofu nature",
                      2
                    ],
                    [
                      "Tofoo Naked Xl",
                      1.1
                    ],
                    [
                      "Tofu fumé",
                      2.1
                    ],
                    [
                      "Authentic Tofu",
                      2.9
                    ],
                    [
                      "Marinated Tofu",
                      1
                    ],
                    [
                      "Organic tofu imp",
                      2.8
                    ],
                    [
                      "Räuchertofu Mandel-Sesam",
                      1.5
                    ],
                    [
                      "Filets de tofu à la japonaise",
                      2.4
                    ],
                    [
                      "Organic Tofu",
                      0.8
                    ],
                    [
                      "Ravioli au tofu, tomates, basi",
                      15
                    ]
                  ],
                  "hovertemplate": "Calories (per 100g)=%{x}<br>Protein (g)=%{y}<br>quality_score=%{marker.size}<br>name=%{customdata[0]}<br>carbohydrates=%{customdata[1]}<br>fat=%{marker.color}<extra></extra>",
                  "legendgroup": "",
                  "marker": {
                    "color": {
                      "bdata": "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",
                      "dtype": "f8"
                    },
                    "coloraxis": "coloraxis",
                    "size": {
                      "bdata": "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",
                      "dtype": "f8"
                    },
                    "sizemode": "area",
                    "sizeref": 0.0025,
                    "symbol": "circle"
                  },
                  "mode": "markers",
                  "name": "",
                  "orientation": "v",
                  "showlegend": false,
                  "type": "scatter",
                  "x": {
                    "bdata": "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",
                    "dtype": "f8"
                  },
                  "xaxis": "x",
                  "y": {
                    "bdata": "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",
                    "dtype": "f8"
                  },
                  "yaxis": "y"
                }
              ],
              "layout": {
                "coloraxis": {
                  "colorbar": {
                    "title": {
                      "text": "fat"
                    }
                  },
                  "colorscale": [
                    [
                      0,
                      "#0d0887"
                    ],
                    [
                      0.1111111111111111,
                      "#46039f"
                    ],
                    [
                      0.2222222222222222,
                      "#7201a8"
                    ],
                    [
                      0.3333333333333333,
                      "#9c179e"
                    ],
                    [
                      0.4444444444444444,
                      "#bd3786"
                    ],
                    [
                      0.5555555555555556,
                      "#d8576b"
                    ],
                    [
                      0.6666666666666666,
                      "#ed7953"
                    ],
                    [
                      0.7777777777777778,
                      "#fb9f3a"
                    ],
                    [
                      0.8888888888888888,
                      "#fdca26"
                    ],
                    [
                      1,
                      "#f0f921"
                    ]
                  ]
                },
                "height": 600,
                "legend": {
                  "itemsizing": "constant",
                  "tracegroupgap": 0
                },
                "template": {
                  "data": {
                    "bar": [
                      {
                        "error_x": {
                          "color": "#2a3f5f"
                        },
                        "error_y": {
                          "color": "#2a3f5f"
                        },
                        "marker": {
                          "line": {
                            "color": "white",
                            "width": 0.5
                          },
                          "pattern": {
                            "fillmode": "overlay",
                            "size": 10,
                            "solidity": 0.2
                          }
                        },
                        "type": "bar"
                      }
                    ],
                    "barpolar": [
                      {
                        "marker": {
                          "line": {
                            "color": "white",
                            "width": 0.5
                          },
                          "pattern": {
                            "fillmode": "overlay",
                            "size": 10,
                            "solidity": 0.2
                          }
                        },
                        "type": "barpolar"
                      }
                    ],
                    "carpet": [
                      {
                        "aaxis": {
                          "endlinecolor": "#2a3f5f",
                          "gridcolor": "#C8D4E3",
                          "linecolor": "#C8D4E3",
                          "minorgridcolor": "#C8D4E3",
                          "startlinecolor": "#2a3f5f"
                        },
                        "baxis": {
                          "endlinecolor": "#2a3f5f",
                          "gridcolor": "#C8D4E3",
                          "linecolor": "#C8D4E3",
                          "minorgridcolor": "#C8D4E3",
                          "startlinecolor": "#2a3f5f"
                        },
                        "type": "carpet"
                      }
                    ],
                    "choropleth": [
                      {
                        "colorbar": {
                          "outlinewidth": 0,
                          "ticks": ""
                        },
                        "type": "choropleth"
                      }
                    ],
                    "contour": [
                      {
                        "colorbar": {
                          "outlinewidth": 0,
                          "ticks": ""
                        },
                        "colorscale": [
                          [
                            0,
                            "#0d0887"
                          ],
                          [
                            0.1111111111111111,
                            "#46039f"
                          ],
                          [
                            0.2222222222222222,
                            "#7201a8"
                          ],
                          [
                            0.3333333333333333,
                            "#9c179e"
                          ],
                          [
                            0.4444444444444444,
                            "#bd3786"
                          ],
                          [
                            0.5555555555555556,
                            "#d8576b"
                          ],
                          [
                            0.6666666666666666,
                            "#ed7953"
                          ],
                          [
                            0.7777777777777778,
                            "#fb9f3a"
                          ],
                          [
                            0.8888888888888888,
                            "#fdca26"
                          ],
                          [
                            1,
                            "#f0f921"
                          ]
                        ],
                        "type": "contour"
                      }
                    ],
                    "contourcarpet": [
                      {
                        "colorbar": {
                          "outlinewidth": 0,
                          "ticks": ""
                        },
                        "type": "contourcarpet"
                      }
                    ],
                    "heatmap": [
                      {
                        "colorbar": {
                          "outlinewidth": 0,
                          "ticks": ""
                        },
                        "colorscale": [
                          [
                            0,
                            "#0d0887"
                          ],
                          [
                            0.1111111111111111,
                            "#46039f"
                          ],
                          [
                            0.2222222222222222,
                            "#7201a8"
                          ],
                          [
                            0.3333333333333333,
                            "#9c179e"
                          ],
                          [
                            0.4444444444444444,
                            "#bd3786"
                          ],
                          [
                            0.5555555555555556,
                            "#d8576b"
                          ],
                          [
                            0.6666666666666666,
                            "#ed7953"
                          ],
                          [
                            0.7777777777777778,
                            "#fb9f3a"
                          ],
                          [
                            0.8888888888888888,
                            "#fdca26"
                          ],
                          [
                            1,
                            "#f0f921"
                          ]
                        ],
                        "type": "heatmap"
                      }
                    ],
                    "histogram": [
                      {
                        "marker": {
                          "pattern": {
                            "fillmode": "overlay",
                            "size": 10,
                            "solidity": 0.2
                          }
                        },
                        "type": "histogram"
                      }
                    ],
                    "histogram2d": [
                      {
                        "colorbar": {
                          "outlinewidth": 0,
                          "ticks": ""
                        },
                        "colorscale": [
                          [
                            0,
                            "#0d0887"
                          ],
                          [
                            0.1111111111111111,
                            "#46039f"
                          ],
                          [
                            0.2222222222222222,
                            "#7201a8"
                          ],
                          [
                            0.3333333333333333,
                            "#9c179e"
                          ],
                          [
                            0.4444444444444444,
                            "#bd3786"
                          ],
                          [
                            0.5555555555555556,
                            "#d8576b"
                          ],
                          [
                            0.6666666666666666,
                            "#ed7953"
                          ],
                          [
                            0.7777777777777778,
                            "#fb9f3a"
                          ],
                          [
                            0.8888888888888888,
                            "#fdca26"
                          ],
                          [
                            1,
                            "#f0f921"
                          ]
                        ],
                        "type": "histogram2d"
                      }
                    ],
                    "histogram2dcontour": [
                      {
                        "colorbar": {
                          "outlinewidth": 0,
                          "ticks": ""
                        },
                        "colorscale": [
                          [
                            0,
                            "#0d0887"
                          ],
                          [
                            0.1111111111111111,
                            "#46039f"
                          ],
                          [
                            0.2222222222222222,
                            "#7201a8"
                          ],
                          [
                            0.3333333333333333,
                            "#9c179e"
                          ],
                          [
                            0.4444444444444444,
                            "#bd3786"
                          ],
                          [
                            0.5555555555555556,
                            "#d8576b"
                          ],
                          [
                            0.6666666666666666,
                            "#ed7953"
                          ],
                          [
                            0.7777777777777778,
                            "#fb9f3a"
                          ],
                          [
                            0.8888888888888888,
                            "#fdca26"
                          ],
                          [
                            1,
                            "#f0f921"
                          ]
                        ],
                        "type": "histogram2dcontour"
                      }
                    ],
                    "mesh3d": [
                      {
                        "colorbar": {
                          "outlinewidth": 0,
                          "ticks": ""
                        },
                        "type": "mesh3d"
                      }
                    ],
                    "parcoords": [
                      {
                        "line": {
                          "colorbar": {
                            "outlinewidth": 0,
                            "ticks": ""
                          }
                        },
                        "type": "parcoords"
                      }
                    ],
                    "pie": [
                      {
                        "automargin": true,
                        "type": "pie"
                      }
                    ],
                    "scatter": [
                      {
                        "fillpattern": {
                          "fillmode": "overlay",
                          "size": 10,
                          "solidity": 0.2
                        },
                        "type": "scatter"
                      }
                    ],
                    "scatter3d": [
                      {
                        "line": {
                          "colorbar": {
                            "outlinewidth": 0,
                            "ticks": ""
                          }
                        },
                        "marker": {
                          "colorbar": {
                            "outlinewidth": 0,
                            "ticks": ""
                          }
                        },
                        "type": "scatter3d"
                      }
                    ],
                    "scattercarpet": [
                      {
                        "marker": {
                          "colorbar": {
                            "outlinewidth": 0,
                            "ticks": ""
                          }
                        },
                        "type": "scattercarpet"
                      }
                    ],
                    "scattergeo": [
                      {
                        "marker": {
                          "colorbar": {
                            "outlinewidth": 0,
                            "ticks": ""
                          }
                        },
                        "type": "scattergeo"
                      }
                    ],
                    "scattergl": [
                      {
                        "marker": {
                          "colorbar": {
                            "outlinewidth": 0,
                            "ticks": ""
                          }
                        },
                        "type": "scattergl"
                      }
                    ],
                    "scattermap": [
                      {
                        "marker": {
                          "colorbar": {
                            "outlinewidth": 0,
                            "ticks": ""
                          }
                        },
                        "type": "scattermap"
                      }
                    ],
                    "scattermapbox": [
                      {
                        "marker": {
                          "colorbar": {
                            "outlinewidth": 0,
                            "ticks": ""
                          }
                        },
                        "type": "scattermapbox"
                      }
                    ],
                    "scatterpolar": [
                      {
                        "marker": {
                          "colorbar": {
                            "outlinewidth": 0,
                            "ticks": ""
                          }
                        },
                        "type": "scatterpolar"
                      }
                    ],
                    "scatterpolargl": [
                      {
                        "marker": {
                          "colorbar": {
                            "outlinewidth": 0,
                            "ticks": ""
                          }
                        },
                        "type": "scatterpolargl"
                      }
                    ],
                    "scatterternary": [
                      {
                        "marker": {
                          "colorbar": {
                            "outlinewidth": 0,
                            "ticks": ""
                          }
                        },
                        "type": "scatterternary"
                      }
                    ],
                    "surface": [
                      {
                        "colorbar": {
                          "outlinewidth": 0,
                          "ticks": ""
                        },
                        "colorscale": [
                          [
                            0,
                            "#0d0887"
                          ],
                          [
                            0.1111111111111111,
                            "#46039f"
                          ],
                          [
                            0.2222222222222222,
                            "#7201a8"
                          ],
                          [
                            0.3333333333333333,
                            "#9c179e"
                          ],
                          [
                            0.4444444444444444,
                            "#bd3786"
                          ],
                          [
                            0.5555555555555556,
                            "#d8576b"
                          ],
                          [
                            0.6666666666666666,
                            "#ed7953"
                          ],
                          [
                            0.7777777777777778,
                            "#fb9f3a"
                          ],
                          [
                            0.8888888888888888,
                            "#fdca26"
                          ],
                          [
                            1,
                            "#f0f921"
                          ]
                        ],
                        "type": "surface"
                      }
                    ],
                    "table": [
                      {
                        "cells": {
                          "fill": {
                            "color": "#EBF0F8"
                          },
                          "line": {
                            "color": "white"
                          }
                        },
                        "header": {
                          "fill": {
                            "color": "#C8D4E3"
                          },
                          "line": {
                            "color": "white"
                          }
                        },
                        "type": "table"
                      }
                    ]
                  },
                  "layout": {
                    "annotationdefaults": {
                      "arrowcolor": "#2a3f5f",
                      "arrowhead": 0,
                      "arrowwidth": 1
                    },
                    "autotypenumbers": "strict",
                    "coloraxis": {
                      "colorbar": {
                        "outlinewidth": 0,
                        "ticks": ""
                      }
                    },
                    "colorscale": {
                      "diverging": [
                        [
                          0,
                          "#8e0152"
                        ],
                        [
                          0.1,
                          "#c51b7d"
                        ],
                        [
                          0.2,
                          "#de77ae"
                        ],
                        [
                          0.3,
                          "#f1b6da"
                        ],
                        [
                          0.4,
                          "#fde0ef"
                        ],
                        [
                          0.5,
                          "#f7f7f7"
                        ],
                        [
                          0.6,
                          "#e6f5d0"
                        ],
                        [
                          0.7,
                          "#b8e186"
                        ],
                        [
                          0.8,
                          "#7fbc41"
                        ],
                        [
                          0.9,
                          "#4d9221"
                        ],
                        [
                          1,
                          "#276419"
                        ]
                      ],
                      "sequential": [
                        [
                          0,
                          "#0d0887"
                        ],
                        [
                          0.1111111111111111,
                          "#46039f"
                        ],
                        [
                          0.2222222222222222,
                          "#7201a8"
                        ],
                        [
                          0.3333333333333333,
                          "#9c179e"
                        ],
                        [
                          0.4444444444444444,
                          "#bd3786"
                        ],
                        [
                          0.5555555555555556,
                          "#d8576b"
                        ],
                        [
                          0.6666666666666666,
                          "#ed7953"
                        ],
                        [
                          0.7777777777777778,
                          "#fb9f3a"
                        ],
                        [
                          0.8888888888888888,
                          "#fdca26"
                        ],
                        [
                          1,
                          "#f0f921"
                        ]
                      ],
                      "sequentialminus": [
                        [
                          0,
                          "#0d0887"
                        ],
                        [
                          0.1111111111111111,
                          "#46039f"
                        ],
                        [
                          0.2222222222222222,
                          "#7201a8"
                        ],
                        [
                          0.3333333333333333,
                          "#9c179e"
                        ],
                        [
                          0.4444444444444444,
                          "#bd3786"
                        ],
                        [
                          0.5555555555555556,
                          "#d8576b"
                        ],
                        [
                          0.6666666666666666,
                          "#ed7953"
                        ],
                        [
                          0.7777777777777778,
                          "#fb9f3a"
                        ],
                        [
                          0.8888888888888888,
                          "#fdca26"
                        ],
                        [
                          1,
                          "#f0f921"
                        ]
                      ]
                    },
                    "colorway": [
                      "#636efa",
                      "#EF553B",
                      "#00cc96",
                      "#ab63fa",
                      "#FFA15A",
                      "#19d3f3",
                      "#FF6692",
                      "#B6E880",
                      "#FF97FF",
                      "#FECB52"
                    ],
                    "font": {
                      "color": "#2a3f5f"
                    },
                    "geo": {
                      "bgcolor": "white",
                      "lakecolor": "white",
                      "landcolor": "white",
                      "showlakes": true,
                      "showland": true,
                      "subunitcolor": "#C8D4E3"
                    },
                    "hoverlabel": {
                      "align": "left"
                    },
                    "hovermode": "closest",
                    "mapbox": {
                      "style": "light"
                    },
                    "paper_bgcolor": "white",
                    "plot_bgcolor": "white",
                    "polar": {
                      "angularaxis": {
                        "gridcolor": "#EBF0F8",
                        "linecolor": "#EBF0F8",
                        "ticks": ""
                      },
                      "bgcolor": "white",
                      "radialaxis": {
                        "gridcolor": "#EBF0F8",
                        "linecolor": "#EBF0F8",
                        "ticks": ""
                      }
                    },
                    "scene": {
                      "xaxis": {
                        "backgroundcolor": "white",
                        "gridcolor": "#DFE8F3",
                        "gridwidth": 2,
                        "linecolor": "#EBF0F8",
                        "showbackground": true,
                        "ticks": "",
                        "zerolinecolor": "#EBF0F8"
                      },
                      "yaxis": {
                        "backgroundcolor": "white",
                        "gridcolor": "#DFE8F3",
                        "gridwidth": 2,
                        "linecolor": "#EBF0F8",
                        "showbackground": true,
                        "ticks": "",
                        "zerolinecolor": "#EBF0F8"
                      },
                      "zaxis": {
                        "backgroundcolor": "white",
                        "gridcolor": "#DFE8F3",
                        "gridwidth": 2,
                        "linecolor": "#EBF0F8",
                        "showbackground": true,
                        "ticks": "",
                        "zerolinecolor": "#EBF0F8"
                      }
                    },
                    "shapedefaults": {
                      "line": {
                        "color": "#2a3f5f"
                      }
                    },
                    "ternary": {
                      "aaxis": {
                        "gridcolor": "#DFE8F3",
                        "linecolor": "#A2B1C6",
                        "ticks": ""
                      },
                      "baxis": {
                        "gridcolor": "#DFE8F3",
                        "linecolor": "#A2B1C6",
                        "ticks": ""
                      },
                      "bgcolor": "white",
                      "caxis": {
                        "gridcolor": "#DFE8F3",
                        "linecolor": "#A2B1C6",
                        "ticks": ""
                      }
                    },
                    "title": {
                      "x": 0.05
                    },
                    "xaxis": {
                      "automargin": true,
                      "gridcolor": "#EBF0F8",
                      "linecolor": "#EBF0F8",
                      "ticks": "",
                      "title": {
                        "standoff": 15
                      },
                      "zerolinecolor": "#EBF0F8",
                      "zerolinewidth": 2
                    },
                    "yaxis": {
                      "automargin": true,
                      "gridcolor": "#EBF0F8",
                      "linecolor": "#EBF0F8",
                      "ticks": "",
                      "title": {
                        "standoff": 15
                      },
                      "zerolinecolor": "#EBF0F8",
                      "zerolinewidth": 2
                    }
                  }
                },
                "title": {
                  "text": "🍕 Food Database: Calories vs Protein (Size=Quality, Color=Fat)"
                },
                "xaxis": {
                  "anchor": "y",
                  "domain": [
                    0,
                    1
                  ],
                  "title": {
                    "text": "Calories (per 100g)"
                  }
                },
                "yaxis": {
                  "anchor": "x",
                  "domain": [
                    0,
                    1
                  ],
                  "title": {
                    "text": "Protein (g)"
                  }
                }
              }
            },
            "text/html": [
              "<div>            <script src=\"https://cdnjs.cloudflare.com/ajax/libs/mathjax/2.7.5/MathJax.js?config=TeX-AMS-MML_SVG\"></script><script type=\"text/javascript\">if (window.MathJax && window.MathJax.Hub && window.MathJax.Hub.Config) {window.MathJax.Hub.Config({SVG: {font: \"STIX-Web\"}});}</script>                <script type=\"text/javascript\">window.PlotlyConfig = {MathJaxConfig: 'local'};</script>\n",
              "        <script charset=\"utf-8\" src=\"https://cdn.plot.ly/plotly-3.0.1.min.js\" integrity=\"sha256-oy6Be7Eh6eiQFs5M7oXuPxxm9qbJXEtTpfSI93dW16Q=\" crossorigin=\"anonymous\"></script>                <div id=\"1d375141-6725-4892-ae92-fa0cb1b66712\" class=\"plotly-graph-div\" style=\"height:600px; width:100%;\"></div>            <script type=\"text/javascript\">                window.PLOTLYENV=window.PLOTLYENV || {};                                if (document.getElementById(\"1d375141-6725-4892-ae92-fa0cb1b66712\")) {                    Plotly.newPlot(                        \"1d375141-6725-4892-ae92-fa0cb1b66712\",                        [{\"customdata\":[[\"Organic Chicken Stock Cubes 8 \",0.7],[\"Salade & Compagnie Manhattan P\",17.0],[\"Blanc de Poulet\",0.5],[\"Instant Nudeln - Chicken Flavo\",9.1],[\"Classic Chicken Soup\",4.0],[\"Roast chicken and traditional \",4.8],[\"Caldo casero de pollo\",0.2],[\"very low salt organic chicken\",0.8],[\"HERTA Blanc Poulet Nature cons\",0.9],[\"Chicken Stock Pot 8 x\",10.0],[\"Chicken italia chipolatas\",3.82],[\"Chicken Stock Pot 4 x\",9.1],[\"Tiras Pollo al natural\",0.6],[\"Pechuguita de pollo asada al h\",0.5],[\"Cully & sully, Chicken Vegetab\",4.7],[\"Penne au Poulet et au Pesto\",20.0],[\"Super Noodles Chicken Flavour\",19.7],[\"Brilliant Broth Chicken Ramen\",0.84],[\"Lightly Salted Corn Cakes\",85.0],[\"Bisto chicken gravy\",61.6],[\"Buldak Hot Chicken Flavor Rame\",64.6],[\"Simply Chicken Chipolatas\",4.36],[\"Chicken stock\",0.7],[\"Chicken and Lentil with Butter\",4.0],[\"6 Free Range Eggs\",0.1],[\"Cream of Chicken soup\",4.9],[\"Buldak Hot Chicken Flavor Rame\",61.4],[\"What The Cluck Vegan Chicken S\",2.9],[\"Chicken stock cube\",0.5],[\"Demae Ramen - Chicken\",11.1],[\"Buldak Hot Chicken Flavour Ram\",60.7],[\"Chicken Stock cubes 8 x\",0.5],[\"Caesar Poulet r\\u00f4ti\",3.9],[\"Classic Butter Chicken Kit\",8.9],[\"Eminc\\u00e9s de Poulet - R\\u00f4tis au F\",0.8],[\"Aiguillettes de poulet \\u00e0 la mo\",6.2],[\"Moroccan Spiced Chicken & Chic\",7.2],[\"Rillettes de Poulet R\\u00f4ti en co\",0.5],[\"\\u0420\\u0430\\u043c\\u0435\\u043d Buldak cheese Hot chicke\",60.7],[\"Chicken & Mushroom\",60.0],[\"12 British Free Range Eggs\",0.5],[\"\\u0152ufs de poules \\u00e9lev\\u00e9es en plei\",0.5],[\"chicken stock\",1.3],[\"Blanc de Poulet - R\\u00f4ti \\u00e0 la Br\",0.5],[\"Large free range eggs\",0.1],[\"Chicken Tikka Masala & Pilau R\",74.1],[\"Chicken Dippers\",22.0],[\"6 British Free Range Eggs\",0.0],[\"Riz coco curry et poulet r\\u00f4ti\",22.0],[\"Rice noodles chick-n ramen\",13.0],[\"Organic Beef Stock Cubes 8 Pac\",0.6],[\"Bovril Beef and Yeast Extract\",13.0],[\"Knorr Beef Flavored Buillon Cu\",0.5],[\"Cube De Bouillon - Boeuf (beef\",16.0],[\"Ravioli pur b\\u0153uf  sans coloran\",13.0],[\"YumYum Beef\",8.6],[\"Macaroni sauce tomate et boule\",18.0],[\"Oxo Beef\",35.7],[\"Eminc\\u00e9s de boeuf sauce poivre \",12.1],[\"Le Parmentier de Boeuf Charola\",9.7],[\"Bouillon arome boeuf\",16.0],[\"Oxo 24 Beef Stock Cubes\",35.7],[\"Potts' Beef Stock\",1.7],[\"Parmentier de boeuf Aubrac\",11.0],[\"Beef Gravy\",68.1],[\"Corned beef\",1.1],[\"Original Beef Flavor Grass Fed\",0.0],[\"intense rich beef\",10.0],[\"Hachis parmentier les classiqu\",10.0],[\"Beef Ravioli\",12.0],[\"Huvudroll\",5.0],[\"Maxi Cheese Burger\",20.0],[\"Thins Cheddar & Pepper\",58.0],[\"Beef Lasagne\",12.4],[\"Coup Noodles Beef\",9.6],[\"This isn\\u2019t beef burgers\",5.5],[\"Viande de grisons\",1.5],[\"Viande des grisons\",0.2],[\"Le Ravioli Bolognaise sans con\",11.0],[\"Scotch Lean Beef Steak Mince 5\",0.0],[\"Suet\",10.7],[\"Boeuf Bourguignon et ses pomme\",7.9],[\"Oxo Beef Reduced Salt\",41.6],[\"\",15.0],[\"hula hoops bbq\",62.5],[\"Hamburguesa de Lomo\",0.5],[\"Beef Jerky Original 25g Jack L\",20.0],[\"Beef Stock Pot 8 x\",3.4],[\"Beef stock pot\",3.4],[\"Kallo very low salt organic be\",1.46],[\"Hachis Parmentier formule expr\",10.0],[\"Ravioli Pur B\\u0153uf\",13.0],[\"Corned Beef\",0.5],[\"Esprit de Famille - Hachis Par\",13.0],[\"Beef Stock cubes 8 x\",0.5],[\"NYC Deli Pastrami Style\",5.9],[\"Lasagnes \\u00e0 la bolognaise\",14.0],[\"Corned beef\",0.5],[\"Beef Stock Cube\",35.7],[\"Filets de Maquereaux \\u00e0 la mout\",0.6],[\"Cod Fish Fingers\",20.0],[\"Fisch Thunfisch Filets in eige\",0.0],[\"Croustibat\",16.0],[\"Salade & Compagnie - Antibes\",20.0],[\"10 Fish Fingers Omega 3\",21.0],[\"Colin d'Alaska MSC fa\\u00e7on Fish \",19.0],[\"15 Breaded Omega 3 Fish Finger\",16.4],[\"Foie de Morue nature au sel de\",2.3],[\"Filets de maquereaux aux vin b\",0.5],[\"St Jacques fondue de poireaux \",16.0],[\"Fischst\\u00e4bchen\",15.2],[\"Poisson \\u00e0 l'andalouse riz safr\",9.7],[\"Fish sauce imp\",11.6],[\"Battered Chunky Fish Fingers\",43.9],[\"Rainbow Salmon Poke\",25.1],[\"Mackrel Fillets in spicy tomat\",7.2],[\"B\\u00e2tonnets de surimi\",9.5],[\"Mackerel fillets\",1.2],[\"Omega-3 Fish Fingers\",17.1],[\"Fish fingers\",21.0],[\"fish fingers\",19.0],[\"Tesco mackerel in tomato sauce\",2.0],[\"Fish Pie\",8.3],[\"Mackerel in Tomato Sauce\",4.4],[\"Riz \\u00e0 la Proven\\u00e7ale au Thon & \",18.0],[\"Mini fish\",65.0],[\"2 Lemon & Pepper Fish Fillets\",23.2],[\"Thon listao au naturel p\\u00each\\u00e9 l\",0.0],[\"Smoked haddock & salmon chowde\",7.3],[\"IGLO Tk-Fisch Fischst\\u00e4bchen 15\",18.0],[\"Chunky cod fillet fish fingers\",17.299999237061],[\"Tranches pan\\u00e9es de Cabillaud M\",15.0],[\"10 Breaded Cod Fish Fingers\",16.0],[\"2 dos de cabillaud fa\\u00e7on fish \",7.5],[\"salade THON OEUF CRUDITES\",4.4],[\"Thon entier au naturel\",0.5],[\"Filets de colin d'Alaska MSC p\",19.0],[\"Omega 3 Fish Fingers\",20.0],[\"Cod Fishfingers\",17.3],[\"G\\u00e9siers de volaille confits\",0.0],[\"Colin d'Alaska fa\\u00e7on Fish and \",19.0],[\"Salmon Fillets\",0.0],[\"Insalatissime, messicana e Ton\",8.3],[\"Youngs Salt Pepper Basa Fillet\",10.5],[\"Foie de morue\",1.8],[\"Filet de thon au naturel\",0.0],[\"10 fish fingers\",19.8],[\"Mayonnaise\",1.4],[\"Seriously Good Times Mayonnais\",3.1],[\"Real Mayonnaise\",1.5],[\"6111259347106\",60.0],[\"Medium Egg Noodles imp\",27.6],[\"Petites Madeleines\",55.0],[\"Havarti light\",1.6],[\"Queso blanco light cheese\",4.8],[\"10 Pains au lait frais sans su\",47.0],[\"La Grande Galette 1905\",70.0],[\"Caldo de pollo\",1.3],[\"Medium Egg Noodles\",30.4],[\"Spinach Ricotta Tortelloni\",32.4],[\"Avocado & Lemon Mayo\",0.3],[\"Medium Egg Noodles\",30.4],[\"Chocolate Fudge Brownie\",25.0],[\"Mayonnaise\",2.1],[\"Avocado Oil Mayo\",0.1],[\"Real Mayonnaise\",3.9],[\"\\u0152ufs frais plein air\",0.5],[\"Medium Egg Noodles\",37.5],[\"lesieur\",3.0],[\"Pasta Lentejas Mercadona\",50.0],[\"\\u0152ufs\",0.27],[\"Medium egg Noodles\",64.5],[\"Mini Eggs\",70.0],[\"Almond breeze\",2.9],[\"St\\u00e9phanie eleveur\",0.5],[\"heinz mayo\",3.0],[\"Misura Privolat\",68.9],[\"4 R\\u00f6stis de l\\u00e9gumes et cheddar\",10.0],[\"8 Pains au chocolat pur beurre\",45.0],[\"Mayonnaise classique\",2.8],[\"Mar\\u00eda sin gluten\",66.0],[\"Galettes au bon beurre bio\",73.0],[\"Fine egg noodles\",27.6],[\"Free Range Eggs (Medium)\",0.833],[\"Lustucru tortellini jambon cru\",41.0],[\"Organic 6 Mixed Sizes Free Ran\",0.1],[\"Brioche tranchee au skyr 450g\",49.0],[\"12 free range British eggs\",0.5],[\"Tofoo Naked\",1.1],[\"Smoked Tofu\",1.87],[\"Tofu nature\",2.0],[\"Tofoo Naked Xl\",1.1],[\"Tofu fum\\u00e9\",2.1],[\"Authentic Tofu\",2.9],[\"Marinated Tofu\",1.0],[\"Organic tofu imp\",2.8],[\"R\\u00e4uchertofu Mandel-Sesam\",1.5],[\"Filets de tofu \\u00e0 la japonaise\",2.4],[\"Organic Tofu\",0.8],[\"Ravioli au tofu, tomates, basi\",15.0]],\"hovertemplate\":\"Calories (per 100g)=%{x}\\u003cbr\\u003eProtein (g)=%{y}\\u003cbr\\u003equality_score=%{marker.size}\\u003cbr\\u003ename=%{customdata[0]}\\u003cbr\\u003ecarbohydrates=%{customdata[1]}\\u003cbr\\u003efat=%{marker.color}\\u003cextra\\u003e\\u003c\\u002fextra\\u003e\",\"legendgroup\":\"\",\"marker\":{\"color\":{\"dtype\":\"f8\",\"bdata\":\"AAAAAAAA4D+amZmZmZkhQJqZmZmZmfk\\u002fzczMzMzMDEAAAAAAAAAEQGZmZmZmZgJAMzMzMzMz0z+amZmZmZnZPwAAAAAAAABAAAAAAAAAEEDXo3A9CtcFQAAAAAAAABBAMzMzMzMz8z8AAAAAAAAAQDMzMzMzMxFAmpmZmZmZH0DsUbgehesZQM3MzMzMzPw\\u002fZmZmZmZm9j8zMzMzMzMvQM3MzMzMzC5AuB6F61G4CEDNzMzMzMz0P2ZmZmZmZvY\\u002fAAAAAAAAIkAAAAAAAAAIQM3MzMzMzClAzczMzMzMDEAAAAAAAADgPwAAAAAAABBAMzMzMzMzKEAAAAAAAADgPzMzMzMzMx9AzczMzMzMHkDNzMzMzMwgQM3MzMzMzARAzczMzMzM9D8AAAAAAAA+QJqZmZmZmSxAzczMzMzMMUAAAAAAAAAiQJqZmZmZmSNAAAAAAAAAAEAAAAAAAAAAQAAAAAAAACJAZmZmZmZmQEAAAAAAAAAqQDMzMzMzMyNAzczMzMzMEEAzMzMzMzPzPwAAAAAAAOA\\u002fmpmZmZmZ8T8AAAAAAADgPwAAAAAAAC9AZmZmZmZmAkAzMzMzMzMRQM3MzMzMzBZAmpmZmZmZE0AAAAAAAAAeQAAAAAAAABpAAAAAAAAAL0CamZmZmZkTQDMzMzMzM+M\\u002fAAAAAAAAJEAAAAAAAAAaQAAAAAAAACtAZmZmZmbmNUDNzMzMzMwIQM3MzMzMzB5AmpmZmZmZ+T8AAAAAAAA0QAAAAAAAACpAAAAAAAAAKkAAAAAAAAAiQAAAAAAAAAhAzczMzMzMLkAAAAAAAAAQQGZmZmZmZhBAMzMzMzMzEUCamZmZmZkTQM3MzMzMTFVAMzMzMzMz8z9mZmZmZmYUQGZmZmZmZh5AAAAAAAAAOUAAAAAAAAAyQM3MzMzMzAxAZmZmZmZmFkBmZmZmZmYWQKRwPQrXo\\u002fA\\u002fzczMzMzMEkBmZmZmZmYCQAAAAAAAAC5AzczMzMzMFkAAAAAAAADgPwAAAAAAABpAzczMzMzMFEAAAAAAAAAuQJqZmZmZmRNAAAAAAAAAMUAAAAAAAAAiQGZmZmZmZuY\\u002fZmZmZmZmIUDD9Shcj8IiQAAAAAAAACRAAAAAAAAAI0C4HoXrUbgfQAAAAAAAgE1AAAAAAAAAJkDNzMzMzMwYQJqZmZmZmR9AmpmZmZmZDUAAAAAAAADgPzMzMzMzM\\u002fs\\u002f9ihcj8L1EEBmZmZmZmYiQDMzMzMzMxVAMzMzMzMzJEBmZmZmZmYgQM3MzMzMzCJAMzMzMzMzIkBmZmZmZmYuQM3MzMzMzBxAAAAAAAAALkAAAAAAAAASQAAAAAAAADZAAAAAAAAAK0AAAAAAAAD4PzMzMzMzMxFAMzMzMzMzIUDX\\u002f\\u002f+\\u002fzMwcQAAAAAAAABpApHA9CtejH0AAAAAAAAAcQDMzMzMzMxtAZmZmZmZm5j\\u002fNzMzMzMwgQJqZmZmZmSJAMzMzMzMzIUDNzMzMzMwgQAAAAAAAAChAAAAAAAAAKEAAAAAAAAAqQAAAAAAAACBAAAAAAACATkAAAAAAAADwPzMzMzMzMyBAAAAAAADAU0AAAAAAAIBRQDMzMzMz81JAAAAAAAAAOUDl0CLb+X7qPwAAAAAAADZAAAAAAAAAMUCamZmZmZkgQAAAAAAAACRAAAAAAAAANUAAAAAAAADgP9ejcD0K1+8\\u002fhetRuB6FEEDNzMzMzKxTQAAAAAAAAPA\\u002fAAAAAAAAJkAAAAAAAMBRQM3MzMzMzFNAAAAAAACAUkCamZmZmZkjQGiR7Xw\\u002fNeY\\u002fAAAAAADAUUAzMzMzMzP7Pylcj8L1qCNAKVyPwvUoDEAAAAAAAAA1QJqZmZmZmfE\\u002fmpmZmZmZI0AAAAAAAIBRQDMzMzMzszBAzczMzMzMGEAAAAAAAAA2QAAAAAAAwFFAAAAAAAAAM0AAAAAAAAAsQOXQItv5fuo\\u002fAAAAAAAALkCamZmZmZkfQAAAAAAAACJAAAAAAAAAKEAzMzMzMzMjQDMzMzMzMx9A7FG4HoXrHkCamZmZmZkiQDMzMzMzMx9AAAAAAAAAIkAAAAAAAAAcQAAAAAAAADFAmpmZmZmZBUAAAAAAAAAoQAAAAAAAACpAmpmZmZmZF0DNzMzMzMwIQA==\"},\"coloraxis\":\"coloraxis\",\"size\":{\"dtype\":\"f8\",\"bdata\":\"mZmZmZmZ7T8AAAAAAADwP5mZmZmZme0\\u002fAAAAAAAA8D8AAAAAAADwPwAAAAAAAPA\\u002fAAAAAAAA8D+ZmZmZmZntPwAAAAAAAPA\\u002fAAAAAAAA8D+ZmZmZmZntPwAAAAAAAPA\\u002fmZmZmZmZ7T+ZmZmZmZntPwAAAAAAAPA\\u002fAAAAAAAA8D8AAAAAAADwPwAAAAAAAPA\\u002fAAAAAAAA8D8AAAAAAADwPwAAAAAAAPA\\u002fmZmZmZmZ7T+ZmZmZmZntPwAAAAAAAPA\\u002fAAAAAAAA8D+ZmZmZmZntPwAAAAAAAPA\\u002fAAAAAAAA8D8AAAAAAADwP5mZmZmZme0\\u002fAAAAAAAA8D8AAAAAAADwPwAAAAAAAPA\\u002fmZmZmZmZ7T+ZmZmZmZntPwAAAAAAAPA\\u002fAAAAAAAA8D8AAAAAAADwPwAAAAAAAPA\\u002fAAAAAAAA8D8AAAAAAADwPwAAAAAAAPA\\u002fAAAAAAAA8D8AAAAAAADwPwAAAAAAAPA\\u002fmZmZmZmZ7T8AAAAAAADwP5mZmZmZme0\\u002fAAAAAAAA8D8AAAAAAADwP5mZmZmZme0\\u002fAAAAAAAA8D+ZmZmZmZntPwAAAAAAAPA\\u002fAAAAAAAA8D+ZmZmZmZntPwAAAAAAAPA\\u002fAAAAAAAA8D8AAAAAAADwPwAAAAAAAPA\\u002fmZmZmZmZ7T8AAAAAAADwPwAAAAAAAPA\\u002fAAAAAAAA8D8AAAAAAADwP5mZmZmZme0\\u002fMzMzMzMz6z8AAAAAAADwP5mZmZmZme0\\u002fAAAAAAAA8D8AAAAAAADwP5mZmZmZme0\\u002fmZmZmZmZ7T8AAAAAAADwP5mZmZmZme0\\u002fAAAAAAAA8D+ZmZmZmZntP5mZmZmZme0\\u002fAAAAAAAA8D8AAAAAAADwPwAAAAAAAPA\\u002fAAAAAAAA8D8AAAAAAADwPwAAAAAAAPA\\u002fAAAAAAAA8D+ZmZmZmZntP5mZmZmZme0\\u002fAAAAAAAA8D8AAAAAAADwP5mZmZmZme0\\u002fAAAAAAAA8D8AAAAAAADwP5mZmZmZme0\\u002fAAAAAAAA8D8AAAAAAADwPwAAAAAAAPA\\u002fAAAAAAAA8D+ZmZmZmZntPwAAAAAAAPA\\u002fAAAAAAAA8D8AAAAAAADwPwAAAAAAAPA\\u002fAAAAAAAA8D8AAAAAAADwPwAAAAAAAPA\\u002fAAAAAAAA8D8AAAAAAADwPwAAAAAAAPA\\u002fZmZmZmZm5j8AAAAAAADwP5mZmZmZme0\\u002fAAAAAAAA8D8AAAAAAADwPwAAAAAAAPA\\u002fAAAAAAAA8D8AAAAAAADwPwAAAAAAAPA\\u002fMzMzMzMz6z8AAAAAAADwPwAAAAAAAPA\\u002fAAAAAAAA8D8AAAAAAADwPwAAAAAAAPA\\u002fAAAAAAAA8D8AAAAAAADwPwAAAAAAAPA\\u002fmZmZmZmZ7T8AAAAAAADwP5mZmZmZme0\\u002fAAAAAAAA8D+ZmZmZmZntPwAAAAAAAPA\\u002fAAAAAAAA8D8AAAAAAADwPwAAAAAAAPA\\u002fmZmZmZmZ7T8AAAAAAADwPwAAAAAAAPA\\u002fAAAAAAAA8D8AAAAAAADwPwAAAAAAAPA\\u002fAAAAAAAA8D+ZmZmZmZntPwAAAAAAAPA\\u002fAAAAAAAA8D8AAAAAAADwPwAAAAAAAPA\\u002fmZmZmZmZ7T+ZmZmZmZntP5mZmZmZme0\\u002fAAAAAAAA8D8AAAAAAADwPwAAAAAAAPA\\u002fmZmZmZmZ7T+ZmZmZmZntPwAAAAAAAPA\\u002fAAAAAAAA8D8AAAAAAADwPwAAAAAAAPA\\u002fAAAAAAAA8D8AAAAAAADwPwAAAAAAAPA\\u002fAAAAAAAA8D8AAAAAAADwPwAAAAAAAPA\\u002fAAAAAAAA8D8AAAAAAADwPwAAAAAAAPA\\u002fAAAAAAAA8D8AAAAAAADwPwAAAAAAAPA\\u002fAAAAAAAA8D8AAAAAAADwPwAAAAAAAPA\\u002fAAAAAAAA8D+ZmZmZmZntPwAAAAAAAPA\\u002fAAAAAAAA8D8AAAAAAADwP5mZmZmZme0\\u002fAAAAAAAA8D8AAAAAAADwPwAAAAAAAPA\\u002fAAAAAAAA8D8AAAAAAADwPwAAAAAAAPA\\u002fAAAAAAAA8D8AAAAAAADwPwAAAAAAAPA\\u002fAAAAAAAA8D8AAAAAAADwPwAAAAAAAPA\\u002fmZmZmZmZ7T8AAAAAAADwPwAAAAAAAPA\\u002fMzMzMzMz6z+ZmZmZmZntP5mZmZmZme0\\u002fAAAAAAAA8D8AAAAAAADwPw==\"},\"sizemode\":\"area\",\"sizeref\":0.0025,\"symbol\":\"circle\"},\"mode\":\"markers\",\"name\":\"\",\"orientation\":\"v\",\"showlegend\":false,\"x\":{\"dtype\":\"f8\",\"bdata\":\"AAAAAAAAHEAAAAAAAEBnQAAAAAAAAFlAAAAAAADAUkAzMzMzM\\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\"},\"xaxis\":\"x\",\"y\":{\"dtype\":\"f8\",\"bdata\":\"mpmZmZmZuT+amZmZmZkgQAAAAAAAADVAzczMzMzM9D+uR+F6FK4NQAAAAAAAAAxAmpmZmZmZ2T+amZmZmZm5PwAAAAAAADVAZmZmZmZmEEAzMzMzMzMyQGZmZmZmZhBAZmZmZmZmN0DNzMzMzMw6QGZmZmZmZv4\\u002fAAAAAAAAIEA9CtejcD0IQB+F61G4HvU\\u002fAAAAAAAAHECamZmZmZkBQJqZmZmZmRhAMzMzMzMzMkBmZmZmZmYCQM3MzMzMzAhAMzMzMzMzKUCamZmZmZn5PwAAAAAAACRAAAAAAAAANUAAAAAAAADgPwAAAAAAAABAFK5H4XqUIkCamZmZmZm5P5qZmZmZmRNAZmZmZmZmCkAAAAAAAAA2QJqZmZmZmRtAMzMzMzMzC0AAAAAAAAAwQBSuR+F6lCJAmpmZmZmZJEAAAAAAAAAqQAAAAAAAACpAAAAAAAAA8D8AAAAAAAA1QDMzMzMzMylAMzMzMzMzPEAAAAAAAAAqQDMzMzMzMyxAZmZmZmZmFkCPwvUoXI\\u002f6P5qZmZmZmbk\\u002fAAAAAACAQkAAAAAAAADgPwAAAAAAACJAZmZmZmZmDkAzMzMzMzPzPwAAAAAAABxAZmZmZmZmMUC4HoXrUbgZQGZmZmZmZiJAAAAAAAAAIkBmZmZmZmYxQAAAAAAAAABAZmZmZmZmGEAAAAAAAADgP83MzMzMzDhAMzMzMzMzP0CamZmZmZkTQJqZmZmZmR1AAAAAAAAABEAAAAAAAAAsQAAAAAAAACpAAAAAAAAAMkAzMzMzMzMgQAAAAAAAAARAmpmZmZmZLEAAAAAAAABDQAAAAAAAAERAAAAAAAAAEkBmZmZmZuY1QDMzMzMzM\\u002fs\\u002fzczMzMzMGkAzMzMzMzMyQJqZmZmZmRlAAAAAAAAADkAAAAAAAAAzQJqZmZmZmUFAZmZmZmZmFkBmZmZmZmYWQDm0yHa+n8o\\u002fMzMzMzMzGUBmZmZmZmYOQAAAAAAAADVAzczMzMzMHkAAAAAAAADgPwAAAAAAAD9AmpmZmZmZF0AAAAAAAAA1QGZmZmZmZjFAAAAAAAAAJkAAAAAAAAAoQM3MzMzMTDtAAAAAAAAAKkAAAAAAAAAZQAAAAAAAACxAAAAAAAAAJkBmZmZmZmYoQGZmZmZmZhJAAAAAAAAAKkAzMzMzMzMXQM3MzMzMzCdAAAAAAAAAHkBmZmZmZmYaQDMzMzMzMyJAmpmZmZmZFkCamZmZmZkqQAAAAAAAAB5AzczMzMzMK0AzMzMzMzMnQAAAAAAAAChAAAAAAAAAKECamZmZmZkwQGZmZmZmZhxAAAAAAAAAJkAAAAAAAAAQQAAAAAAAABxAZmZmZmZmL0AAAAAAAAA6QDMzMzMzMwdAAAAAAAAAKkAAAAAAAAAvQAAAAAAAACxAmpmZmZmZKUAAAAAAAAAsQGZmZmZmZhZAAAAAAAAAOEAAAAAAAAAoQAAAAAAAAChAmpmZmZmZJ0AAAAAAAAA4QAAAAAAAACZAzczMzMxMOUAAAAAAAAAkQGZmZmZmZi1AmpmZmZmZE0AAAAAAAAA3QM3MzMzMzCZAmpmZmZmZ8T+amZmZmZnpP2ZmZmZmZvY\\u002fAAAAAAAAFECF61G4HoUVQDMzMzMzMxdAAAAAAAAAO0AAAAAAAAAiQAAAAAAAACRAzczMzMzMGkAAAAAAAADgP65H4XoUrhdAuB6F61G4H0DNzMzMzMz8P5qZmZmZmRdAmpmZmZmZDUAzMzMzMzPzP2ZmZmZmZv4\\u002fmpmZmZmZ6T8AAAAAAAAqQMP1KFyPwhtAAAAAAAAA8D8AAAAAAAA6QGZmZmZmZilAmpmZmZmZJ0DNzMzMzMwQQAAAAAAAAOA\\u002fAAAAAAAAKkCamZmZmZnpPx+F61G4Hh9AMzMzMzMzD0AzMzMzMzMbQAAAAAAAAPA\\u002fZmZmZmZmFECamZmZmZkfQIXrUbgehRVAMzMzMzOzNUAAAAAAAAAoQDMzMzMzMylAMzMzMzMzIEAzMzMzMzMsQAAAAAAAgDBAZmZmZmbmMEAAAAAAAAAwQAAAAAAAgDBAAAAAAAAAMEAAAAAAAAAqQAAAAAAAADJAAAAAAAAAGkAAAAAAAAAzQAAAAAAAADNAMzMzMzMzKkBmZmZmZmYOQA==\"},\"yaxis\":\"y\",\"type\":\"scatter\"}],                        {\"template\":{\"data\":{\"barpolar\":[{\"marker\":{\"line\":{\"color\":\"white\",\"width\":0.5},\"pattern\":{\"fillmode\":\"overlay\",\"size\":10,\"solidity\":0.2}},\"type\":\"barpolar\"}],\"bar\":[{\"error_x\":{\"color\":\"#2a3f5f\"},\"error_y\":{\"color\":\"#2a3f5f\"},\"marker\":{\"line\":{\"color\":\"white\",\"width\":0.5},\"pattern\":{\"fillmode\":\"overlay\",\"size\":10,\"solidity\":0.2}},\"type\":\"bar\"}],\"carpet\":[{\"aaxis\":{\"endlinecolor\":\"#2a3f5f\",\"gridcolor\":\"#C8D4E3\",\"linecolor\":\"#C8D4E3\",\"minorgridcolor\":\"#C8D4E3\",\"startlinecolor\":\"#2a3f5f\"},\"baxis\":{\"endlinecolor\":\"#2a3f5f\",\"gridcolor\":\"#C8D4E3\",\"linecolor\":\"#C8D4E3\",\"minorgridcolor\":\"#C8D4E3\",\"startlinecolor\":\"#2a3f5f\"},\"type\":\"carpet\"}],\"choropleth\":[{\"colorbar\":{\"outlinewidth\":0,\"ticks\":\"\"},\"type\":\"choropleth\"}],\"contourcarpet\":[{\"colorbar\":{\"outlinewidth\":0,\"ticks\":\"\"},\"type\":\"contourcarpet\"}],\"contour\":[{\"colorbar\":{\"outlinewidth\":0,\"ticks\":\"\"},\"colorscale\":[[0.0,\"#0d0887\"],[0.1111111111111111,\"#46039f\"],[0.2222222222222222,\"#7201a8\"],[0.3333333333333333,\"#9c179e\"],[0.4444444444444444,\"#bd3786\"],[0.5555555555555556,\"#d8576b\"],[0.6666666666666666,\"#ed7953\"],[0.7777777777777778,\"#fb9f3a\"],[0.8888888888888888,\"#fdca26\"],[1.0,\"#f0f921\"]],\"type\":\"contour\"}],\"heatmap\":[{\"colorbar\":{\"outlinewidth\":0,\"ticks\":\"\"},\"colorscale\":[[0.0,\"#0d0887\"],[0.1111111111111111,\"#46039f\"],[0.2222222222222222,\"#7201a8\"],[0.3333333333333333,\"#9c179e\"],[0.4444444444444444,\"#bd3786\"],[0.5555555555555556,\"#d8576b\"],[0.6666666666666666,\"#ed7953\"],[0.7777777777777778,\"#fb9f3a\"],[0.8888888888888888,\"#fdca26\"],[1.0,\"#f0f921\"]],\"type\":\"heatmap\"}],\"histogram2dcontour\":[{\"colorbar\":{\"outlinewidth\":0,\"ticks\":\"\"},\"colorscale\":[[0.0,\"#0d0887\"],[0.1111111111111111,\"#46039f\"],[0.2222222222222222,\"#7201a8\"],[0.3333333333333333,\"#9c179e\"],[0.4444444444444444,\"#bd3786\"],[0.5555555555555556,\"#d8576b\"],[0.6666666666666666,\"#ed7953\"],[0.7777777777777778,\"#fb9f3a\"],[0.8888888888888888,\"#fdca26\"],[1.0,\"#f0f921\"]],\"type\":\"histogram2dcontour\"}],\"histogram2d\":[{\"colorbar\":{\"outlinewidth\":0,\"ticks\":\"\"},\"colorscale\":[[0.0,\"#0d0887\"],[0.1111111111111111,\"#46039f\"],[0.2222222222222222,\"#7201a8\"],[0.3333333333333333,\"#9c179e\"],[0.4444444444444444,\"#bd3786\"],[0.5555555555555556,\"#d8576b\"],[0.6666666666666666,\"#ed7953\"],[0.7777777777777778,\"#fb9f3a\"],[0.8888888888888888,\"#fdca26\"],[1.0,\"#f0f921\"]],\"type\":\"histogram2d\"}],\"histogram\":[{\"marker\":{\"pattern\":{\"fillmode\":\"overlay\",\"size\":10,\"solidity\":0.2}},\"type\":\"histogram\"}],\"mesh3d\":[{\"colorbar\":{\"outlinewidth\":0,\"ticks\":\"\"},\"type\":\"mesh3d\"}],\"parcoords\":[{\"line\":{\"colorbar\":{\"outlinewidth\":0,\"ticks\":\"\"}},\"type\":\"parcoords\"}],\"pie\":[{\"automargin\":true,\"type\":\"pie\"}],\"scatter3d\":[{\"line\":{\"colorbar\":{\"outlinewidth\":0,\"ticks\":\"\"}},\"marker\":{\"colorbar\":{\"outlinewidth\":0,\"ticks\":\"\"}},\"type\":\"scatter3d\"}],\"scattercarpet\":[{\"marker\":{\"colorbar\":{\"outlinewidth\":0,\"ticks\":\"\"}},\"type\":\"scattercarpet\"}],\"scattergeo\":[{\"marker\":{\"colorbar\":{\"outlinewidth\":0,\"ticks\":\"\"}},\"type\":\"scattergeo\"}],\"scattergl\":[{\"marker\":{\"colorbar\":{\"outlinewidth\":0,\"ticks\":\"\"}},\"type\":\"scattergl\"}],\"scattermapbox\":[{\"marker\":{\"colorbar\":{\"outlinewidth\":0,\"ticks\":\"\"}},\"type\":\"scattermapbox\"}],\"scattermap\":[{\"marker\":{\"colorbar\":{\"outlinewidth\":0,\"ticks\":\"\"}},\"type\":\"scattermap\"}],\"scatterpolargl\":[{\"marker\":{\"colorbar\":{\"outlinewidth\":0,\"ticks\":\"\"}},\"type\":\"scatterpolargl\"}],\"scatterpolar\":[{\"marker\":{\"colorbar\":{\"outlinewidth\":0,\"ticks\":\"\"}},\"type\":\"scatterpolar\"}],\"scatter\":[{\"fillpattern\":{\"fillmode\":\"overlay\",\"size\":10,\"solidity\":0.2},\"type\":\"scatter\"}],\"scatterternary\":[{\"marker\":{\"colorbar\":{\"outlinewidth\":0,\"ticks\":\"\"}},\"type\":\"scatterternary\"}],\"surface\":[{\"colorbar\":{\"outlinewidth\":0,\"ticks\":\"\"},\"colorscale\":[[0.0,\"#0d0887\"],[0.1111111111111111,\"#46039f\"],[0.2222222222222222,\"#7201a8\"],[0.3333333333333333,\"#9c179e\"],[0.4444444444444444,\"#bd3786\"],[0.5555555555555556,\"#d8576b\"],[0.6666666666666666,\"#ed7953\"],[0.7777777777777778,\"#fb9f3a\"],[0.8888888888888888,\"#fdca26\"],[1.0,\"#f0f921\"]],\"type\":\"surface\"}],\"table\":[{\"cells\":{\"fill\":{\"color\":\"#EBF0F8\"},\"line\":{\"color\":\"white\"}},\"header\":{\"fill\":{\"color\":\"#C8D4E3\"},\"line\":{\"color\":\"white\"}},\"type\":\"table\"}]},\"layout\":{\"annotationdefaults\":{\"arrowcolor\":\"#2a3f5f\",\"arrowhead\":0,\"arrowwidth\":1},\"autotypenumbers\":\"strict\",\"coloraxis\":{\"colorbar\":{\"outlinewidth\":0,\"ticks\":\"\"}},\"colorscale\":{\"diverging\":[[0,\"#8e0152\"],[0.1,\"#c51b7d\"],[0.2,\"#de77ae\"],[0.3,\"#f1b6da\"],[0.4,\"#fde0ef\"],[0.5,\"#f7f7f7\"],[0.6,\"#e6f5d0\"],[0.7,\"#b8e186\"],[0.8,\"#7fbc41\"],[0.9,\"#4d9221\"],[1,\"#276419\"]],\"sequential\":[[0.0,\"#0d0887\"],[0.1111111111111111,\"#46039f\"],[0.2222222222222222,\"#7201a8\"],[0.3333333333333333,\"#9c179e\"],[0.4444444444444444,\"#bd3786\"],[0.5555555555555556,\"#d8576b\"],[0.6666666666666666,\"#ed7953\"],[0.7777777777777778,\"#fb9f3a\"],[0.8888888888888888,\"#fdca26\"],[1.0,\"#f0f921\"]],\"sequentialminus\":[[0.0,\"#0d0887\"],[0.1111111111111111,\"#46039f\"],[0.2222222222222222,\"#7201a8\"],[0.3333333333333333,\"#9c179e\"],[0.4444444444444444,\"#bd3786\"],[0.5555555555555556,\"#d8576b\"],[0.6666666666666666,\"#ed7953\"],[0.7777777777777778,\"#fb9f3a\"],[0.8888888888888888,\"#fdca26\"],[1.0,\"#f0f921\"]]},\"colorway\":[\"#636efa\",\"#EF553B\",\"#00cc96\",\"#ab63fa\",\"#FFA15A\",\"#19d3f3\",\"#FF6692\",\"#B6E880\",\"#FF97FF\",\"#FECB52\"],\"font\":{\"color\":\"#2a3f5f\"},\"geo\":{\"bgcolor\":\"white\",\"lakecolor\":\"white\",\"landcolor\":\"white\",\"showlakes\":true,\"showland\":true,\"subunitcolor\":\"#C8D4E3\"},\"hoverlabel\":{\"align\":\"left\"},\"hovermode\":\"closest\",\"mapbox\":{\"style\":\"light\"},\"paper_bgcolor\":\"white\",\"plot_bgcolor\":\"white\",\"polar\":{\"angularaxis\":{\"gridcolor\":\"#EBF0F8\",\"linecolor\":\"#EBF0F8\",\"ticks\":\"\"},\"bgcolor\":\"white\",\"radialaxis\":{\"gridcolor\":\"#EBF0F8\",\"linecolor\":\"#EBF0F8\",\"ticks\":\"\"}},\"scene\":{\"xaxis\":{\"backgroundcolor\":\"white\",\"gridcolor\":\"#DFE8F3\",\"gridwidth\":2,\"linecolor\":\"#EBF0F8\",\"showbackground\":true,\"ticks\":\"\",\"zerolinecolor\":\"#EBF0F8\"},\"yaxis\":{\"backgroundcolor\":\"white\",\"gridcolor\":\"#DFE8F3\",\"gridwidth\":2,\"linecolor\":\"#EBF0F8\",\"showbackground\":true,\"ticks\":\"\",\"zerolinecolor\":\"#EBF0F8\"},\"zaxis\":{\"backgroundcolor\":\"white\",\"gridcolor\":\"#DFE8F3\",\"gridwidth\":2,\"linecolor\":\"#EBF0F8\",\"showbackground\":true,\"ticks\":\"\",\"zerolinecolor\":\"#EBF0F8\"}},\"shapedefaults\":{\"line\":{\"color\":\"#2a3f5f\"}},\"ternary\":{\"aaxis\":{\"gridcolor\":\"#DFE8F3\",\"linecolor\":\"#A2B1C6\",\"ticks\":\"\"},\"baxis\":{\"gridcolor\":\"#DFE8F3\",\"linecolor\":\"#A2B1C6\",\"ticks\":\"\"},\"bgcolor\":\"white\",\"caxis\":{\"gridcolor\":\"#DFE8F3\",\"linecolor\":\"#A2B1C6\",\"ticks\":\"\"}},\"title\":{\"x\":0.05},\"xaxis\":{\"automargin\":true,\"gridcolor\":\"#EBF0F8\",\"linecolor\":\"#EBF0F8\",\"ticks\":\"\",\"title\":{\"standoff\":15},\"zerolinecolor\":\"#EBF0F8\",\"zerolinewidth\":2},\"yaxis\":{\"automargin\":true,\"gridcolor\":\"#EBF0F8\",\"linecolor\":\"#EBF0F8\",\"ticks\":\"\",\"title\":{\"standoff\":15},\"zerolinecolor\":\"#EBF0F8\",\"zerolinewidth\":2}}},\"xaxis\":{\"anchor\":\"y\",\"domain\":[0.0,1.0],\"title\":{\"text\":\"Calories (per 100g)\"}},\"yaxis\":{\"anchor\":\"x\",\"domain\":[0.0,1.0],\"title\":{\"text\":\"Protein (g)\"}},\"coloraxis\":{\"colorbar\":{\"title\":{\"text\":\"fat\"}},\"colorscale\":[[0.0,\"#0d0887\"],[0.1111111111111111,\"#46039f\"],[0.2222222222222222,\"#7201a8\"],[0.3333333333333333,\"#9c179e\"],[0.4444444444444444,\"#bd3786\"],[0.5555555555555556,\"#d8576b\"],[0.6666666666666666,\"#ed7953\"],[0.7777777777777778,\"#fb9f3a\"],[0.8888888888888888,\"#fdca26\"],[1.0,\"#f0f921\"]]},\"legend\":{\"tracegroupgap\":0,\"itemsizing\":\"constant\"},\"title\":{\"text\":\"\\ud83c\\udf55 Food Database: Calories vs Protein (Size=Quality, Color=Fat)\"},\"height\":600},                        {\"responsive\": true}                    ).then(function(){\n",
              "                            \n",
              "var gd = document.getElementById('1d375141-6725-4892-ae92-fa0cb1b66712');\n",
              "var x = new MutationObserver(function (mutations, observer) {{\n",
              "        var display = window.getComputedStyle(gd).display;\n",
              "        if (!display || display === 'none') {{\n",
              "            console.log([gd, 'removed!']);\n",
              "            Plotly.purge(gd);\n",
              "            observer.disconnect();\n",
              "        }}\n",
              "}});\n",
              "\n",
              "// Listen for the removal of the full notebook cells\n",
              "var notebookContainer = gd.closest('#notebook-container');\n",
              "if (notebookContainer) {{\n",
              "    x.observe(notebookContainer, {childList: true});\n",
              "}}\n",
              "\n",
              "// Listen for the clearing of the current output cell\n",
              "var outputEl = gd.closest('.output');\n",
              "if (outputEl) {{\n",
              "    x.observe(outputEl, {childList: true});\n",
              "}}\n",
              "\n",
              "                        })                };            </script>        </div>"
            ]
          },
          "metadata": {},
          "output_type": "display_data"
        },
        {
          "name": "stdout",
          "output_type": "stream",
          "text": [
            "\n",
            "==================================================\n",
            "📊 FOOD DATABASE STATISTICS\n",
            "==================================================\n",
            "       calories  protein  carbohydrates     fat  quality_score\n",
            "count    200.00   200.00         200.00  200.00         200.00\n",
            "mean     214.80    10.49          15.56   12.07           0.98\n",
            "std      169.32     8.26          19.99   17.20           0.04\n",
            "min        3.00     0.10           0.00    0.30           0.70\n",
            "25%      109.75     4.07           1.27    3.10           0.98\n",
            "50%      165.00     8.65           8.45    7.80           1.00\n",
            "75%      243.00    14.10          19.73   12.92           1.00\n",
            "max      816.00    40.00          85.00   85.20           1.00\n",
            "\n",
            "🏆 TOP FOODS BY PROTEIN:\n",
            "  Viande des grisons: 40.0g protein, 197 kcal\n",
            "  Viande de grisons: 38.0g protein, 194 kcal\n",
            "  Bovril Beef and Yeast Extract: 37.0g protein, 206 kcal\n",
            "  Beef Jerky Original 25g Jack L: 35.2g protein, 252 kcal\n",
            "  Original Beef Flavor Grass Fed: 31.2g protein, 312 kcal\n",
            "\n",
            "🌟 TOP FOODS BY QUALITY:\n",
            "  Salade & Compagnie Manhattan P: Quality 1.00, 186 kcal\n",
            "  Instant Nudeln - Chicken Flavo: Quality 1.00, 75 kcal\n",
            "  Classic Chicken Soup: Quality 1.00, 54 kcal\n",
            "  Roast chicken and traditional : Quality 1.00, 55 kcal\n",
            "  Caldo casero de pollo: Quality 1.00, 5 kcal\n"
          ]
        }
      ],
      "source": [
        "# Interactive food database exploration\n",
        "print(f\"🔍 Exploring food database with {len(database.foods)} items...\")\n",
        "\n",
        "# Sample foods for analysis\n",
        "sample_foods = list(database.foods.values())[:200]  # First 200 foods\n",
        "foods_data = []\n",
        "\n",
        "for food in sample_foods:\n",
        "    foods_data.append({\n",
        "        'name': food.name[:30],  # Truncate long names\n",
        "        'calories': food.nutrition.calories,\n",
        "        'protein': food.nutrition.protein,\n",
        "        'carbohydrates': food.nutrition.carbohydrates,\n",
        "        'fat': food.nutrition.fat,\n",
        "        'quality_score': food.quality_score\n",
        "    })\n",
        "\n",
        "df_foods = pd.DataFrame(foods_data)\n",
        "\n",
        "# Create interactive scatter plot\n",
        "fig = px.scatter(\n",
        "    df_foods, \n",
        "    x='calories', \n",
        "    y='protein',\n",
        "    size='quality_score',\n",
        "    color='fat',\n",
        "    hover_data=['name', 'carbohydrates'],\n",
        "    title='🍕 Food Database: Calories vs Protein (Size=Quality, Color=Fat)',\n",
        "    labels={'calories': 'Calories (per 100g)', 'protein': 'Protein (g)'},\n",
        "    template='plotly_white'\n",
        ")\n",
        "\n",
        "fig.update_layout(height=600)\n",
        "fig.show()\n",
        "\n",
        "# Food statistics\n",
        "print(\"\\n\" + \"=\"*50)\n",
        "print(\"📊 FOOD DATABASE STATISTICS\")\n",
        "print(\"=\"*50)\n",
        "print(df_foods.describe().round(2))\n",
        "\n",
        "# Top foods by category\n",
        "print(\"\\n🏆 TOP FOODS BY PROTEIN:\")\n",
        "top_protein = df_foods.nlargest(5, 'protein')[['name', 'protein', 'calories']]\n",
        "for idx, row in top_protein.iterrows():\n",
        "    print(f\"  {row['name']}: {row['protein']:.1f}g protein, {row['calories']:.0f} kcal\")\n",
        "\n",
        "print(\"\\n🌟 TOP FOODS BY QUALITY:\")\n",
        "top_quality = df_foods.nlargest(5, 'quality_score')[['name', 'quality_score', 'calories']]\n",
        "for idx, row in top_quality.iterrows():\n",
        "    print(f\"  {row['name']}: Quality {row['quality_score']:.2f}, {row['calories']:.0f} kcal\")"
      ]
    },
    {
      "cell_type": "markdown",
      "metadata": {},
      "source": [
        "## 🎯 Interactive User Profile Experimentation"
      ]
    },
    {
      "cell_type": "code",
      "execution_count": 10,
      "metadata": {},
      "outputs": [],
      "source": [
        "# !pip install ipywidgets"
      ]
    },
    {
      "cell_type": "code",
      "execution_count": 11,
      "metadata": {},
      "outputs": [
        {
          "name": "stdout",
          "output_type": "stream",
          "text": [
            "🎛️ Interactive User Profile Experimentation:\n",
            "Use the sliders below to see how different parameters affect nutritional needs:\n",
            "\n"
          ]
        },
        {
          "data": {
            "application/vnd.jupyter.widget-view+json": {
              "model_id": "655a57e5a0554200bb732483eef6a6bc",
              "version_major": 2,
              "version_minor": 0
            },
            "text/plain": [
              "interactive(children=(IntSlider(value=30, description='Age:', max=80, min=18), FloatSlider(value=75.0, descrip…"
            ]
          },
          "metadata": {},
          "output_type": "display_data"
        }
      ],
      "source": [
        "# Interactive experimentation with different user profiles\n",
        "try:\n",
        "    from ipywidgets import interact, IntSlider, FloatSlider, Dropdown\n",
        "    \n",
        "    def experiment_user_profile(age=30, weight=75, height=180, activity='MODERATELY_ACTIVE'):\n",
        "        \"\"\"Interactive user profile experimentation\"\"\"\n",
        "        test_profile = UserProfile(\n",
        "            age=age, \n",
        "            gender=Gender.MALE, \n",
        "            weight=weight, \n",
        "            height=height,\n",
        "            activity_level=ActivityLevel[activity], \n",
        "            goals={'weight_goal': Goal.MAINTAIN_WEIGHT}\n",
        "        )\n",
        "        \n",
        "        # Get the summary dictionary\n",
        "        summary = test_profile.get_summary()\n",
        "        personal_info = summary['personal_info']\n",
        "        goals_info = summary['goals']\n",
        "\n",
        "        print(f\"\\n👤 Profile Analysis:\")\n",
        "        print(f\"BMI: {personal_info['bmi']:.1f} ({personal_info['bmi_category']})\")\n",
        "        print(f\"BMR: {goals_info['bmr']:.0f} kcal/day\")\n",
        "        print(f\"Target Calories: {goals_info['target_calories']:.0f} kcal/day\")\n",
        "        print(f\"Protein: {goals_info['macro_grams'][0]:.1f}g ({goals_info['macro_ratios'][0]:.0%})\")\n",
        "        print(f\"Carbs: {goals_info['macro_grams'][1]:.1f}g ({goals_info['macro_ratios'][1]:.0%})\")\n",
        "        print(f\"Fat: {goals_info['macro_grams'][2]:.1f}g ({goals_info['macro_ratios'][2]:.0%})\")\n",
        "        \n",
        "        # Create quick visualization\n",
        "        macros = goals_info['macro_grams']\n",
        "        fig = go.Figure(data=[\n",
        "            go.Pie(labels=['Protein', 'Carbohydrates', 'Fat'],\n",
        "                   values=[macros[0]*4, macros[1]*4, macros[2]*9],\n",
        "                   hole=0.3)\n",
        "        ])\n",
        "        fig.update_layout(\n",
        "            title=f\"Calorie Distribution - {goals_info['target_calories']:.0f} kcal/day\",\n",
        "            template='plotly_white'\n",
        "        )\n",
        "        fig.show()\n",
        "    \n",
        "    # Create interactive widgets\n",
        "    print(\"🎛️ Interactive User Profile Experimentation:\")\n",
        "    print(\"Use the sliders below to see how different parameters affect nutritional needs:\\n\")\n",
        "    \n",
        "    interact(\n",
        "        experiment_user_profile,\n",
        "        age=IntSlider(min=18, max=80, step=1, value=30, description='Age:'),\n",
        "        weight=FloatSlider(min=40, max=150, step=5, value=75, description='Weight (kg):'),\n",
        "        height=IntSlider(min=140, max=220, step=5, value=180, description='Height (cm):'),\n",
        "        activity=Dropdown(\n",
        "            options=['SEDENTARY', 'LIGHTLY_ACTIVE', 'MODERATELY_ACTIVE', 'VERY_ACTIVE', 'EXTREMELY_ACTIVE'],\n",
        "            value='MODERATELY_ACTIVE',\n",
        "            description='Activity Level:'\n",
        "        )\n",
        "    )\n",
        "    \n",
        "except ImportError:\n",
        "    print(\"💡 Install ipywidgets for interactive controls: pip install ipywidgets\")\n",
        "    print(\"\\nShowing sample profile comparisons instead:\")\n",
        "    \n",
        "    # Show sample comparisons\n",
        "    sample_profiles = [\n",
        "        {'name': 'Young Active', 'age': 25, 'weight': 60, 'height': 165, 'activity': 'VERY_ACTIVE'},\n",
        "        {'name': 'Middle-aged', 'age': 40, 'weight': 80, 'height': 175, 'activity': 'MODERATELY_ACTIVE'},\n",
        "        {'name': 'Senior', 'age': 65, 'weight': 70, 'height': 170, 'activity': 'LIGHTLY_ACTIVE'}\n",
        "    ]\n",
        "    \n",
        "    comparison_data = []\n",
        "    for profile_info in sample_profiles:\n",
        "        profile = UserProfile(\n",
        "            age=profile_info['age'], gender='male', \n",
        "            weight=profile_info['weight'], height=profile_info['height'],\n",
        "            activity_level=profile_info['activity'], weight_goal='maintain'\n",
        "        )\n",
        "        comparison_data.append({\n",
        "            'Profile': profile_info['name'],\n",
        "            'Calories': profile.goals['target_calories'],\n",
        "            'Protein': profile.goals['macro_grams'][0],\n",
        "            'Carbs': profile.goals['macro_grams'][1],\n",
        "            'Fat': profile.goals['macro_grams'][2]\n",
        "        })\n",
        "    \n",
        "    df_comparison = pd.DataFrame(comparison_data)\n",
        "    \n",
        "    # Create comparison chart\n",
        "    fig = go.Figure()\n",
        "    \n",
        "    fig.add_trace(go.Bar(\n",
        "        name='Calories', \n",
        "        x=df_comparison['Profile'], \n",
        "        y=df_comparison['Calories'],\n",
        "        marker_color='skyblue',\n",
        "        text=[f\"{cal:.0f}\" for cal in df_comparison['Calories']],\n",
        "        textposition='auto'\n",
        "    ))\n",
        "    \n",
        "    fig.update_layout(\n",
        "        title='📊 Sample Profile Comparison - Daily Calorie Needs',\n",
        "        yaxis_title='Calories',\n",
        "        height=400,\n",
        "        template='plotly_white'\n",
        "    )\n",
        "    \n",
        "    fig.show()\n",
        "    \n",
        "    print(\"\\n📋 Sample Profile Comparison:\")\n",
        "    print(df_comparison.to_string(index=False))"
      ]
    },
    {
      "cell_type": "markdown",
      "metadata": {},
      "source": [
        "## 🧪 Quick Training Session (Optional)"
      ]
    },
    {
      "cell_type": "code",
      "execution_count": 12,
      "metadata": {},
      "outputs": [
        {
          "name": "stdout",
          "output_type": "stream",
          "text": [
            "💡 Set ENABLE_QUICK_TRAINING = True to run a quick training session\n",
            "   (This will create and train a new agent from scratch)\n"
          ]
        }
      ],
      "source": [
        "# Quick training session in notebook\n",
        "# WARNING: This will train a new agent from scratch!\n",
        "\n",
        "ENABLE_QUICK_TRAINING = False  # Change to True to enable\n",
        "\n",
        "if ENABLE_QUICK_TRAINING and RL_AVAILABLE:\n",
        "    print(\"🚀 Starting quick training session...\")\n",
        "    print(\"⚠️  This will create a new agent and train from scratch!\")\n",
        "    \n",
        "    # Create fresh agent\n",
        "    quick_agent = PPOAgent(obs_dim, action_dim, config)\n",
        "    \n",
        "    # Train for a few episodes with real-time plotting\n",
        "    training_episodes = 30\n",
        "    print(f\"Training for {training_episodes} episodes...\")\n",
        "    \n",
        "    quick_history = quick_agent.train(\n",
        "        environment=env, \n",
        "        num_episodes=training_episodes, \n",
        "        update_frequency=5\n",
        "    )\n",
        "    \n",
        "    # Plot live results\n",
        "    rewards = quick_history['episode_rewards']\n",
        "    episodes = list(range(len(rewards)))\n",
        "    \n",
        "    fig = go.Figure()\n",
        "    fig.add_trace(go.Scatter(\n",
        "        x=episodes, y=rewards,\n",
        "        mode='lines+markers',\n",
        "        name='Training Rewards',\n",
        "        line=dict(color='blue', width=2),\n",
        "        marker=dict(size=4)\n",
        "    ))\n",
        "    \n",
        "    fig.update_layout(\n",
        "        title=f'🏃‍♂️ Quick Training Results ({training_episodes} episodes)',\n",
        "        xaxis_title='Episode',\n",
        "        yaxis_title='Reward',\n",
        "        height=400,\n",
        "        template='plotly_white'\n",
        "    )\n",
        "    \n",
        "    fig.show()\n",
        "    \n",
        "    print(f\"✅ Quick training completed!\")\n",
        "    print(f\"Initial reward: {rewards[0]:.3f}\")\n",
        "    print(f\"Final reward: {rewards[-1]:.3f}\")\n",
        "    print(f\"Improvement: {((rewards[-1] - rewards[0]) / abs(rewards[0]) * 100 if rewards[0] != 0 else 0):.1f}%\")\n",
        "    \n",
        "else:\n",
        "    print(\"💡 Set ENABLE_QUICK_TRAINING = True to run a quick training session\")\n",
        "    print(\"   (This will create and train a new agent from scratch)\")\n",
        "    \n",
        "    if not RL_AVAILABLE:\n",
        "        print(\"❌ RL components not available - cannot train\")"
      ]
    }
  ],
  "metadata": {
    "kernelspec": {
      "display_name": ".venv",
      "language": "python",
      "name": "python3"
    },
    "language_info": {
      "codemirror_mode": {
        "name": "ipython",
        "version": 3
      },
      "file_extension": ".py",
      "mimetype": "text/x-python",
      "name": "python",
      "nbconvert_exporter": "python",
      "pygments_lexer": "ipython3",
      "version": "3.11.9"
    }
  },
  "nbformat": 4,
  "nbformat_minor": 4
}
